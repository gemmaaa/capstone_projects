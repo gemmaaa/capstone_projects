{
 "cells": [
  {
   "cell_type": "markdown",
   "metadata": {},
   "source": [
    "## Blog Authors Prediction\n",
    "\n",
    "###  Abstract\n",
    "\n",
    "Using nltk and spacy, predict the author of blog posts from a corpus of blogs of approximately 200 authors.\n",
    "\n",
    "### Introduction\n",
    "\n",
    "Generally, different authors of writings can be distinguished based on the writing style, such as the word choices, sentence lengths, content of the writing, etc. With NLP techniques there is a variety of analyses that can be run on text, both to quantify said features, as well as to take a look at other features of the text as well. I wanted to take a look at how different blogs by different authors were ranked, and see how well the author of posts could be classified or predicted with these methods.\n",
    "\n",
    "The dataset I used, [Blog Authorship Corpus](https://u.cs.biu.ac.il/~koppel/BlogCorpus.htm), contained posts from 19,320 bloggers. However, I reduced the number to approximately 200 (the exact number varies each time the code is run) blogs for this analysis. In addition to the blog posts and the author, identified by a number, the data contains the zodiac sign of the author, their age, and their industry. \n",
    "\n",
    "### Goals\n",
    "\n",
    "The goals of this project were to \n",
    "\n",
    "1. distinguish different features present in the text\n",
    "2. use these features to predict the author of each blog post\n",
    "\n",
    "### Imports"
   ]
  },
  {
   "cell_type": "code",
   "execution_count": 1,
   "metadata": {},
   "outputs": [],
   "source": [
    "import numpy as np\n",
    "import pandas as pd\n",
    "import scipy\n",
    "import matplotlib.pyplot as plt\n",
    "import seaborn as sns\n",
    "%matplotlib inline\n",
    "\n",
    "import spacy\n",
    "from collections import Counter\n",
    "\n",
    "import re\n",
    "from sklearn.model_selection import train_test_split\n",
    "\n",
    "import xml.etree.ElementTree as ET\n",
    "import os\n",
    "from time import time"
   ]
  },
  {
   "cell_type": "markdown",
   "metadata": {},
   "source": [
    "\n",
    "Looking at the blog posts, let's first get the file path and create a list of the filenames to read in from.\n",
    "\n",
    "# Part 1 - Getting and organizing the data"
   ]
  },
  {
   "cell_type": "code",
   "execution_count": 2,
   "metadata": {},
   "outputs": [],
   "source": [
    "path_blogs = '/Users/gemma/Documents/data science/blogs/'\n",
    "blog_files = os.listdir(path_blogs)"
   ]
  },
  {
   "cell_type": "code",
   "execution_count": 3,
   "metadata": {},
   "outputs": [
    {
     "data": {
      "text/plain": [
       "'3954575.female.23.BusinessServices.Gemini.xml'"
      ]
     },
     "execution_count": 3,
     "metadata": {},
     "output_type": "execute_result"
    }
   ],
   "source": [
    "# looking at the structure of the filename\n",
    "blog_files[2]"
   ]
  },
  {
   "cell_type": "markdown",
   "metadata": {},
   "source": [
    "Let's see how many blogs we're working with:"
   ]
  },
  {
   "cell_type": "code",
   "execution_count": 4,
   "metadata": {},
   "outputs": [
    {
     "data": {
      "text/plain": [
       "19320"
      ]
     },
     "execution_count": 4,
     "metadata": {},
     "output_type": "execute_result"
    }
   ],
   "source": [
    "len(blog_files)"
   ]
  },
  {
   "cell_type": "markdown",
   "metadata": {},
   "source": [
    "Next, I'll try to read one blog in and take a look at the structure inside the file."
   ]
  },
  {
   "cell_type": "code",
   "execution_count": 5,
   "metadata": {},
   "outputs": [
    {
     "name": "stdout",
     "output_type": "stream",
     "text": [
      "/Users/gemma/Documents/data science/blogs/3364931.male.16.Student.Virgo.xml\n"
     ]
    }
   ],
   "source": [
    "#file = filenames_BNC[5]   # the BNC\n",
    "\n",
    "file = path_blogs+blog_files[3] # blogs\n",
    "\n",
    "#file = path_s+files_s[0]   # sumerian texts\n",
    "\n",
    "print(file)\n",
    "\n",
    "# parse the tree and get the root to iterate from later\n",
    "\n",
    "tree = ET.parse(file)\n",
    "root = tree.getroot()"
   ]
  },
  {
   "cell_type": "markdown",
   "metadata": {},
   "source": [
    "It looks like there is an issue parsing in the file to the tree due to the character <code>& nbsp;</code>. Let's go through the files, replace all the <code>& nbsp;</code>s with spaces, and then see if it'll work.\n",
    "\n",
    "Some useful info on reading in files in general and the different modes you can read them in / write them in: [here](https://www.guru99.com/reading-and-writing-files-in-python.html#3).\n",
    "\n",
    "Also info about how to make the tree from a string was found on [stack overflow](https://stackoverflow.com/questions/647071/python-xml-elementtree-from-a-string-source)."
   ]
  },
  {
   "cell_type": "code",
   "execution_count": 6,
   "metadata": {},
   "outputs": [],
   "source": [
    "def file_to_string(filename):\n",
    "    \n",
    "    f=open(filename, \"r\") #open the file in read mode. don't change it2 write, otherwise... :D\n",
    "\n",
    "    if f.mode == 'r': # double check that it's in read mode\n",
    "        text = f.read() # read the file to the text\n",
    "    \n",
    "    space = re.compile('&nbsp;') # this was preventing it from parsing straight from the file\n",
    "    text = re.sub(space, \" \", text) # sub the problem char out with a space\n",
    "    \n",
    "    #sometimes & is used as and or is just in the text - accounting for those situations\n",
    "    \n",
    "    andd = re.compile('& ')\n",
    "    text = re.sub(andd, \"and \", text) #\n",
    "    \n",
    "    randomand = re.compile('&')\n",
    "    text = re.sub(randomand, \"\", text)\n",
    "    \n",
    "    ugh = re.compile('<>')\n",
    "    text = re.sub(ugh, \"\", text)\n",
    "    \n",
    "    face = re.compile('>.<')\n",
    "    text = re.sub(face, \"\", text)\n",
    "    \n",
    "    return text"
   ]
  },
  {
   "cell_type": "markdown",
   "metadata": {},
   "source": [
    "Let's take a look at all of the elements in the tree."
   ]
  },
  {
   "cell_type": "code",
   "execution_count": 7,
   "metadata": {},
   "outputs": [
    {
     "data": {
      "text/plain": [
       "{'Blog', 'date', 'post'}"
      ]
     },
     "execution_count": 7,
     "metadata": {},
     "output_type": "execute_result"
    }
   ],
   "source": [
    "set([elem.tag for elem in root.iter()])\n",
    "\n",
    "# another way to look at the structure of the doc: \n",
    "\n",
    "#for thing in root.getiterator():\n",
    "#    print(thing)"
   ]
  },
  {
   "cell_type": "markdown",
   "metadata": {},
   "source": [
    "Next, in order to create the dataframe, let's create a function to get the data out of each xml file that has been parsed to a string with the function defined above.\n",
    "\n",
    "Let's also use the previously used text cleaner function to clean up the text in each post."
   ]
  },
  {
   "cell_type": "code",
   "execution_count": 8,
   "metadata": {},
   "outputs": [],
   "source": [
    "def text_cleaner(text):\n",
    "    # Visual inspection identifies a form of punctuation spaCy does not\n",
    "    # recognize: the double dash '--'.  Better get rid of it now!\n",
    "    text = re.sub(r'--',' ',text)\n",
    "    text = re.sub(\"[\\[].*?[\\]]\", \"\", text)\n",
    "    text = ' '.join(text.split())\n",
    "    return text"
   ]
  },
  {
   "cell_type": "code",
   "execution_count": 9,
   "metadata": {},
   "outputs": [],
   "source": [
    "# before using this function, i'll have to remember to define the 3 lists \n",
    "\n",
    "def split_data(filename, dates, posts, authors):\n",
    "\n",
    "    file_as_text = file_to_string(path_blogs+filename)\n",
    "    #file_as_text = file_to_string(filename)\n",
    "        \n",
    "    # since we are going to get the tree from a string and not a file \n",
    "    # we can't use ET.parse, and will use the following\n",
    "    \n",
    "    tree = ET.ElementTree(ET.fromstring(file_as_text))\n",
    "    root = tree.getroot()\n",
    "\n",
    "    for post_date in root.findall('date'):\n",
    "        \n",
    "        # replace the , with . so the structure is consistent\n",
    "        date_split = re.sub(r\",\", \"-\", post_date.text)\n",
    "        dates.append(date_split)\n",
    "        \n",
    "        authors.append(filename)\n",
    "        \n",
    "    for post_itself in root.findall('post'):\n",
    "        \n",
    "        cleaned = text_cleaner(post_itself.text)\n",
    "        posts.append(cleaned)\n",
    "    \n",
    "    return "
   ]
  },
  {
   "cell_type": "markdown",
   "metadata": {},
   "source": [
    "We'll pick 250 files randomly to try to read in data from, to use in the dataframe. Then we'll have extra files in case a significant amount of them have errors and can't be read in on a first try. "
   ]
  },
  {
   "cell_type": "code",
   "execution_count": 10,
   "metadata": {},
   "outputs": [],
   "source": [
    "selected = np.random.choice(blog_files,250)"
   ]
  },
  {
   "cell_type": "markdown",
   "metadata": {},
   "source": [
    "<em>Info about error handling from [here](https://docs.python.org/3/tutorial/errors.html)</em>"
   ]
  },
  {
   "cell_type": "code",
   "execution_count": 11,
   "metadata": {
    "scrolled": true
   },
   "outputs": [
    {
     "name": "stdout",
     "output_type": "stream",
     "text": [
      "error count = 11\n"
     ]
    }
   ],
   "source": [
    "# the lists (and 1 dict) are \n",
    "\n",
    "dates = []\n",
    "posts = []\n",
    "authors = []\n",
    "\n",
    "count = 0\n",
    "\n",
    "for i, file in enumerate(selected):\n",
    "    try:\n",
    "        split_data(file, dates, posts, authors)    \n",
    "    except:\n",
    "        #UnicodeDecodeError:\n",
    "        #print('Error with {}'.format(i))\n",
    "        count+=1\n",
    "    \n",
    "print('error count = {}'.format(count))"
   ]
  },
  {
   "cell_type": "code",
   "execution_count": 12,
   "metadata": {},
   "outputs": [],
   "source": [
    "# make a dictionary from authors to create the dataframe from there\n",
    "\n",
    "author_dict = {}\n",
    "\n",
    "for i, value in enumerate(authors):\n",
    "    separated = value.split(\".\")\n",
    "    author_dict[i] = separated[:-1]\n"
   ]
  },
  {
   "cell_type": "code",
   "execution_count": 13,
   "metadata": {},
   "outputs": [],
   "source": [
    "df = pd.DataFrame.from_dict(data=author_dict, orient='index', columns=['author_id', 'gender', \n",
    "                                                       'age', 'industry', 'sign'] )\n",
    "\n",
    "df['date'] = dates\n",
    "df['post'] = posts"
   ]
  },
  {
   "cell_type": "code",
   "execution_count": 14,
   "metadata": {},
   "outputs": [
    {
     "data": {
      "text/html": [
       "<div>\n",
       "<style scoped>\n",
       "    .dataframe tbody tr th:only-of-type {\n",
       "        vertical-align: middle;\n",
       "    }\n",
       "\n",
       "    .dataframe tbody tr th {\n",
       "        vertical-align: top;\n",
       "    }\n",
       "\n",
       "    .dataframe thead th {\n",
       "        text-align: right;\n",
       "    }\n",
       "</style>\n",
       "<table border=\"1\" class=\"dataframe\">\n",
       "  <thead>\n",
       "    <tr style=\"text-align: right;\">\n",
       "      <th></th>\n",
       "      <th>author_id</th>\n",
       "      <th>gender</th>\n",
       "      <th>age</th>\n",
       "      <th>industry</th>\n",
       "      <th>sign</th>\n",
       "      <th>date</th>\n",
       "      <th>post</th>\n",
       "    </tr>\n",
       "  </thead>\n",
       "  <tbody>\n",
       "    <tr>\n",
       "      <th>0</th>\n",
       "      <td>2884983</td>\n",
       "      <td>female</td>\n",
       "      <td>14</td>\n",
       "      <td>Student</td>\n",
       "      <td>Gemini</td>\n",
       "      <td>29-February-2004</td>\n",
       "      <td>g'day to all. how's it hanging? :) I am feelin...</td>\n",
       "    </tr>\n",
       "    <tr>\n",
       "      <th>1</th>\n",
       "      <td>2884983</td>\n",
       "      <td>female</td>\n",
       "      <td>14</td>\n",
       "      <td>Student</td>\n",
       "      <td>Gemini</td>\n",
       "      <td>26-February-2004</td>\n",
       "      <td>I was so close to losing the computer. it was ...</td>\n",
       "    </tr>\n",
       "    <tr>\n",
       "      <th>2</th>\n",
       "      <td>2884983</td>\n",
       "      <td>female</td>\n",
       "      <td>14</td>\n",
       "      <td>Student</td>\n",
       "      <td>Gemini</td>\n",
       "      <td>25-February-2004</td>\n",
       "      <td>I love that band, it is awesome. they are so r...</td>\n",
       "    </tr>\n",
       "    <tr>\n",
       "      <th>3</th>\n",
       "      <td>2884983</td>\n",
       "      <td>female</td>\n",
       "      <td>14</td>\n",
       "      <td>Student</td>\n",
       "      <td>Gemini</td>\n",
       "      <td>24-February-2004</td>\n",
       "      <td>Illenips has her rugby, curly has her silverch...</td>\n",
       "    </tr>\n",
       "    <tr>\n",
       "      <th>4</th>\n",
       "      <td>2884983</td>\n",
       "      <td>female</td>\n",
       "      <td>14</td>\n",
       "      <td>Student</td>\n",
       "      <td>Gemini</td>\n",
       "      <td>23-February-2004</td>\n",
       "      <td>I havent been coming here so much anymore,. be...</td>\n",
       "    </tr>\n",
       "  </tbody>\n",
       "</table>\n",
       "</div>"
      ],
      "text/plain": [
       "  author_id  gender age industry    sign              date  \\\n",
       "0   2884983  female  14  Student  Gemini  29-February-2004   \n",
       "1   2884983  female  14  Student  Gemini  26-February-2004   \n",
       "2   2884983  female  14  Student  Gemini  25-February-2004   \n",
       "3   2884983  female  14  Student  Gemini  24-February-2004   \n",
       "4   2884983  female  14  Student  Gemini  23-February-2004   \n",
       "\n",
       "                                                post  \n",
       "0  g'day to all. how's it hanging? :) I am feelin...  \n",
       "1  I was so close to losing the computer. it was ...  \n",
       "2  I love that band, it is awesome. they are so r...  \n",
       "3  Illenips has her rugby, curly has her silverch...  \n",
       "4  I havent been coming here so much anymore,. be...  "
      ]
     },
     "execution_count": 14,
     "metadata": {},
     "output_type": "execute_result"
    }
   ],
   "source": [
    "df.head()"
   ]
  },
  {
   "cell_type": "markdown",
   "metadata": {},
   "source": [
    "After separating and re combining the data into the dataframe, I'll use spacy to parse the blog posts."
   ]
  },
  {
   "cell_type": "code",
   "execution_count": 15,
   "metadata": {},
   "outputs": [],
   "source": [
    "nlp = spacy.load('en_core_web_lg')\n",
    "\n",
    "df['parsed'] = df['post'].apply(nlp)"
   ]
  },
  {
   "cell_type": "markdown",
   "metadata": {},
   "source": [
    "I found that some of the months are not in English, which leads to the assumption that some of the posts are not in English. Originally I just replaced the months with the english but the analysis of the text won't work since we are only loading the English language.\n",
    "\n",
    "I'll use Google Cloud API to check the language of each row, and then drop rows that aren't in English. I used these resources: [Translation API Client Libraries](https://cloud.google.com/translate/docs/reference/libraries) (and [explicitly adding credentials](https://cloud.google.com/docs/authentication/production)) and [Detecting the lang of a string](https://cloud.google.com/translate/docs/detecting-language#translate_detect_language-python) . \n",
    "\n",
    "Another resource - [lang detect](https://pypi.org/project/langdetect/)."
   ]
  },
  {
   "cell_type": "code",
   "execution_count": 16,
   "metadata": {},
   "outputs": [],
   "source": [
    "#export GOOGLE_APPLICATION_CREDENTIALS=\"\"\"/Users/gemma/Documents/data science/DS Bootcamp/\n",
    "#                                         My First Project-901fbdcc624d.json\"\"\"\n",
    "\n",
    "# Imports the Google Cloud client library\n",
    "from google.cloud import translate\n",
    "\n",
    "# Instantiates a client\n",
    "translate_client = translate.Client.from_service_account_json(\n",
    "        '/Users/gemma/Documents/data science/DS Bootcamp/My First Project-901fbdcc624d.json')\n"
   ]
  },
  {
   "cell_type": "code",
   "execution_count": 17,
   "metadata": {},
   "outputs": [],
   "source": [
    "# running this on the whole sries made me hit the quota on the79th row, so im\n",
    "# just going to look at the first 50 char of each post\n",
    "\n",
    "def check_fifty_char(series):\n",
    "    return translate_client.detect_language(series[:15])\n",
    "\n",
    "df['lang'] = df['post'].apply(check_fifty_char)\n"
   ]
  },
  {
   "cell_type": "code",
   "execution_count": 18,
   "metadata": {},
   "outputs": [],
   "source": [
    "def check_lang(series):\n",
    "    if series['language'] != \"en\":\n",
    "        series = np.nan\n",
    "    return\n",
    "\n",
    "# substitute non english with NaN\n",
    "df['lang'].apply(check_lang)\n",
    "\n",
    "# drop the rows of NaN - can't use non English data in this analysis \n",
    "df.dropna(axis=0, how='any', inplace=True)\n"
   ]
  },
  {
   "cell_type": "code",
   "execution_count": 19,
   "metadata": {},
   "outputs": [],
   "source": [
    "# now that we're done with the language column, let's drop it \n",
    "\n",
    "df.drop('lang', axis=1, inplace=True)"
   ]
  },
  {
   "cell_type": "code",
   "execution_count": 20,
   "metadata": {},
   "outputs": [
    {
     "data": {
      "text/html": [
       "<div>\n",
       "<style scoped>\n",
       "    .dataframe tbody tr th:only-of-type {\n",
       "        vertical-align: middle;\n",
       "    }\n",
       "\n",
       "    .dataframe tbody tr th {\n",
       "        vertical-align: top;\n",
       "    }\n",
       "\n",
       "    .dataframe thead th {\n",
       "        text-align: right;\n",
       "    }\n",
       "</style>\n",
       "<table border=\"1\" class=\"dataframe\">\n",
       "  <thead>\n",
       "    <tr style=\"text-align: right;\">\n",
       "      <th></th>\n",
       "      <th>author_id</th>\n",
       "      <th>gender</th>\n",
       "      <th>age</th>\n",
       "      <th>industry</th>\n",
       "      <th>sign</th>\n",
       "      <th>date</th>\n",
       "      <th>post</th>\n",
       "      <th>parsed</th>\n",
       "    </tr>\n",
       "  </thead>\n",
       "  <tbody>\n",
       "  </tbody>\n",
       "</table>\n",
       "</div>"
      ],
      "text/plain": [
       "Empty DataFrame\n",
       "Columns: [author_id, gender, age, industry, sign, date, post, parsed]\n",
       "Index: []"
      ]
     },
     "execution_count": 20,
     "metadata": {},
     "output_type": "execute_result"
    }
   ],
   "source": [
    "# someone has julio, agosto, and maj in their date but the post is still in english\n",
    "df[df['date'].str.contains(\"maj\")]"
   ]
  },
  {
   "cell_type": "markdown",
   "metadata": {},
   "source": [
    "Even after checking the language, and dropping all non English posts, some of the months are still spelt incorrectly and are causing errors. I double checked the erroneous rows to make sure the posts were in English, and then I will replace the strings that flag as errors when trying to run cell 94 below."
   ]
  },
  {
   "cell_type": "code",
   "execution_count": 21,
   "metadata": {},
   "outputs": [],
   "source": [
    "# some months either in other langs (which will bring some other issues later on) or \n",
    "# just spelled wrong\n",
    "replacing = {\"Mai\":\"May\", \"mayo\": \"May\", \"mei\": \"May\", \"Agosto\":\"August\", \"juli\":\"July\", \n",
    "             \"Julho\":\"July\", \"Juli\":\"July\", \"mars\":\"March\", \"juni\": \"June\", \"Juni\":\"June\", \n",
    "             \"augustus\": \"August\", \"agosto\":\"August\", 'augusti':'Agusut', \"Agusut\":\"August\",\n",
    "            \"Dezember\": \"December\", \"Januar\": \"January\", \"Januaryy\": \"January\",\n",
    "            \"Januaryy\": \"Jan\", \"Jany\": \"Jan\", \"Februar\": \"Feb\", \"Feby\": \"Feb\",\n",
    "              \"julio\": \"July\", \"maj\": \"May\", \"juni\": \"June\", \"juin\": \"June\", \"juillet\":\"July\"}\n",
    "                            \n",
    "for k in replacing.keys():\n",
    "    df['date'] = df['date'].str.replace(k,replacing[k],regex=False)"
   ]
  },
  {
   "cell_type": "code",
   "execution_count": 22,
   "metadata": {},
   "outputs": [],
   "source": [
    "df['date'] = pd.to_datetime(df['date'])"
   ]
  },
  {
   "cell_type": "code",
   "execution_count": 23,
   "metadata": {},
   "outputs": [],
   "source": [
    "df['month'] = df['date'].dt.month"
   ]
  },
  {
   "cell_type": "code",
   "execution_count": 24,
   "metadata": {},
   "outputs": [],
   "source": [
    "df['day'] = df['date'].dt.day\n",
    "df['year'] = df['date'].dt.year"
   ]
  },
  {
   "cell_type": "code",
   "execution_count": 25,
   "metadata": {},
   "outputs": [],
   "source": [
    "df['gender'] = np.where(df['gender'] == 'male', 1, 0)\n",
    "\n",
    "#binarize gender since only male or female are options here"
   ]
  },
  {
   "cell_type": "code",
   "execution_count": 26,
   "metadata": {},
   "outputs": [
    {
     "data": {
      "text/html": [
       "<div>\n",
       "<style scoped>\n",
       "    .dataframe tbody tr th:only-of-type {\n",
       "        vertical-align: middle;\n",
       "    }\n",
       "\n",
       "    .dataframe tbody tr th {\n",
       "        vertical-align: top;\n",
       "    }\n",
       "\n",
       "    .dataframe thead th {\n",
       "        text-align: right;\n",
       "    }\n",
       "</style>\n",
       "<table border=\"1\" class=\"dataframe\">\n",
       "  <thead>\n",
       "    <tr style=\"text-align: right;\">\n",
       "      <th></th>\n",
       "      <th>author_id</th>\n",
       "      <th>gender</th>\n",
       "      <th>age</th>\n",
       "      <th>industry</th>\n",
       "      <th>sign</th>\n",
       "      <th>date</th>\n",
       "      <th>post</th>\n",
       "      <th>parsed</th>\n",
       "      <th>month</th>\n",
       "      <th>day</th>\n",
       "      <th>year</th>\n",
       "    </tr>\n",
       "  </thead>\n",
       "  <tbody>\n",
       "    <tr>\n",
       "      <th>0</th>\n",
       "      <td>2884983</td>\n",
       "      <td>0</td>\n",
       "      <td>14</td>\n",
       "      <td>Student</td>\n",
       "      <td>Gemini</td>\n",
       "      <td>2004-02-29</td>\n",
       "      <td>g'day to all. how's it hanging? :) I am feelin...</td>\n",
       "      <td>(g'day, to, all, ., how, 's, it, hanging, ?, :...</td>\n",
       "      <td>2</td>\n",
       "      <td>29</td>\n",
       "      <td>2004</td>\n",
       "    </tr>\n",
       "    <tr>\n",
       "      <th>1</th>\n",
       "      <td>2884983</td>\n",
       "      <td>0</td>\n",
       "      <td>14</td>\n",
       "      <td>Student</td>\n",
       "      <td>Gemini</td>\n",
       "      <td>2004-02-26</td>\n",
       "      <td>I was so close to losing the computer. it was ...</td>\n",
       "      <td>(I, was, so, close, to, losing, the, computer,...</td>\n",
       "      <td>2</td>\n",
       "      <td>26</td>\n",
       "      <td>2004</td>\n",
       "    </tr>\n",
       "    <tr>\n",
       "      <th>2</th>\n",
       "      <td>2884983</td>\n",
       "      <td>0</td>\n",
       "      <td>14</td>\n",
       "      <td>Student</td>\n",
       "      <td>Gemini</td>\n",
       "      <td>2004-02-25</td>\n",
       "      <td>I love that band, it is awesome. they are so r...</td>\n",
       "      <td>(I, love, that, band, ,, it, is, awesome, ., t...</td>\n",
       "      <td>2</td>\n",
       "      <td>25</td>\n",
       "      <td>2004</td>\n",
       "    </tr>\n",
       "  </tbody>\n",
       "</table>\n",
       "</div>"
      ],
      "text/plain": [
       "  author_id  gender age industry    sign       date  \\\n",
       "0   2884983       0  14  Student  Gemini 2004-02-29   \n",
       "1   2884983       0  14  Student  Gemini 2004-02-26   \n",
       "2   2884983       0  14  Student  Gemini 2004-02-25   \n",
       "\n",
       "                                                post  \\\n",
       "0  g'day to all. how's it hanging? :) I am feelin...   \n",
       "1  I was so close to losing the computer. it was ...   \n",
       "2  I love that band, it is awesome. they are so r...   \n",
       "\n",
       "                                              parsed  month  day  year  \n",
       "0  (g'day, to, all, ., how, 's, it, hanging, ?, :...      2   29  2004  \n",
       "1  (I, was, so, close, to, losing, the, computer,...      2   26  2004  \n",
       "2  (I, love, that, band, ,, it, is, awesome, ., t...      2   25  2004  "
      ]
     },
     "execution_count": 26,
     "metadata": {},
     "output_type": "execute_result"
    }
   ],
   "source": [
    "df.head(3)"
   ]
  },
  {
   "cell_type": "markdown",
   "metadata": {},
   "source": [
    "## Part 1.2 - Features\n",
    "\n",
    "I'll binarize the categorical data (indsustry and sign), drop the redundant columns, and create some new features."
   ]
  },
  {
   "cell_type": "code",
   "execution_count": 27,
   "metadata": {},
   "outputs": [],
   "source": [
    "binned = pd.get_dummies(df.loc[:,['industry','sign']])\n",
    "\n",
    "df = pd.concat([df.drop(['industry','sign','date'], 1), \n",
    "                     binned], axis=1) \n"
   ]
  },
  {
   "cell_type": "code",
   "execution_count": 28,
   "metadata": {},
   "outputs": [
    {
     "data": {
      "text/html": [
       "<div>\n",
       "<style scoped>\n",
       "    .dataframe tbody tr th:only-of-type {\n",
       "        vertical-align: middle;\n",
       "    }\n",
       "\n",
       "    .dataframe tbody tr th {\n",
       "        vertical-align: top;\n",
       "    }\n",
       "\n",
       "    .dataframe thead th {\n",
       "        text-align: right;\n",
       "    }\n",
       "</style>\n",
       "<table border=\"1\" class=\"dataframe\">\n",
       "  <thead>\n",
       "    <tr style=\"text-align: right;\">\n",
       "      <th></th>\n",
       "      <th>author_id</th>\n",
       "      <th>gender</th>\n",
       "      <th>age</th>\n",
       "      <th>post</th>\n",
       "      <th>parsed</th>\n",
       "      <th>month</th>\n",
       "      <th>day</th>\n",
       "      <th>year</th>\n",
       "      <th>industry_Accounting</th>\n",
       "      <th>industry_Advertising</th>\n",
       "      <th>...</th>\n",
       "      <th>sign_Cancer</th>\n",
       "      <th>sign_Capricorn</th>\n",
       "      <th>sign_Gemini</th>\n",
       "      <th>sign_Leo</th>\n",
       "      <th>sign_Libra</th>\n",
       "      <th>sign_Pisces</th>\n",
       "      <th>sign_Sagittarius</th>\n",
       "      <th>sign_Scorpio</th>\n",
       "      <th>sign_Taurus</th>\n",
       "      <th>sign_Virgo</th>\n",
       "    </tr>\n",
       "  </thead>\n",
       "  <tbody>\n",
       "    <tr>\n",
       "      <th>0</th>\n",
       "      <td>2884983</td>\n",
       "      <td>0</td>\n",
       "      <td>14</td>\n",
       "      <td>g'day to all. how's it hanging? :) I am feelin...</td>\n",
       "      <td>(g'day, to, all, ., how, 's, it, hanging, ?, :...</td>\n",
       "      <td>2</td>\n",
       "      <td>29</td>\n",
       "      <td>2004</td>\n",
       "      <td>0</td>\n",
       "      <td>0</td>\n",
       "      <td>...</td>\n",
       "      <td>0</td>\n",
       "      <td>0</td>\n",
       "      <td>1</td>\n",
       "      <td>0</td>\n",
       "      <td>0</td>\n",
       "      <td>0</td>\n",
       "      <td>0</td>\n",
       "      <td>0</td>\n",
       "      <td>0</td>\n",
       "      <td>0</td>\n",
       "    </tr>\n",
       "    <tr>\n",
       "      <th>1</th>\n",
       "      <td>2884983</td>\n",
       "      <td>0</td>\n",
       "      <td>14</td>\n",
       "      <td>I was so close to losing the computer. it was ...</td>\n",
       "      <td>(I, was, so, close, to, losing, the, computer,...</td>\n",
       "      <td>2</td>\n",
       "      <td>26</td>\n",
       "      <td>2004</td>\n",
       "      <td>0</td>\n",
       "      <td>0</td>\n",
       "      <td>...</td>\n",
       "      <td>0</td>\n",
       "      <td>0</td>\n",
       "      <td>1</td>\n",
       "      <td>0</td>\n",
       "      <td>0</td>\n",
       "      <td>0</td>\n",
       "      <td>0</td>\n",
       "      <td>0</td>\n",
       "      <td>0</td>\n",
       "      <td>0</td>\n",
       "    </tr>\n",
       "  </tbody>\n",
       "</table>\n",
       "<p>2 rows × 50 columns</p>\n",
       "</div>"
      ],
      "text/plain": [
       "  author_id  gender age                                               post  \\\n",
       "0   2884983       0  14  g'day to all. how's it hanging? :) I am feelin...   \n",
       "1   2884983       0  14  I was so close to losing the computer. it was ...   \n",
       "\n",
       "                                              parsed  month  day  year  \\\n",
       "0  (g'day, to, all, ., how, 's, it, hanging, ?, :...      2   29  2004   \n",
       "1  (I, was, so, close, to, losing, the, computer,...      2   26  2004   \n",
       "\n",
       "   industry_Accounting  industry_Advertising     ...      sign_Cancer  \\\n",
       "0                    0                     0     ...                0   \n",
       "1                    0                     0     ...                0   \n",
       "\n",
       "   sign_Capricorn  sign_Gemini  sign_Leo  sign_Libra  sign_Pisces  \\\n",
       "0               0            1         0           0            0   \n",
       "1               0            1         0           0            0   \n",
       "\n",
       "   sign_Sagittarius  sign_Scorpio  sign_Taurus  sign_Virgo  \n",
       "0                 0             0            0           0  \n",
       "1                 0             0            0           0  \n",
       "\n",
       "[2 rows x 50 columns]"
      ]
     },
     "execution_count": 28,
     "metadata": {},
     "output_type": "execute_result"
    }
   ],
   "source": [
    "df.head(2)"
   ]
  },
  {
   "cell_type": "markdown",
   "metadata": {},
   "source": [
    "For features, I'll add a word count, a vector of the entire blog post, a pronoun count per post, and then use Bag of Words and add the most common 150 words as features as well."
   ]
  },
  {
   "cell_type": "code",
   "execution_count": 29,
   "metadata": {},
   "outputs": [],
   "source": [
    "df[\"word_count\"] = len(df['parsed'])"
   ]
  },
  {
   "cell_type": "code",
   "execution_count": 30,
   "metadata": {},
   "outputs": [],
   "source": [
    "# getting vectors with spacy, will also get vectors with unsupervised methods later on\n",
    "\n",
    "def get_post_vector(post):\n",
    "    span = post\n",
    "    if span.has_vector:\n",
    "        return span.vector_norm\n",
    "    else:\n",
    "        return 0\n",
    "\n",
    "df['vector'] = df['parsed'].apply(get_post_vector)"
   ]
  },
  {
   "cell_type": "code",
   "execution_count": 31,
   "metadata": {},
   "outputs": [],
   "source": [
    "def get_pron_count(text):\n",
    "    count = 0\n",
    "    for token in text:\n",
    "        if token.pos_ == \"PRON\":\n",
    "            count+=1\n",
    "    return count\n",
    "\n",
    "df['pronoun_count'] = df['parsed'].apply(get_pron_count)"
   ]
  },
  {
   "cell_type": "markdown",
   "metadata": {},
   "source": [
    "Bag of Words"
   ]
  },
  {
   "cell_type": "code",
   "execution_count": 32,
   "metadata": {},
   "outputs": [
    {
     "name": "stdout",
     "output_type": "stream",
     "text": [
      "1348768\n"
     ]
    }
   ],
   "source": [
    "def bag_of_words(text, all_words):\n",
    "    \n",
    "    # Filter out punctuation and stop words.\n",
    "    all_words += ([token.lemma_\n",
    "                for token in text\n",
    "                if not token.is_punct\n",
    "                and not token.is_stop])\n",
    "    \n",
    "    # Return the most common words.\n",
    "    #return [item[0] for item in Counter(allwords).most_common(1000)]\n",
    "    \n",
    "all_words = []\n",
    "df['parsed'].apply(bag_of_words, args=(all_words,))\n",
    "\n",
    "print(len(all_words))\n",
    "\n",
    "common_words = [item[0] for item in Counter(all_words).most_common(150)]"
   ]
  },
  {
   "cell_type": "code",
   "execution_count": 33,
   "metadata": {},
   "outputs": [
    {
     "data": {
      "text/html": [
       "<div>\n",
       "<style scoped>\n",
       "    .dataframe tbody tr th:only-of-type {\n",
       "        vertical-align: middle;\n",
       "    }\n",
       "\n",
       "    .dataframe tbody tr th {\n",
       "        vertical-align: top;\n",
       "    }\n",
       "\n",
       "    .dataframe thead th {\n",
       "        text-align: right;\n",
       "    }\n",
       "</style>\n",
       "<table border=\"1\" class=\"dataframe\">\n",
       "  <thead>\n",
       "    <tr style=\"text-align: right;\">\n",
       "      <th></th>\n",
       "      <th>author_id</th>\n",
       "      <th>gender</th>\n",
       "      <th>age</th>\n",
       "      <th>post</th>\n",
       "      <th>parsed</th>\n",
       "      <th>month</th>\n",
       "      <th>day</th>\n",
       "      <th>year</th>\n",
       "      <th>industry_Accounting</th>\n",
       "      <th>industry_Advertising</th>\n",
       "      <th>...</th>\n",
       "      <th>sign_Leo</th>\n",
       "      <th>sign_Libra</th>\n",
       "      <th>sign_Pisces</th>\n",
       "      <th>sign_Sagittarius</th>\n",
       "      <th>sign_Scorpio</th>\n",
       "      <th>sign_Taurus</th>\n",
       "      <th>sign_Virgo</th>\n",
       "      <th>word_count</th>\n",
       "      <th>vector</th>\n",
       "      <th>pronoun_count</th>\n",
       "    </tr>\n",
       "  </thead>\n",
       "  <tbody>\n",
       "    <tr>\n",
       "      <th>0</th>\n",
       "      <td>2884983</td>\n",
       "      <td>0</td>\n",
       "      <td>14</td>\n",
       "      <td>g'day to all. how's it hanging? :) I am feelin...</td>\n",
       "      <td>(g'day, to, all, ., how, 's, it, hanging, ?, :...</td>\n",
       "      <td>2</td>\n",
       "      <td>29</td>\n",
       "      <td>2004</td>\n",
       "      <td>0</td>\n",
       "      <td>0</td>\n",
       "      <td>...</td>\n",
       "      <td>0</td>\n",
       "      <td>0</td>\n",
       "      <td>0</td>\n",
       "      <td>0</td>\n",
       "      <td>0</td>\n",
       "      <td>0</td>\n",
       "      <td>0</td>\n",
       "      <td>5534</td>\n",
       "      <td>3.487381</td>\n",
       "      <td>16</td>\n",
       "    </tr>\n",
       "    <tr>\n",
       "      <th>1</th>\n",
       "      <td>2884983</td>\n",
       "      <td>0</td>\n",
       "      <td>14</td>\n",
       "      <td>I was so close to losing the computer. it was ...</td>\n",
       "      <td>(I, was, so, close, to, losing, the, computer,...</td>\n",
       "      <td>2</td>\n",
       "      <td>26</td>\n",
       "      <td>2004</td>\n",
       "      <td>0</td>\n",
       "      <td>0</td>\n",
       "      <td>...</td>\n",
       "      <td>0</td>\n",
       "      <td>0</td>\n",
       "      <td>0</td>\n",
       "      <td>0</td>\n",
       "      <td>0</td>\n",
       "      <td>0</td>\n",
       "      <td>0</td>\n",
       "      <td>5534</td>\n",
       "      <td>3.447380</td>\n",
       "      <td>44</td>\n",
       "    </tr>\n",
       "  </tbody>\n",
       "</table>\n",
       "<p>2 rows × 53 columns</p>\n",
       "</div>"
      ],
      "text/plain": [
       "  author_id  gender age                                               post  \\\n",
       "0   2884983       0  14  g'day to all. how's it hanging? :) I am feelin...   \n",
       "1   2884983       0  14  I was so close to losing the computer. it was ...   \n",
       "\n",
       "                                              parsed  month  day  year  \\\n",
       "0  (g'day, to, all, ., how, 's, it, hanging, ?, :...      2   29  2004   \n",
       "1  (I, was, so, close, to, losing, the, computer,...      2   26  2004   \n",
       "\n",
       "   industry_Accounting  industry_Advertising      ...        sign_Leo  \\\n",
       "0                    0                     0      ...               0   \n",
       "1                    0                     0      ...               0   \n",
       "\n",
       "   sign_Libra  sign_Pisces  sign_Sagittarius  sign_Scorpio  sign_Taurus  \\\n",
       "0           0            0                 0             0            0   \n",
       "1           0            0                 0             0            0   \n",
       "\n",
       "   sign_Virgo  word_count    vector  pronoun_count  \n",
       "0           0        5534  3.487381             16  \n",
       "1           0        5534  3.447380             44  \n",
       "\n",
       "[2 rows x 53 columns]"
      ]
     },
     "execution_count": 33,
     "metadata": {},
     "output_type": "execute_result"
    }
   ],
   "source": [
    "df.head(2)"
   ]
  },
  {
   "cell_type": "code",
   "execution_count": 34,
   "metadata": {
    "scrolled": true
   },
   "outputs": [
    {
     "name": "stdout",
     "output_type": "stream",
     "text": [
      "Processing row 0\n",
      "Processing row 500\n",
      "Processing row 1000\n",
      "Processing row 1500\n",
      "Processing row 2000\n",
      "Processing row 2500\n",
      "Processing row 3000\n",
      "Processing row 3500\n",
      "Processing row 4000\n",
      "Processing row 4500\n",
      "Processing row 5000\n",
      "Processing row 5500\n"
     ]
    }
   ],
   "source": [
    "for word in common_words:\n",
    "    df[word] = 0\n",
    "    \n",
    "for i, sentence in enumerate(df['parsed']):\n",
    "        \n",
    "        # I already converted the sentence to lemmas, and filtered out punctuation and stop words.\n",
    "        # Now I'm just going to get a list of the words in each line that are in the common words list.\n",
    "        words = [token.lemma_\n",
    "                 for token in sentence\n",
    "                 if token.lemma_ in common_words\n",
    "                ]\n",
    "        \n",
    "        # Populate the row with word counts\n",
    "        for word in words:\n",
    "            df.loc[i, word] += 1\n",
    "        \n",
    "        # This counter is just to make sure the kernel didn't hang.\n",
    "        if i % 500 == 0:\n",
    "            print(\"Processing row {}\".format(i))"
   ]
  },
  {
   "cell_type": "code",
   "execution_count": 35,
   "metadata": {},
   "outputs": [
    {
     "data": {
      "text/html": [
       "<div>\n",
       "<style scoped>\n",
       "    .dataframe tbody tr th:only-of-type {\n",
       "        vertical-align: middle;\n",
       "    }\n",
       "\n",
       "    .dataframe tbody tr th {\n",
       "        vertical-align: top;\n",
       "    }\n",
       "\n",
       "    .dataframe thead th {\n",
       "        text-align: right;\n",
       "    }\n",
       "</style>\n",
       "<table border=\"1\" class=\"dataframe\">\n",
       "  <thead>\n",
       "    <tr style=\"text-align: right;\">\n",
       "      <th></th>\n",
       "      <th>author_id</th>\n",
       "      <th>gender</th>\n",
       "      <th>age</th>\n",
       "      <th>post</th>\n",
       "      <th>parsed</th>\n",
       "      <th>month</th>\n",
       "      <th>day</th>\n",
       "      <th>year</th>\n",
       "      <th>industry_Accounting</th>\n",
       "      <th>industry_Advertising</th>\n",
       "      <th>...</th>\n",
       "      <th>long</th>\n",
       "      <th>few</th>\n",
       "      <th>ever</th>\n",
       "      <th>write</th>\n",
       "      <th>movie</th>\n",
       "      <th>keep</th>\n",
       "      <th>since</th>\n",
       "      <th>fun</th>\n",
       "      <th>these</th>\n",
       "      <th>next</th>\n",
       "    </tr>\n",
       "  </thead>\n",
       "  <tbody>\n",
       "    <tr>\n",
       "      <th>0</th>\n",
       "      <td>2884983</td>\n",
       "      <td>0</td>\n",
       "      <td>14</td>\n",
       "      <td>g'day to all. how's it hanging? :) I am feelin...</td>\n",
       "      <td>(g'day, to, all, ., how, 's, it, hanging, ?, :...</td>\n",
       "      <td>2</td>\n",
       "      <td>0</td>\n",
       "      <td>0</td>\n",
       "      <td>0</td>\n",
       "      <td>0</td>\n",
       "      <td>...</td>\n",
       "      <td>0</td>\n",
       "      <td>0</td>\n",
       "      <td>0</td>\n",
       "      <td>0</td>\n",
       "      <td>0</td>\n",
       "      <td>0</td>\n",
       "      <td>1</td>\n",
       "      <td>0</td>\n",
       "      <td>0</td>\n",
       "      <td>0</td>\n",
       "    </tr>\n",
       "    <tr>\n",
       "      <th>1</th>\n",
       "      <td>2884983</td>\n",
       "      <td>0</td>\n",
       "      <td>14</td>\n",
       "      <td>I was so close to losing the computer. it was ...</td>\n",
       "      <td>(I, was, so, close, to, losing, the, computer,...</td>\n",
       "      <td>2</td>\n",
       "      <td>1</td>\n",
       "      <td>0</td>\n",
       "      <td>0</td>\n",
       "      <td>0</td>\n",
       "      <td>...</td>\n",
       "      <td>0</td>\n",
       "      <td>0</td>\n",
       "      <td>0</td>\n",
       "      <td>0</td>\n",
       "      <td>0</td>\n",
       "      <td>0</td>\n",
       "      <td>0</td>\n",
       "      <td>2</td>\n",
       "      <td>1</td>\n",
       "      <td>0</td>\n",
       "    </tr>\n",
       "    <tr>\n",
       "      <th>2</th>\n",
       "      <td>2884983</td>\n",
       "      <td>0</td>\n",
       "      <td>14</td>\n",
       "      <td>I love that band, it is awesome. they are so r...</td>\n",
       "      <td>(I, love, that, band, ,, it, is, awesome, ., t...</td>\n",
       "      <td>2</td>\n",
       "      <td>0</td>\n",
       "      <td>0</td>\n",
       "      <td>0</td>\n",
       "      <td>0</td>\n",
       "      <td>...</td>\n",
       "      <td>0</td>\n",
       "      <td>0</td>\n",
       "      <td>0</td>\n",
       "      <td>0</td>\n",
       "      <td>0</td>\n",
       "      <td>0</td>\n",
       "      <td>0</td>\n",
       "      <td>0</td>\n",
       "      <td>0</td>\n",
       "      <td>0</td>\n",
       "    </tr>\n",
       "    <tr>\n",
       "      <th>3</th>\n",
       "      <td>2884983</td>\n",
       "      <td>0</td>\n",
       "      <td>14</td>\n",
       "      <td>Illenips has her rugby, curly has her silverch...</td>\n",
       "      <td>(Illenips, has, her, rugby, ,, curly, has, her...</td>\n",
       "      <td>2</td>\n",
       "      <td>0</td>\n",
       "      <td>0</td>\n",
       "      <td>0</td>\n",
       "      <td>0</td>\n",
       "      <td>...</td>\n",
       "      <td>0</td>\n",
       "      <td>0</td>\n",
       "      <td>0</td>\n",
       "      <td>0</td>\n",
       "      <td>0</td>\n",
       "      <td>0</td>\n",
       "      <td>0</td>\n",
       "      <td>0</td>\n",
       "      <td>0</td>\n",
       "      <td>0</td>\n",
       "    </tr>\n",
       "    <tr>\n",
       "      <th>4</th>\n",
       "      <td>2884983</td>\n",
       "      <td>0</td>\n",
       "      <td>14</td>\n",
       "      <td>I havent been coming here so much anymore,. be...</td>\n",
       "      <td>(I, have, nt, been, coming, here, so, much, an...</td>\n",
       "      <td>2</td>\n",
       "      <td>1</td>\n",
       "      <td>0</td>\n",
       "      <td>0</td>\n",
       "      <td>0</td>\n",
       "      <td>...</td>\n",
       "      <td>0</td>\n",
       "      <td>0</td>\n",
       "      <td>0</td>\n",
       "      <td>0</td>\n",
       "      <td>0</td>\n",
       "      <td>0</td>\n",
       "      <td>0</td>\n",
       "      <td>0</td>\n",
       "      <td>0</td>\n",
       "      <td>0</td>\n",
       "    </tr>\n",
       "  </tbody>\n",
       "</table>\n",
       "<p>5 rows × 201 columns</p>\n",
       "</div>"
      ],
      "text/plain": [
       "  author_id  gender age                                               post  \\\n",
       "0   2884983       0  14  g'day to all. how's it hanging? :) I am feelin...   \n",
       "1   2884983       0  14  I was so close to losing the computer. it was ...   \n",
       "2   2884983       0  14  I love that band, it is awesome. they are so r...   \n",
       "3   2884983       0  14  Illenips has her rugby, curly has her silverch...   \n",
       "4   2884983       0  14  I havent been coming here so much anymore,. be...   \n",
       "\n",
       "                                              parsed  month  day  year  \\\n",
       "0  (g'day, to, all, ., how, 's, it, hanging, ?, :...      2    0     0   \n",
       "1  (I, was, so, close, to, losing, the, computer,...      2    1     0   \n",
       "2  (I, love, that, band, ,, it, is, awesome, ., t...      2    0     0   \n",
       "3  (Illenips, has, her, rugby, ,, curly, has, her...      2    0     0   \n",
       "4  (I, have, nt, been, coming, here, so, much, an...      2    1     0   \n",
       "\n",
       "   industry_Accounting  industry_Advertising  ...   long  few  ever  write  \\\n",
       "0                    0                     0  ...      0    0     0      0   \n",
       "1                    0                     0  ...      0    0     0      0   \n",
       "2                    0                     0  ...      0    0     0      0   \n",
       "3                    0                     0  ...      0    0     0      0   \n",
       "4                    0                     0  ...      0    0     0      0   \n",
       "\n",
       "   movie  keep  since  fun  these  next  \n",
       "0      0     0      1    0      0     0  \n",
       "1      0     0      0    2      1     0  \n",
       "2      0     0      0    0      0     0  \n",
       "3      0     0      0    0      0     0  \n",
       "4      0     0      0    0      0     0  \n",
       "\n",
       "[5 rows x 201 columns]"
      ]
     },
     "execution_count": 35,
     "metadata": {},
     "output_type": "execute_result"
    }
   ],
   "source": [
    "df.head()"
   ]
  },
  {
   "cell_type": "markdown",
   "metadata": {},
   "source": [
    "Now the dataframe is quite large. I'm going to go through and create a correlation matrix, and then drop words with high correlations (over 90%)."
   ]
  },
  {
   "cell_type": "code",
   "execution_count": 36,
   "metadata": {},
   "outputs": [],
   "source": [
    "corr_m = df.drop(['post', 'parsed'],1).corr()"
   ]
  },
  {
   "cell_type": "code",
   "execution_count": 37,
   "metadata": {
    "scrolled": true
   },
   "outputs": [
    {
     "name": "stdout",
     "output_type": "stream",
     "text": [
      "['pronoun_count', '-PRON-', 'the']\n"
     ]
    }
   ],
   "source": [
    "flds = corr_m.columns.values\n",
    "\n",
    "to_drop = []\n",
    "\n",
    "for i in range(corr_m.shape[1]):\n",
    "    for j in range(i+1, corr_m.shape[1]):\n",
    "        if corr_m.iloc[i,j] > 0.90:\n",
    "            if flds[i] not in to_drop:\n",
    "                to_drop.append(flds[i])\n",
    "\n",
    "\n",
    "#even = range(len(to_drop)-1, 0,-2)\n",
    "\n",
    "#for i in even:\n",
    "#    to_drop.remove(to_drop[i])\n",
    "print(to_drop)"
   ]
  },
  {
   "cell_type": "code",
   "execution_count": 38,
   "metadata": {},
   "outputs": [],
   "source": [
    "# let's drop them\n",
    "\n",
    "df.drop(to_drop,1, inplace=True)"
   ]
  },
  {
   "cell_type": "code",
   "execution_count": 39,
   "metadata": {},
   "outputs": [
    {
     "data": {
      "text/html": [
       "<div>\n",
       "<style scoped>\n",
       "    .dataframe tbody tr th:only-of-type {\n",
       "        vertical-align: middle;\n",
       "    }\n",
       "\n",
       "    .dataframe tbody tr th {\n",
       "        vertical-align: top;\n",
       "    }\n",
       "\n",
       "    .dataframe thead th {\n",
       "        text-align: right;\n",
       "    }\n",
       "</style>\n",
       "<table border=\"1\" class=\"dataframe\">\n",
       "  <thead>\n",
       "    <tr style=\"text-align: right;\">\n",
       "      <th></th>\n",
       "      <th>author_id</th>\n",
       "      <th>gender</th>\n",
       "      <th>age</th>\n",
       "      <th>post</th>\n",
       "      <th>parsed</th>\n",
       "      <th>month</th>\n",
       "      <th>day</th>\n",
       "      <th>year</th>\n",
       "      <th>industry_Accounting</th>\n",
       "      <th>industry_Advertising</th>\n",
       "      <th>...</th>\n",
       "      <th>long</th>\n",
       "      <th>few</th>\n",
       "      <th>ever</th>\n",
       "      <th>write</th>\n",
       "      <th>movie</th>\n",
       "      <th>keep</th>\n",
       "      <th>since</th>\n",
       "      <th>fun</th>\n",
       "      <th>these</th>\n",
       "      <th>next</th>\n",
       "    </tr>\n",
       "  </thead>\n",
       "  <tbody>\n",
       "    <tr>\n",
       "      <th>0</th>\n",
       "      <td>2884983</td>\n",
       "      <td>0</td>\n",
       "      <td>14</td>\n",
       "      <td>g'day to all. how's it hanging? :) I am feelin...</td>\n",
       "      <td>(g'day, to, all, ., how, 's, it, hanging, ?, :...</td>\n",
       "      <td>2</td>\n",
       "      <td>0</td>\n",
       "      <td>0</td>\n",
       "      <td>0</td>\n",
       "      <td>0</td>\n",
       "      <td>...</td>\n",
       "      <td>0</td>\n",
       "      <td>0</td>\n",
       "      <td>0</td>\n",
       "      <td>0</td>\n",
       "      <td>0</td>\n",
       "      <td>0</td>\n",
       "      <td>1</td>\n",
       "      <td>0</td>\n",
       "      <td>0</td>\n",
       "      <td>0</td>\n",
       "    </tr>\n",
       "    <tr>\n",
       "      <th>1</th>\n",
       "      <td>2884983</td>\n",
       "      <td>0</td>\n",
       "      <td>14</td>\n",
       "      <td>I was so close to losing the computer. it was ...</td>\n",
       "      <td>(I, was, so, close, to, losing, the, computer,...</td>\n",
       "      <td>2</td>\n",
       "      <td>1</td>\n",
       "      <td>0</td>\n",
       "      <td>0</td>\n",
       "      <td>0</td>\n",
       "      <td>...</td>\n",
       "      <td>0</td>\n",
       "      <td>0</td>\n",
       "      <td>0</td>\n",
       "      <td>0</td>\n",
       "      <td>0</td>\n",
       "      <td>0</td>\n",
       "      <td>0</td>\n",
       "      <td>2</td>\n",
       "      <td>1</td>\n",
       "      <td>0</td>\n",
       "    </tr>\n",
       "    <tr>\n",
       "      <th>2</th>\n",
       "      <td>2884983</td>\n",
       "      <td>0</td>\n",
       "      <td>14</td>\n",
       "      <td>I love that band, it is awesome. they are so r...</td>\n",
       "      <td>(I, love, that, band, ,, it, is, awesome, ., t...</td>\n",
       "      <td>2</td>\n",
       "      <td>0</td>\n",
       "      <td>0</td>\n",
       "      <td>0</td>\n",
       "      <td>0</td>\n",
       "      <td>...</td>\n",
       "      <td>0</td>\n",
       "      <td>0</td>\n",
       "      <td>0</td>\n",
       "      <td>0</td>\n",
       "      <td>0</td>\n",
       "      <td>0</td>\n",
       "      <td>0</td>\n",
       "      <td>0</td>\n",
       "      <td>0</td>\n",
       "      <td>0</td>\n",
       "    </tr>\n",
       "    <tr>\n",
       "      <th>3</th>\n",
       "      <td>2884983</td>\n",
       "      <td>0</td>\n",
       "      <td>14</td>\n",
       "      <td>Illenips has her rugby, curly has her silverch...</td>\n",
       "      <td>(Illenips, has, her, rugby, ,, curly, has, her...</td>\n",
       "      <td>2</td>\n",
       "      <td>0</td>\n",
       "      <td>0</td>\n",
       "      <td>0</td>\n",
       "      <td>0</td>\n",
       "      <td>...</td>\n",
       "      <td>0</td>\n",
       "      <td>0</td>\n",
       "      <td>0</td>\n",
       "      <td>0</td>\n",
       "      <td>0</td>\n",
       "      <td>0</td>\n",
       "      <td>0</td>\n",
       "      <td>0</td>\n",
       "      <td>0</td>\n",
       "      <td>0</td>\n",
       "    </tr>\n",
       "    <tr>\n",
       "      <th>4</th>\n",
       "      <td>2884983</td>\n",
       "      <td>0</td>\n",
       "      <td>14</td>\n",
       "      <td>I havent been coming here so much anymore,. be...</td>\n",
       "      <td>(I, have, nt, been, coming, here, so, much, an...</td>\n",
       "      <td>2</td>\n",
       "      <td>1</td>\n",
       "      <td>0</td>\n",
       "      <td>0</td>\n",
       "      <td>0</td>\n",
       "      <td>...</td>\n",
       "      <td>0</td>\n",
       "      <td>0</td>\n",
       "      <td>0</td>\n",
       "      <td>0</td>\n",
       "      <td>0</td>\n",
       "      <td>0</td>\n",
       "      <td>0</td>\n",
       "      <td>0</td>\n",
       "      <td>0</td>\n",
       "      <td>0</td>\n",
       "    </tr>\n",
       "  </tbody>\n",
       "</table>\n",
       "<p>5 rows × 198 columns</p>\n",
       "</div>"
      ],
      "text/plain": [
       "  author_id  gender age                                               post  \\\n",
       "0   2884983       0  14  g'day to all. how's it hanging? :) I am feelin...   \n",
       "1   2884983       0  14  I was so close to losing the computer. it was ...   \n",
       "2   2884983       0  14  I love that band, it is awesome. they are so r...   \n",
       "3   2884983       0  14  Illenips has her rugby, curly has her silverch...   \n",
       "4   2884983       0  14  I havent been coming here so much anymore,. be...   \n",
       "\n",
       "                                              parsed  month  day  year  \\\n",
       "0  (g'day, to, all, ., how, 's, it, hanging, ?, :...      2    0     0   \n",
       "1  (I, was, so, close, to, losing, the, computer,...      2    1     0   \n",
       "2  (I, love, that, band, ,, it, is, awesome, ., t...      2    0     0   \n",
       "3  (Illenips, has, her, rugby, ,, curly, has, her...      2    0     0   \n",
       "4  (I, have, nt, been, coming, here, so, much, an...      2    1     0   \n",
       "\n",
       "   industry_Accounting  industry_Advertising  ...   long  few  ever  write  \\\n",
       "0                    0                     0  ...      0    0     0      0   \n",
       "1                    0                     0  ...      0    0     0      0   \n",
       "2                    0                     0  ...      0    0     0      0   \n",
       "3                    0                     0  ...      0    0     0      0   \n",
       "4                    0                     0  ...      0    0     0      0   \n",
       "\n",
       "   movie  keep  since  fun  these  next  \n",
       "0      0     0      1    0      0     0  \n",
       "1      0     0      0    2      1     0  \n",
       "2      0     0      0    0      0     0  \n",
       "3      0     0      0    0      0     0  \n",
       "4      0     0      0    0      0     0  \n",
       "\n",
       "[5 rows x 198 columns]"
      ]
     },
     "execution_count": 39,
     "metadata": {},
     "output_type": "execute_result"
    }
   ],
   "source": [
    "df.head()"
   ]
  },
  {
   "cell_type": "markdown",
   "metadata": {},
   "source": [
    "# Part 2 - Test set\n",
    "\n",
    "Reserve 25% of the corpus as a test set.\n"
   ]
  },
  {
   "cell_type": "code",
   "execution_count": 40,
   "metadata": {},
   "outputs": [],
   "source": [
    "X = df.drop(['author_id','post','parsed'], 1)\n",
    "Y = df['author_id']\n",
    "\n",
    "X_train, X_test, y_train, y_test = train_test_split(X,Y, test_size=0.25, random_state=0)\n"
   ]
  },
  {
   "cell_type": "markdown",
   "metadata": {},
   "source": [
    "\n",
    "<hr width=\"50%\"/>\n",
    "\n",
    "# Part 3 - Clustering\n",
    "\n",
    "The clustering algorithms I'm going to use - K means and mean shift - require normalized data, which will be the next step. "
   ]
  },
  {
   "cell_type": "code",
   "execution_count": 41,
   "metadata": {},
   "outputs": [],
   "source": [
    "from sklearn.preprocessing import normalize"
   ]
  },
  {
   "cell_type": "code",
   "execution_count": 42,
   "metadata": {},
   "outputs": [],
   "source": [
    "X_train_norm = normalize(X_train)"
   ]
  },
  {
   "cell_type": "markdown",
   "metadata": {},
   "source": [
    "## Clustering - K Means\n"
   ]
  },
  {
   "cell_type": "code",
   "execution_count": 43,
   "metadata": {},
   "outputs": [],
   "source": [
    "from sklearn.cluster import KMeans\n",
    "from sklearn.decomposition import PCA\n",
    "from sklearn.cluster import MiniBatchKMeans"
   ]
  },
  {
   "cell_type": "markdown",
   "metadata": {},
   "source": [
    "I'll try k means with different values for n, number of clusters. First I'm trying this with 5 clusters."
   ]
  },
  {
   "cell_type": "code",
   "execution_count": 44,
   "metadata": {},
   "outputs": [
    {
     "data": {
      "image/png": "[encoded data removed]",
      "text/plain": [
       "<Figure size 432x288 with 1 Axes>"
      ]
     },
     "metadata": {},
     "output_type": "display_data"
    },
    {
     "name": "stdout",
     "output_type": "stream",
     "text": [
      "Time: 2.2690932750701904 seconds \n",
      "Comparing k-means clusters against the data:\n",
      "author_id  1039136  1051122  1231400  1284157  1380515  151688  1531340  \\\n",
      "row_0                                                                     \n",
      "0                5        1        1       12        0       3       76   \n",
      "1                4        0        0        0        0       0        3   \n",
      "2               11        1        2        0        2       4       69   \n",
      "3                0        0        0        0        6       0        0   \n",
      "4               12        0        0        2        0       0       12   \n",
      "\n",
      "author_id  1632855  1835108  1846741   ...    4282859  4284657  4286279  \\\n",
      "row_0                                  ...                                \n",
      "0               11       14        0   ...          2        1        0   \n",
      "1                0        0        0   ...          0        0        0   \n",
      "2                0        6        0   ...          1        1        1   \n",
      "3                0        0        3   ...          0        0        0   \n",
      "4                0        0        0   ...          0        0        2   \n",
      "\n",
      "author_id  4295361  4300702  4323830  48428  669764  698952  815748  \n",
      "row_0                                                                \n",
      "0                0        3        0      0       4       0      93  \n",
      "1                0        0        0      0       0       0       2  \n",
      "2                2        0        1      1       0       4      48  \n",
      "3                0        0        1      4       0      48       0  \n",
      "4                2        0        0      0       0       0       9  \n",
      "\n",
      "[5 rows x 235 columns]\n"
     ]
    }
   ],
   "source": [
    "start = time()\n",
    "# Calculate predicted values.\n",
    "y_pred = KMeans(n_clusters=5, random_state=42).fit_predict(X_train_norm)\n",
    "\n",
    "# Plot the solution.\n",
    "plt.scatter(X_train_norm[:, 0], X_train_norm[:, 1], c=y_pred)\n",
    "plt.show()\n",
    "\n",
    "print('Time: {} seconds '.format(time()-start))\n",
    "# Check the solution against the data.\n",
    "print('Comparing k-means clusters against the data:')\n",
    "print(pd.crosstab(y_pred, y_train))"
   ]
  },
  {
   "cell_type": "markdown",
   "metadata": {},
   "source": [
    "This looks pretty good, at most an author is spread across 3 clusters, with 1 or 2 being the average. Let's try another amount of clusters to see if performance can be improved. I tried 2 clusters already and it was less effective."
   ]
  },
  {
   "cell_type": "code",
   "execution_count": 45,
   "metadata": {},
   "outputs": [
    {
     "data": {
      "image/png": "[encoded data removed]",
      "text/plain": [
       "<Figure size 432x288 with 1 Axes>"
      ]
     },
     "metadata": {},
     "output_type": "display_data"
    },
    {
     "name": "stdout",
     "output_type": "stream",
     "text": [
      "Time: 1.6145038604736328 seconds \n",
      "Comparing k-means clusters against the data:\n",
      "author_id  1039136  1051122  1231400  1284157  1380515  151688  1531340  \\\n",
      "row_0                                                                     \n",
      "0               16        1        0        1        2       4       58   \n",
      "1                5        1        3       12        6       3       97   \n",
      "2               11        0        0        1        0       0        5   \n",
      "\n",
      "author_id  1632855  1835108  1846741   ...    4282859  4284657  4286279  \\\n",
      "row_0                                  ...                                \n",
      "0                0        4        0   ...          1        1        2   \n",
      "1               11       16        3   ...          2        1        1   \n",
      "2                0        0        0   ...          0        0        0   \n",
      "\n",
      "author_id  4295361  4300702  4323830  48428  669764  698952  815748  \n",
      "row_0                                                                \n",
      "0                2        0        1      0       0       3      41  \n",
      "1                2        3        1      5       4      49     104  \n",
      "2                0        0        0      0       0       0       7  \n",
      "\n",
      "[3 rows x 235 columns]\n"
     ]
    }
   ],
   "source": [
    "start = time()\n",
    "# Calculate predicted values.\n",
    "y_pred = KMeans(n_clusters=3, random_state=42).fit_predict(X_train_norm)\n",
    "\n",
    "#km = KMeans(n_clusters=num_clusters)\n",
    "\n",
    "# Plot the solution.\n",
    "plt.scatter(X_train_norm[:, 0], X_train_norm[:, 1], c=y_pred)\n",
    "plt.show()\n",
    "\n",
    "print('Time: {} seconds '.format(time()-start))\n",
    "# Check the solution against the data.\n",
    "print('Comparing k-means clusters against the data:')\n",
    "print(pd.crosstab(y_pred, y_train))\n",
    "\n",
    "# going to add the info back into the dataframe later\n",
    "kmeans_clusters = y_pred"
   ]
  },
  {
   "cell_type": "markdown",
   "metadata": {},
   "source": [
    "3 clusters seems pretty comparable to 5. Let's try one more value of n."
   ]
  },
  {
   "cell_type": "code",
   "execution_count": 46,
   "metadata": {
    "scrolled": true
   },
   "outputs": [
    {
     "data": {
      "image/png": "[encoded data removed]",
      "text/plain": [
       "<Figure size 432x288 with 1 Axes>"
      ]
     },
     "metadata": {},
     "output_type": "display_data"
    },
    {
     "name": "stdout",
     "output_type": "stream",
     "text": [
      "Time: 2.487061023712158 seconds \n",
      "Comparing k-means clusters against the data:\n",
      "author_id  1039136  1051122  1231400  1284157  1380515  151688  1531340  \\\n",
      "row_0                                                                     \n",
      "0                9        0        0        1        0       0        4   \n",
      "1                2        1        1       11        0       1       46   \n",
      "2                3        0        2        1        0       3       58   \n",
      "3                6        1        0        1        1       0       15   \n",
      "4                0        0        0        0        0       0        0   \n",
      "5                0        0        0        0        6       0        0   \n",
      "6                3        0        0        0        0       0        1   \n",
      "7                9        0        0        0        1       3       36   \n",
      "\n",
      "author_id  1632855  1835108  1846741   ...    4282859  4284657  4286279  \\\n",
      "row_0                                  ...                                \n",
      "0                0        0        0   ...          0        0        0   \n",
      "1               11       11        0   ...          2        0        0   \n",
      "2                0        6        0   ...          0        1        1   \n",
      "3                0        0        0   ...          0        0        2   \n",
      "4                0        0        0   ...          0        0        0   \n",
      "5                0        0        3   ...          0        0        0   \n",
      "6                0        0        0   ...          0        0        0   \n",
      "7                0        3        0   ...          1        1        0   \n",
      "\n",
      "author_id  4295361  4300702  4323830  48428  669764  698952  815748  \n",
      "row_0                                                                \n",
      "0                0        0        0      0       0       0       6  \n",
      "1                0        2        0      0       4       0      58  \n",
      "2                2        1        0      0       0       0      48  \n",
      "3                2        0        0      0       0       0       8  \n",
      "4                0        0        0      0       0       0       1  \n",
      "5                0        0        1      4       0      48       0  \n",
      "6                0        0        0      0       0       0       0  \n",
      "7                0        0        1      1       0       4      31  \n",
      "\n",
      "[8 rows x 235 columns]\n"
     ]
    }
   ],
   "source": [
    "\n",
    "start = time()\n",
    "# Calculate predicted values.\n",
    "y_pred = KMeans(n_clusters=8, random_state=42).fit_predict(X_train_norm)\n",
    "\n",
    "# Plot the solution.\n",
    "plt.scatter(X_train_norm[:, 0], X_train_norm[:, 1], c=y_pred)\n",
    "plt.show()\n",
    "\n",
    "print('Time: {} seconds '.format(time()-start))\n",
    "# Check the solution against the data.\n",
    "print('Comparing k-means clusters against the data:')\n",
    "print(pd.crosstab(y_pred, y_train))"
   ]
  },
  {
   "cell_type": "markdown",
   "metadata": {},
   "source": [
    "8 clusters looks a little bit better because the authors for the most part are only spread across 1 or 2 clusters. Let's try mean shift and then move on with whichever is better -  kmeans with 8 clusters, or meanshift."
   ]
  },
  {
   "cell_type": "code",
   "execution_count": 47,
   "metadata": {},
   "outputs": [
    {
     "name": "stdout",
     "output_type": "stream",
     "text": [
      "Number of estimated clusters: 4\n"
     ]
    }
   ],
   "source": [
    "from sklearn.cluster import MeanShift, estimate_bandwidth\n",
    "\n",
    "# Here we set the bandwidth. This function automatically derives a bandwidth\n",
    "# number based on an inspection of the distances among points in the data.\n",
    "bandwidth = estimate_bandwidth(X_train_norm, quantile=0.2, n_samples=500)\n",
    "\n",
    "# Declare and fit the model.\n",
    "ms = MeanShift(bandwidth=bandwidth, bin_seeding=True)\n",
    "ms.fit(X_train_norm)\n",
    "\n",
    "# Extract cluster assignments for each data point.\n",
    "labels = ms.labels_\n",
    "\n",
    "# Coordinates of the cluster centers.\n",
    "cluster_centers = ms.cluster_centers_\n",
    "\n",
    "# Count our clusters.\n",
    "n_clusters_ = len(np.unique(labels))\n",
    "\n",
    "print(\"Number of estimated clusters: {}\".format(n_clusters_))\n"
   ]
  },
  {
   "cell_type": "code",
   "execution_count": 48,
   "metadata": {},
   "outputs": [
    {
     "data": {
      "image/png": "[encoded data removed]",
      "text/plain": [
       "<Figure size 432x288 with 1 Axes>"
      ]
     },
     "metadata": {},
     "output_type": "display_data"
    },
    {
     "name": "stdout",
     "output_type": "stream",
     "text": [
      "Comparing the assigned categories to the ones in the data:\n",
      "col_0        0  1  2  3\n",
      "author_id              \n",
      "1039136     25  0  0  7\n",
      "1051122      2  0  0  0\n",
      "1231400      3  0  0  0\n",
      "1284157     14  0  0  0\n",
      "1380515      8  0  0  0\n",
      "151688       7  0  0  0\n",
      "1531340    157  0  0  3\n",
      "1632855     11  0  0  0\n",
      "1835108     20  0  0  0\n",
      "1846741      3  0  0  0\n",
      "1922130     13  0  0  1\n",
      "1961258     34  0  0  0\n",
      "1965814     13  0  0  0\n",
      "2019990     68  0  0  0\n",
      "2020552      5  0  0  0\n"
     ]
    }
   ],
   "source": [
    "plt.scatter(X_train_norm[:, 0], X_train_norm[:, 1], c=labels)\n",
    "plt.show()\n",
    "\n",
    "print('Comparing the assigned categories to the ones in the data:')\n",
    "print(pd.crosstab(y_train,labels).head(15))"
   ]
  },
  {
   "cell_type": "markdown",
   "metadata": {},
   "source": [
    "This is not really better than kmeans with 8 clusters, from a quick glance."
   ]
  },
  {
   "cell_type": "code",
   "execution_count": 49,
   "metadata": {},
   "outputs": [],
   "source": [
    "clusters = ms.labels_.tolist()"
   ]
  },
  {
   "cell_type": "code",
   "execution_count": 50,
   "metadata": {},
   "outputs": [
    {
     "name": "stdout",
     "output_type": "stream",
     "text": [
      "4150 {0, 1, 2, 3}\n"
     ]
    }
   ],
   "source": [
    "print(len(clusters), set(clusters))"
   ]
  },
  {
   "cell_type": "code",
   "execution_count": 51,
   "metadata": {},
   "outputs": [
    {
     "name": "stderr",
     "output_type": "stream",
     "text": [
      "/anaconda3/lib/python3.6/site-packages/ipykernel_launcher.py:3: SettingWithCopyWarning: \n",
      "A value is trying to be set on a copy of a slice from a DataFrame.\n",
      "Try using .loc[row_indexer,col_indexer] = value instead\n",
      "\n",
      "See the caveats in the documentation: http://pandas.pydata.org/pandas-docs/stable/indexing.html#indexing-view-versus-copy\n",
      "  This is separate from the ipykernel package so we can avoid doing imports until\n"
     ]
    }
   ],
   "source": [
    "# put the clusters genereated from the Mean shift algorithm into the dataframe so we\n",
    "# can analyze the clusters a little better\n",
    "X_train['cluster'] = clusters"
   ]
  },
  {
   "cell_type": "code",
   "execution_count": 52,
   "metadata": {},
   "outputs": [
    {
     "name": "stderr",
     "output_type": "stream",
     "text": [
      "/anaconda3/lib/python3.6/site-packages/ipykernel_launcher.py:2: SettingWithCopyWarning: \n",
      "A value is trying to be set on a copy of a slice from a DataFrame.\n",
      "Try using .loc[row_indexer,col_indexer] = value instead\n",
      "\n",
      "See the caveats in the documentation: http://pandas.pydata.org/pandas-docs/stable/indexing.html#indexing-view-versus-copy\n",
      "  \n"
     ]
    }
   ],
   "source": [
    "\n",
    "X_train['kmeans_cluster'] = kmeans_clusters"
   ]
  },
  {
   "cell_type": "code",
   "execution_count": 53,
   "metadata": {},
   "outputs": [
    {
     "data": {
      "text/html": [
       "<div>\n",
       "<style scoped>\n",
       "    .dataframe tbody tr th:only-of-type {\n",
       "        vertical-align: middle;\n",
       "    }\n",
       "\n",
       "    .dataframe tbody tr th {\n",
       "        vertical-align: top;\n",
       "    }\n",
       "\n",
       "    .dataframe thead th {\n",
       "        text-align: right;\n",
       "    }\n",
       "</style>\n",
       "<table border=\"1\" class=\"dataframe\">\n",
       "  <thead>\n",
       "    <tr style=\"text-align: right;\">\n",
       "      <th></th>\n",
       "      <th>gender</th>\n",
       "      <th>age</th>\n",
       "      <th>month</th>\n",
       "      <th>day</th>\n",
       "      <th>year</th>\n",
       "      <th>industry_Accounting</th>\n",
       "      <th>industry_Advertising</th>\n",
       "      <th>industry_Arts</th>\n",
       "      <th>industry_Automotive</th>\n",
       "      <th>industry_Banking</th>\n",
       "      <th>...</th>\n",
       "      <th>ever</th>\n",
       "      <th>write</th>\n",
       "      <th>movie</th>\n",
       "      <th>keep</th>\n",
       "      <th>since</th>\n",
       "      <th>fun</th>\n",
       "      <th>these</th>\n",
       "      <th>next</th>\n",
       "      <th>cluster</th>\n",
       "      <th>kmeans_cluster</th>\n",
       "    </tr>\n",
       "  </thead>\n",
       "  <tbody>\n",
       "    <tr>\n",
       "      <th>2577</th>\n",
       "      <td>1</td>\n",
       "      <td>26</td>\n",
       "      <td>5</td>\n",
       "      <td>0</td>\n",
       "      <td>0</td>\n",
       "      <td>0</td>\n",
       "      <td>0</td>\n",
       "      <td>0</td>\n",
       "      <td>0</td>\n",
       "      <td>0</td>\n",
       "      <td>...</td>\n",
       "      <td>1</td>\n",
       "      <td>0</td>\n",
       "      <td>0</td>\n",
       "      <td>0</td>\n",
       "      <td>0</td>\n",
       "      <td>0</td>\n",
       "      <td>1</td>\n",
       "      <td>0</td>\n",
       "      <td>0</td>\n",
       "      <td>0</td>\n",
       "    </tr>\n",
       "    <tr>\n",
       "      <th>5079</th>\n",
       "      <td>0</td>\n",
       "      <td>23</td>\n",
       "      <td>1</td>\n",
       "      <td>0</td>\n",
       "      <td>1</td>\n",
       "      <td>0</td>\n",
       "      <td>0</td>\n",
       "      <td>0</td>\n",
       "      <td>0</td>\n",
       "      <td>0</td>\n",
       "      <td>...</td>\n",
       "      <td>0</td>\n",
       "      <td>0</td>\n",
       "      <td>0</td>\n",
       "      <td>0</td>\n",
       "      <td>0</td>\n",
       "      <td>0</td>\n",
       "      <td>0</td>\n",
       "      <td>0</td>\n",
       "      <td>0</td>\n",
       "      <td>1</td>\n",
       "    </tr>\n",
       "    <tr>\n",
       "      <th>4958</th>\n",
       "      <td>0</td>\n",
       "      <td>25</td>\n",
       "      <td>3</td>\n",
       "      <td>1</td>\n",
       "      <td>0</td>\n",
       "      <td>0</td>\n",
       "      <td>0</td>\n",
       "      <td>0</td>\n",
       "      <td>0</td>\n",
       "      <td>0</td>\n",
       "      <td>...</td>\n",
       "      <td>0</td>\n",
       "      <td>0</td>\n",
       "      <td>0</td>\n",
       "      <td>0</td>\n",
       "      <td>0</td>\n",
       "      <td>0</td>\n",
       "      <td>0</td>\n",
       "      <td>0</td>\n",
       "      <td>0</td>\n",
       "      <td>1</td>\n",
       "    </tr>\n",
       "    <tr>\n",
       "      <th>1926</th>\n",
       "      <td>0</td>\n",
       "      <td>16</td>\n",
       "      <td>6</td>\n",
       "      <td>0</td>\n",
       "      <td>0</td>\n",
       "      <td>0</td>\n",
       "      <td>0</td>\n",
       "      <td>0</td>\n",
       "      <td>0</td>\n",
       "      <td>0</td>\n",
       "      <td>...</td>\n",
       "      <td>0</td>\n",
       "      <td>0</td>\n",
       "      <td>0</td>\n",
       "      <td>0</td>\n",
       "      <td>0</td>\n",
       "      <td>0</td>\n",
       "      <td>0</td>\n",
       "      <td>0</td>\n",
       "      <td>0</td>\n",
       "      <td>1</td>\n",
       "    </tr>\n",
       "    <tr>\n",
       "      <th>2857</th>\n",
       "      <td>0</td>\n",
       "      <td>41</td>\n",
       "      <td>8</td>\n",
       "      <td>0</td>\n",
       "      <td>0</td>\n",
       "      <td>0</td>\n",
       "      <td>0</td>\n",
       "      <td>0</td>\n",
       "      <td>0</td>\n",
       "      <td>0</td>\n",
       "      <td>...</td>\n",
       "      <td>0</td>\n",
       "      <td>0</td>\n",
       "      <td>0</td>\n",
       "      <td>0</td>\n",
       "      <td>0</td>\n",
       "      <td>0</td>\n",
       "      <td>0</td>\n",
       "      <td>0</td>\n",
       "      <td>0</td>\n",
       "      <td>1</td>\n",
       "    </tr>\n",
       "  </tbody>\n",
       "</table>\n",
       "<p>5 rows × 197 columns</p>\n",
       "</div>"
      ],
      "text/plain": [
       "      gender age  month  day  year  industry_Accounting  industry_Advertising  \\\n",
       "2577       1  26      5    0     0                    0                     0   \n",
       "5079       0  23      1    0     1                    0                     0   \n",
       "4958       0  25      3    1     0                    0                     0   \n",
       "1926       0  16      6    0     0                    0                     0   \n",
       "2857       0  41      8    0     0                    0                     0   \n",
       "\n",
       "      industry_Arts  industry_Automotive  industry_Banking       ...        \\\n",
       "2577              0                    0                 0       ...         \n",
       "5079              0                    0                 0       ...         \n",
       "4958              0                    0                 0       ...         \n",
       "1926              0                    0                 0       ...         \n",
       "2857              0                    0                 0       ...         \n",
       "\n",
       "      ever  write  movie  keep  since  fun  these  next  cluster  \\\n",
       "2577     1      0      0     0      0    0      1     0        0   \n",
       "5079     0      0      0     0      0    0      0     0        0   \n",
       "4958     0      0      0     0      0    0      0     0        0   \n",
       "1926     0      0      0     0      0    0      0     0        0   \n",
       "2857     0      0      0     0      0    0      0     0        0   \n",
       "\n",
       "      kmeans_cluster  \n",
       "2577               0  \n",
       "5079               1  \n",
       "4958               1  \n",
       "1926               1  \n",
       "2857               1  \n",
       "\n",
       "[5 rows x 197 columns]"
      ]
     },
     "execution_count": 53,
     "metadata": {},
     "output_type": "execute_result"
    }
   ],
   "source": [
    "X_train.head()"
   ]
  },
  {
   "cell_type": "code",
   "execution_count": 54,
   "metadata": {},
   "outputs": [
    {
     "data": {
      "text/html": [
       "<div>\n",
       "<style scoped>\n",
       "    .dataframe tbody tr th:only-of-type {\n",
       "        vertical-align: middle;\n",
       "    }\n",
       "\n",
       "    .dataframe tbody tr th {\n",
       "        vertical-align: top;\n",
       "    }\n",
       "\n",
       "    .dataframe thead th {\n",
       "        text-align: right;\n",
       "    }\n",
       "</style>\n",
       "<table border=\"1\" class=\"dataframe\">\n",
       "  <thead>\n",
       "    <tr style=\"text-align: right;\">\n",
       "      <th></th>\n",
       "      <th>author_id</th>\n",
       "      <th>gender</th>\n",
       "      <th>age</th>\n",
       "      <th>post</th>\n",
       "      <th>parsed</th>\n",
       "      <th>month</th>\n",
       "      <th>day</th>\n",
       "      <th>year</th>\n",
       "      <th>industry_Accounting</th>\n",
       "      <th>industry_Advertising</th>\n",
       "      <th>...</th>\n",
       "      <th>long</th>\n",
       "      <th>few</th>\n",
       "      <th>ever</th>\n",
       "      <th>write</th>\n",
       "      <th>movie</th>\n",
       "      <th>keep</th>\n",
       "      <th>since</th>\n",
       "      <th>fun</th>\n",
       "      <th>these</th>\n",
       "      <th>next</th>\n",
       "    </tr>\n",
       "  </thead>\n",
       "  <tbody>\n",
       "    <tr>\n",
       "      <th>0</th>\n",
       "      <td>2884983</td>\n",
       "      <td>0</td>\n",
       "      <td>14</td>\n",
       "      <td>g'day to all. how's it hanging? :) I am feelin...</td>\n",
       "      <td>(g'day, to, all, ., how, 's, it, hanging, ?, :...</td>\n",
       "      <td>2</td>\n",
       "      <td>0</td>\n",
       "      <td>0</td>\n",
       "      <td>0</td>\n",
       "      <td>0</td>\n",
       "      <td>...</td>\n",
       "      <td>0</td>\n",
       "      <td>0</td>\n",
       "      <td>0</td>\n",
       "      <td>0</td>\n",
       "      <td>0</td>\n",
       "      <td>0</td>\n",
       "      <td>1</td>\n",
       "      <td>0</td>\n",
       "      <td>0</td>\n",
       "      <td>0</td>\n",
       "    </tr>\n",
       "    <tr>\n",
       "      <th>1</th>\n",
       "      <td>2884983</td>\n",
       "      <td>0</td>\n",
       "      <td>14</td>\n",
       "      <td>I was so close to losing the computer. it was ...</td>\n",
       "      <td>(I, was, so, close, to, losing, the, computer,...</td>\n",
       "      <td>2</td>\n",
       "      <td>1</td>\n",
       "      <td>0</td>\n",
       "      <td>0</td>\n",
       "      <td>0</td>\n",
       "      <td>...</td>\n",
       "      <td>0</td>\n",
       "      <td>0</td>\n",
       "      <td>0</td>\n",
       "      <td>0</td>\n",
       "      <td>0</td>\n",
       "      <td>0</td>\n",
       "      <td>0</td>\n",
       "      <td>2</td>\n",
       "      <td>1</td>\n",
       "      <td>0</td>\n",
       "    </tr>\n",
       "    <tr>\n",
       "      <th>2</th>\n",
       "      <td>2884983</td>\n",
       "      <td>0</td>\n",
       "      <td>14</td>\n",
       "      <td>I love that band, it is awesome. they are so r...</td>\n",
       "      <td>(I, love, that, band, ,, it, is, awesome, ., t...</td>\n",
       "      <td>2</td>\n",
       "      <td>0</td>\n",
       "      <td>0</td>\n",
       "      <td>0</td>\n",
       "      <td>0</td>\n",
       "      <td>...</td>\n",
       "      <td>0</td>\n",
       "      <td>0</td>\n",
       "      <td>0</td>\n",
       "      <td>0</td>\n",
       "      <td>0</td>\n",
       "      <td>0</td>\n",
       "      <td>0</td>\n",
       "      <td>0</td>\n",
       "      <td>0</td>\n",
       "      <td>0</td>\n",
       "    </tr>\n",
       "    <tr>\n",
       "      <th>3</th>\n",
       "      <td>2884983</td>\n",
       "      <td>0</td>\n",
       "      <td>14</td>\n",
       "      <td>Illenips has her rugby, curly has her silverch...</td>\n",
       "      <td>(Illenips, has, her, rugby, ,, curly, has, her...</td>\n",
       "      <td>2</td>\n",
       "      <td>0</td>\n",
       "      <td>0</td>\n",
       "      <td>0</td>\n",
       "      <td>0</td>\n",
       "      <td>...</td>\n",
       "      <td>0</td>\n",
       "      <td>0</td>\n",
       "      <td>0</td>\n",
       "      <td>0</td>\n",
       "      <td>0</td>\n",
       "      <td>0</td>\n",
       "      <td>0</td>\n",
       "      <td>0</td>\n",
       "      <td>0</td>\n",
       "      <td>0</td>\n",
       "    </tr>\n",
       "    <tr>\n",
       "      <th>4</th>\n",
       "      <td>2884983</td>\n",
       "      <td>0</td>\n",
       "      <td>14</td>\n",
       "      <td>I havent been coming here so much anymore,. be...</td>\n",
       "      <td>(I, have, nt, been, coming, here, so, much, an...</td>\n",
       "      <td>2</td>\n",
       "      <td>1</td>\n",
       "      <td>0</td>\n",
       "      <td>0</td>\n",
       "      <td>0</td>\n",
       "      <td>...</td>\n",
       "      <td>0</td>\n",
       "      <td>0</td>\n",
       "      <td>0</td>\n",
       "      <td>0</td>\n",
       "      <td>0</td>\n",
       "      <td>0</td>\n",
       "      <td>0</td>\n",
       "      <td>0</td>\n",
       "      <td>0</td>\n",
       "      <td>0</td>\n",
       "    </tr>\n",
       "  </tbody>\n",
       "</table>\n",
       "<p>5 rows × 198 columns</p>\n",
       "</div>"
      ],
      "text/plain": [
       "  author_id  gender age                                               post  \\\n",
       "0   2884983       0  14  g'day to all. how's it hanging? :) I am feelin...   \n",
       "1   2884983       0  14  I was so close to losing the computer. it was ...   \n",
       "2   2884983       0  14  I love that band, it is awesome. they are so r...   \n",
       "3   2884983       0  14  Illenips has her rugby, curly has her silverch...   \n",
       "4   2884983       0  14  I havent been coming here so much anymore,. be...   \n",
       "\n",
       "                                              parsed  month  day  year  \\\n",
       "0  (g'day, to, all, ., how, 's, it, hanging, ?, :...      2    0     0   \n",
       "1  (I, was, so, close, to, losing, the, computer,...      2    1     0   \n",
       "2  (I, love, that, band, ,, it, is, awesome, ., t...      2    0     0   \n",
       "3  (Illenips, has, her, rugby, ,, curly, has, her...      2    0     0   \n",
       "4  (I, have, nt, been, coming, here, so, much, an...      2    1     0   \n",
       "\n",
       "   industry_Accounting  industry_Advertising  ...   long  few  ever  write  \\\n",
       "0                    0                     0  ...      0    0     0      0   \n",
       "1                    0                     0  ...      0    0     0      0   \n",
       "2                    0                     0  ...      0    0     0      0   \n",
       "3                    0                     0  ...      0    0     0      0   \n",
       "4                    0                     0  ...      0    0     0      0   \n",
       "\n",
       "   movie  keep  since  fun  these  next  \n",
       "0      0     0      1    0      0     0  \n",
       "1      0     0      0    2      1     0  \n",
       "2      0     0      0    0      0     0  \n",
       "3      0     0      0    0      0     0  \n",
       "4      0     0      0    0      0     0  \n",
       "\n",
       "[5 rows x 198 columns]"
      ]
     },
     "execution_count": 54,
     "metadata": {},
     "output_type": "execute_result"
    }
   ],
   "source": [
    "df.head()"
   ]
  },
  {
   "cell_type": "markdown",
   "metadata": {},
   "source": [
    "# Part 4 - Features and models\n",
    "\n",
    "I'm going to generate some more features using unsupervised techniques and then try to use some models."
   ]
  },
  {
   "cell_type": "code",
   "execution_count": 55,
   "metadata": {},
   "outputs": [
    {
     "data": {
      "text/html": [
       "<div>\n",
       "<style scoped>\n",
       "    .dataframe tbody tr th:only-of-type {\n",
       "        vertical-align: middle;\n",
       "    }\n",
       "\n",
       "    .dataframe tbody tr th {\n",
       "        vertical-align: top;\n",
       "    }\n",
       "\n",
       "    .dataframe thead th {\n",
       "        text-align: right;\n",
       "    }\n",
       "</style>\n",
       "<table border=\"1\" class=\"dataframe\">\n",
       "  <thead>\n",
       "    <tr style=\"text-align: right;\">\n",
       "      <th></th>\n",
       "      <th>gender</th>\n",
       "      <th>age</th>\n",
       "      <th>month</th>\n",
       "      <th>day</th>\n",
       "      <th>year</th>\n",
       "      <th>industry_Accounting</th>\n",
       "      <th>industry_Advertising</th>\n",
       "      <th>industry_Arts</th>\n",
       "      <th>industry_Automotive</th>\n",
       "      <th>industry_Banking</th>\n",
       "      <th>...</th>\n",
       "      <th>ever</th>\n",
       "      <th>write</th>\n",
       "      <th>movie</th>\n",
       "      <th>keep</th>\n",
       "      <th>since</th>\n",
       "      <th>fun</th>\n",
       "      <th>these</th>\n",
       "      <th>next</th>\n",
       "      <th>cluster</th>\n",
       "      <th>kmeans_cluster</th>\n",
       "    </tr>\n",
       "  </thead>\n",
       "  <tbody>\n",
       "    <tr>\n",
       "      <th>2577</th>\n",
       "      <td>1</td>\n",
       "      <td>26</td>\n",
       "      <td>5</td>\n",
       "      <td>0</td>\n",
       "      <td>0</td>\n",
       "      <td>0</td>\n",
       "      <td>0</td>\n",
       "      <td>0</td>\n",
       "      <td>0</td>\n",
       "      <td>0</td>\n",
       "      <td>...</td>\n",
       "      <td>1</td>\n",
       "      <td>0</td>\n",
       "      <td>0</td>\n",
       "      <td>0</td>\n",
       "      <td>0</td>\n",
       "      <td>0</td>\n",
       "      <td>1</td>\n",
       "      <td>0</td>\n",
       "      <td>0</td>\n",
       "      <td>0</td>\n",
       "    </tr>\n",
       "    <tr>\n",
       "      <th>5079</th>\n",
       "      <td>0</td>\n",
       "      <td>23</td>\n",
       "      <td>1</td>\n",
       "      <td>0</td>\n",
       "      <td>1</td>\n",
       "      <td>0</td>\n",
       "      <td>0</td>\n",
       "      <td>0</td>\n",
       "      <td>0</td>\n",
       "      <td>0</td>\n",
       "      <td>...</td>\n",
       "      <td>0</td>\n",
       "      <td>0</td>\n",
       "      <td>0</td>\n",
       "      <td>0</td>\n",
       "      <td>0</td>\n",
       "      <td>0</td>\n",
       "      <td>0</td>\n",
       "      <td>0</td>\n",
       "      <td>0</td>\n",
       "      <td>1</td>\n",
       "    </tr>\n",
       "    <tr>\n",
       "      <th>4958</th>\n",
       "      <td>0</td>\n",
       "      <td>25</td>\n",
       "      <td>3</td>\n",
       "      <td>1</td>\n",
       "      <td>0</td>\n",
       "      <td>0</td>\n",
       "      <td>0</td>\n",
       "      <td>0</td>\n",
       "      <td>0</td>\n",
       "      <td>0</td>\n",
       "      <td>...</td>\n",
       "      <td>0</td>\n",
       "      <td>0</td>\n",
       "      <td>0</td>\n",
       "      <td>0</td>\n",
       "      <td>0</td>\n",
       "      <td>0</td>\n",
       "      <td>0</td>\n",
       "      <td>0</td>\n",
       "      <td>0</td>\n",
       "      <td>1</td>\n",
       "    </tr>\n",
       "  </tbody>\n",
       "</table>\n",
       "<p>3 rows × 197 columns</p>\n",
       "</div>"
      ],
      "text/plain": [
       "      gender age  month  day  year  industry_Accounting  industry_Advertising  \\\n",
       "2577       1  26      5    0     0                    0                     0   \n",
       "5079       0  23      1    0     1                    0                     0   \n",
       "4958       0  25      3    1     0                    0                     0   \n",
       "\n",
       "      industry_Arts  industry_Automotive  industry_Banking       ...        \\\n",
       "2577              0                    0                 0       ...         \n",
       "5079              0                    0                 0       ...         \n",
       "4958              0                    0                 0       ...         \n",
       "\n",
       "      ever  write  movie  keep  since  fun  these  next  cluster  \\\n",
       "2577     1      0      0     0      0    0      1     0        0   \n",
       "5079     0      0      0     0      0    0      0     0        0   \n",
       "4958     0      0      0     0      0    0      0     0        0   \n",
       "\n",
       "      kmeans_cluster  \n",
       "2577               0  \n",
       "5079               1  \n",
       "4958               1  \n",
       "\n",
       "[3 rows x 197 columns]"
      ]
     },
     "execution_count": 55,
     "metadata": {},
     "output_type": "execute_result"
    }
   ],
   "source": [
    "# ok so recap, X_train is the X_train withOUT normalization \n",
    "\n",
    "X_train.head(3)"
   ]
  },
  {
   "cell_type": "markdown",
   "metadata": {},
   "source": [
    "###  tf-idf  (vectors for each post)\n",
    "\n",
    "We already got a single span vector with the supervised learning technique, but I'll also try it using an unsupervised learning technique."
   ]
  },
  {
   "cell_type": "code",
   "execution_count": 56,
   "metadata": {},
   "outputs": [
    {
     "name": "stdout",
     "output_type": "stream",
     "text": [
      "Number of features: 11130\n"
     ]
    }
   ],
   "source": [
    "from sklearn.feature_extraction.text import TfidfVectorizer\n",
    "\n",
    "\n",
    "vectorizer = TfidfVectorizer(max_df=0.75, # drop words that occur in more than 75 percent of the paragraphs\n",
    "                             min_df=5, # only use words that appear at least n times\n",
    "                             stop_words='english', \n",
    "                             lowercase=True, #convert everything to lower case \n",
    "                             use_idf=True,#we definitely want to use inverse document frequencies in our weighting\n",
    "                             norm=u'l2', #Applies a correction factor so that longer paragraphs and shorter paragraphs get treated equally\n",
    "                             smooth_idf=True #Adds 1 to all document frequencies, as if an extra document existed that used every word once.  Prevents divide-by-zero errors\n",
    "                            )\n",
    "\n",
    "\n",
    "#Applying the vectorizer\n",
    "lines_tfidf=vectorizer.fit_transform(df['post'])\n",
    "print(\"Number of features: %d\" % lines_tfidf.get_shape()[1])\n",
    "\n",
    "# inititally tried model with parameters: max_df 0.75, min_df 10, # of features was 187"
   ]
  },
  {
   "cell_type": "code",
   "execution_count": 57,
   "metadata": {},
   "outputs": [
    {
     "name": "stdout",
     "output_type": "stream",
     "text": [
      "(5534, 11130)\n"
     ]
    }
   ],
   "source": [
    "print(lines_tfidf.shape)"
   ]
  },
  {
   "cell_type": "code",
   "execution_count": 58,
   "metadata": {},
   "outputs": [],
   "source": [
    "terms = vectorizer.get_feature_names()"
   ]
  },
  {
   "cell_type": "code",
   "execution_count": 59,
   "metadata": {},
   "outputs": [],
   "source": [
    "lines_csr = lines_tfidf.tocsr()"
   ]
  },
  {
   "cell_type": "code",
   "execution_count": 60,
   "metadata": {},
   "outputs": [],
   "source": [
    "#number of paragraphs\n",
    "n = lines_csr.shape[0]\n",
    "#A list of dictionaries, one per paragraph\n",
    "tfidf_bypara = [{} for _ in range(0,n)]\n",
    "#List of features\n",
    "terms = vectorizer.get_feature_names()\n",
    "#for each paragraph, lists the feature words and their tf-idf scores\n",
    "for i, j in zip(*lines_csr.nonzero()):\n",
    "    tfidf_bypara[i][terms[j]] = lines_csr[i, j]"
   ]
  },
  {
   "cell_type": "code",
   "execution_count": 61,
   "metadata": {},
   "outputs": [
    {
     "name": "stdout",
     "output_type": "stream",
     "text": [
      "Original sentence: g'day to all. how's it hanging? :) I am feeling fairly happy today. especially since people are leaving for a walk. I am not going to go with them because I am tired. even though I went to bed a 10 last night, he he he. well...Illenips I dont think you should quit soccer altogether. just tell them how mad you are at them. or go find that other team that you couldve joined. but dont quit soccer just becasue some people are stupid ass's. well. I hope all goes well. goddess bless\n",
      "Tf_idf vector: {'day': 0.07979379075770274, 'hanging': 0.17354492824802428, 'feeling': 0.12777469695262741, 'fairly': 0.20007930702400578, 'happy': 0.11703006800696902, 'today': 0.08168165469796053, 'especially': 0.1417972098854454, 'people': 0.15721491966760104, 'leaving': 0.15116453167752344, 'walk': 0.1399967201154836, 'going': 0.07750684701791637, 'tired': 0.13303271600235875, 'went': 0.09126235122050472, 'bed': 0.13666274047220925, '10': 0.1215073344267444, 'night': 0.09592902529588516, 'illenips': 0.24473646248947134, 'dont': 0.2743916716704112, 'think': 0.0750294705152731, 'quit': 0.3684946953829679, 'soccer': 0.39188858672460386, 'altogether': 0.23596010864311417, 'just': 0.12205848821614092, 'tell': 0.10641089826199232, 'mad': 0.1555149422589663, 'team': 0.15015992085931587, 'joined': 0.18593431149008574, 'stupid': 0.12449444875577682, 'ass': 0.1301913632147205, 'hope': 0.1142114730572877, 'goes': 0.13186705708473434, 'goddess': 0.19226465055051717, 'bless': 0.17778490285575624}\n",
      "Original sentence: I was so close to losing the computer. it was scary. and all because it wasn't working for some odd reason. and it was making me mad. we played tackle speedball today. and it was raining and I got REALLY disgustingly dirty :) it was fun. then I had soccer practice which was boring as hell because the coach isnt strict and doesnt reinforce his \"teaching.\" there was this one girl who was REALLY pissing me off cause she wasnt being serious and wasnt trying and making a fool of herself and it made me want to walk over there and slap her pretty little face a good one. she was making me really mad. and then she started making fun of my friend. she does it everytime. and everytime I tell her to stop it and yet she does it anyways. one of these days I am just gonna deck her....*deep breath*....calming myself down is proving to be very hard. I have gotten myself all riled up. ugh....anyways...why Illenips where you thinking at dear lovely grams house? I like elvish names, I dont like it when Into that thing brings dead mice into the house, it is disgusting. I opened his mouth with my hands while he had one and one of its legs popped out and I almost started to cry, it was so horrible. it is the little things that make me cry...while pretty much all animal//hurt//dead things make me want to cry...anyways....I am going to go Gaia :)\n",
      "Tf_idf vector: {'today': 0.045528787072972296, 'walk': 0.07803319955529128, 'going': 0.043201778264957955, 'illenips': 0.1364144045670738, 'dont': 0.07647200610880253, 'soccer': 0.10921798834321375, 'just': 0.03401727683523735, 'tell': 0.0593126956980578, 'mad': 0.17336589761693075, 'close': 0.0778710648848197, 'losing': 0.10531939448872822, 'computer': 0.07715841624466305, 'scary': 0.09565467051549499, 'wasn': 0.0659417350335689, 'working': 0.0682499239721662, 'odd': 0.0990960701866253, 'reason': 0.07208811160875818, 'making': 0.27655186619840116, 'played': 0.07739295228821341, 'raining': 0.11305617597980573, 'got': 0.04316409815186869, 'really': 0.12232974890881466, 'dirty': 0.09503653535652656, 'fun': 0.11366082633454916, 'practice': 0.09293071964562247, 'boring': 0.0790367800491828, 'hell': 0.06731041190679925, 'coach': 0.11472702780055062, 'isnt': 0.0996069341874277, 'strict': 0.13463731103657384, 'doesnt': 0.09764244843018684, 'teaching': 0.10755952959013332, 'girl': 0.06810594356856309, 'pissing': 0.12349041918811147, 'cause': 0.07482470318214177, 'wasnt': 0.20539638411646713, 'trying': 0.06347328968945927, 'fool': 0.11359665931902874, 'want': 0.09713981644180464, 'slap': 0.11253091956639003, 'pretty': 0.1175665926589669, 'little': 0.10017780284399126, 'face': 0.07435092964436563, 'good': 0.043315277652653895, 'started': 0.12808242574236806, 'friend': 0.06366068191620018, 'does': 0.12548400999232448, 'everytime': 0.2167406511499771, 'stop': 0.06996448944071426, 'anyways': 0.24633764993269272, 'days': 0.05779504393871584, 'gonna': 0.06834653232101735, 'deck': 0.12444680162072555, 'deep': 0.09055446151132775, 'breath': 0.10603661251246727, 'proving': 0.14306474072913183, 'hard': 0.06458735060608789, 'gotten': 0.08802492131144227, 'riled': 0.1459389371308761, 'ugh': 0.10040047392892741, 'thinking': 0.06726465637558032, 'dear': 0.09503653535652656, 'lovely': 0.08788629338946478, 'grams': 0.14057499855847524, 'house': 0.12039711106143913, 'like': 0.0701524783287309, 'names': 0.09607844715753289, 'thing': 0.04856990822090232, 'brings': 0.11056643380914916, 'dead': 0.16897368114860958, 'mice': 0.12885435776051232, 'disgusting': 0.11202005556558763, 'opened': 0.10363849396409433, 'mouth': 0.09187503943982327, 'hands': 0.08681288222358693, 'legs': 0.10040047392892741, 'popped': 0.1208845061144512, 'horrible': 0.09275056974548834, 'things': 0.10132302698675075, 'make': 0.10006881862838818, 'animal': 0.10837032557498855, 'hurt': 0.08448684057430479, 'gaia': 0.11056643380914916}\n",
      "Original sentence: I love that band, it is awesome. they are so real and stuff. *sigh* I Have nothing to talk about again, well nothing people want to read. I think I will post the lyrics to Dismantle Me by The Distillers: I fancy you But I've been destitute And all I know dissolved I could never reundo you I will always say tis so I will always speak the truth Descend into a noose Could never reundo you I want to bury you Vultures circle around Feathers float, wings flap, beats pound And though my hearts exposed I could never reundo you I will always bled the truth I will always speak And know I was sent to cut you lose I will never reundo you It's warm and humid on Swanson Street And the air is filled with electricity And the sky is deeper than a dream And the sky is deeper than a dream Dismantle Me Dismantle Me Dismantle Me And the sky is deeper than a dream And the sky is deeper than a dream.\n",
      "Tf_idf vector: {'people': 0.0453931925352355, 'think': 0.04332702275480592, 'want': 0.10063816065556934, 'love': 0.05344209232892554, 'band': 0.08967102349293322, 'awesome': 0.08188317066723898, 'real': 0.07011796875923744, 'stuff': 0.0626275584070109, 'sigh': 0.09590599015575346, 'talk': 0.06630777315599078, 'read': 0.059509569365419644, 'post': 0.06560526466413244, 'lyrics': 0.11712772391510848, 'fancy': 0.11503737784300642, 've': 0.04743590619389536, 'know': 0.08076435130406154, 'say': 0.051044764412734665, 'tis': 0.1310770951990702, 'speak': 0.1853863748651332, 'truth': 0.18153461878984398, 'circle': 0.11315130973041652, 'float': 0.13625911160236143, 'wings': 0.12362730916155318, 'beats': 0.12143815543399142, 'pound': 0.12286968835121248, 'hearts': 0.11360584492578533, 'exposed': 0.13224817219931903, 'bled': 0.15119470819341083, 'sent': 0.09090882544562337, 'cut': 0.08789058012949968, 'lose': 0.0928496000646868, 'warm': 0.09976188647926759, 'humid': 0.14336239768520476, 'street': 0.09007487488218363, 'air': 0.08876029603277114, 'filled': 0.09825030017550947, 'electricity': 0.14132716393158504, 'sky': 0.42067933432472243, 'deeper': 0.5198918977362232, 'dream': 0.3707727497302664}\n"
     ]
    }
   ],
   "source": [
    "#Keep in mind that the log base 2 of 1 is 0, so a tf-idf score of 0 indicates that the word was\n",
    "# present once in that sentence.\n",
    "for i in range(3):\n",
    "    print('Original sentence:', df.loc[i,'post'])\n",
    "    print('Tf_idf vector:', tfidf_bypara[i])"
   ]
  },
  {
   "cell_type": "code",
   "execution_count": 62,
   "metadata": {},
   "outputs": [
    {
     "name": "stdout",
     "output_type": "stream",
     "text": [
      "Percent variance captured by all components: 71.93745757692948\n"
     ]
    }
   ],
   "source": [
    " # dimension reduction\n",
    "    \n",
    "from sklearn.decomposition import TruncatedSVD\n",
    "from sklearn.pipeline import make_pipeline\n",
    "from sklearn.preprocessing import Normalizer\n",
    "\n",
    "#Our SVD data reducer.  We are going to reduce the feature space from 4931 to the number below.\n",
    "svd= TruncatedSVD(1500)\n",
    "lsa = make_pipeline(svd, Normalizer(copy=False))\n",
    "# Run SVD on the training data, then project the training data.\n",
    "lines_lsa = lsa.fit_transform(lines_tfidf)\n",
    "\n",
    "variance_explained=svd.explained_variance_ratio_\n",
    "total_variance = variance_explained.sum()\n",
    "print(\"Percent variance captured by all components:\",total_variance*100)\n",
    "\n",
    "#Looking at what sorts of paragraphs our solution considers similar, for the first five identified topics\n",
    "paras_by_component=pd.DataFrame(lines_lsa, #index=df['post']\n",
    "                               )\n",
    "#for i in range(5):\n",
    "#    print('Component {}:'.format(i))\n",
    "#    print(paras_by_component.loc[:50,i].sort_values(ascending=False)[0:5])   "
   ]
  },
  {
   "cell_type": "code",
   "execution_count": 63,
   "metadata": {},
   "outputs": [
    {
     "data": {
      "text/html": [
       "<div>\n",
       "<style scoped>\n",
       "    .dataframe tbody tr th:only-of-type {\n",
       "        vertical-align: middle;\n",
       "    }\n",
       "\n",
       "    .dataframe tbody tr th {\n",
       "        vertical-align: top;\n",
       "    }\n",
       "\n",
       "    .dataframe thead th {\n",
       "        text-align: right;\n",
       "    }\n",
       "</style>\n",
       "<table border=\"1\" class=\"dataframe\">\n",
       "  <thead>\n",
       "    <tr style=\"text-align: right;\">\n",
       "      <th></th>\n",
       "      <th>0</th>\n",
       "      <th>1</th>\n",
       "      <th>2</th>\n",
       "      <th>3</th>\n",
       "      <th>4</th>\n",
       "      <th>5</th>\n",
       "      <th>6</th>\n",
       "      <th>7</th>\n",
       "      <th>8</th>\n",
       "      <th>9</th>\n",
       "      <th>...</th>\n",
       "      <th>1490</th>\n",
       "      <th>1491</th>\n",
       "      <th>1492</th>\n",
       "      <th>1493</th>\n",
       "      <th>1494</th>\n",
       "      <th>1495</th>\n",
       "      <th>1496</th>\n",
       "      <th>1497</th>\n",
       "      <th>1498</th>\n",
       "      <th>1499</th>\n",
       "    </tr>\n",
       "  </thead>\n",
       "  <tbody>\n",
       "    <tr>\n",
       "      <th>0</th>\n",
       "      <td>0.181590</td>\n",
       "      <td>-0.093842</td>\n",
       "      <td>-0.023224</td>\n",
       "      <td>0.030719</td>\n",
       "      <td>0.081899</td>\n",
       "      <td>-0.133217</td>\n",
       "      <td>0.054803</td>\n",
       "      <td>-0.017471</td>\n",
       "      <td>0.001821</td>\n",
       "      <td>0.016170</td>\n",
       "      <td>...</td>\n",
       "      <td>0.004693</td>\n",
       "      <td>0.002330</td>\n",
       "      <td>-0.003249</td>\n",
       "      <td>-0.008047</td>\n",
       "      <td>-0.009796</td>\n",
       "      <td>-0.018958</td>\n",
       "      <td>0.001774</td>\n",
       "      <td>0.021705</td>\n",
       "      <td>-0.015888</td>\n",
       "      <td>0.008004</td>\n",
       "    </tr>\n",
       "    <tr>\n",
       "      <th>1</th>\n",
       "      <td>0.238853</td>\n",
       "      <td>-0.119091</td>\n",
       "      <td>-0.022594</td>\n",
       "      <td>0.023709</td>\n",
       "      <td>0.088180</td>\n",
       "      <td>-0.092798</td>\n",
       "      <td>0.034627</td>\n",
       "      <td>-0.020228</td>\n",
       "      <td>0.012436</td>\n",
       "      <td>-0.025261</td>\n",
       "      <td>...</td>\n",
       "      <td>-0.008004</td>\n",
       "      <td>-0.012666</td>\n",
       "      <td>0.000722</td>\n",
       "      <td>0.004265</td>\n",
       "      <td>-0.002421</td>\n",
       "      <td>0.002384</td>\n",
       "      <td>0.005700</td>\n",
       "      <td>0.023693</td>\n",
       "      <td>-0.009991</td>\n",
       "      <td>0.012230</td>\n",
       "    </tr>\n",
       "    <tr>\n",
       "      <th>2</th>\n",
       "      <td>0.098369</td>\n",
       "      <td>-0.043444</td>\n",
       "      <td>-0.027823</td>\n",
       "      <td>-0.085237</td>\n",
       "      <td>0.017859</td>\n",
       "      <td>0.001813</td>\n",
       "      <td>-0.005728</td>\n",
       "      <td>-0.007526</td>\n",
       "      <td>-0.035432</td>\n",
       "      <td>0.055348</td>\n",
       "      <td>...</td>\n",
       "      <td>-0.015288</td>\n",
       "      <td>-0.006341</td>\n",
       "      <td>0.015943</td>\n",
       "      <td>-0.009950</td>\n",
       "      <td>0.008828</td>\n",
       "      <td>-0.002788</td>\n",
       "      <td>0.008574</td>\n",
       "      <td>0.017377</td>\n",
       "      <td>-0.010752</td>\n",
       "      <td>0.034031</td>\n",
       "    </tr>\n",
       "  </tbody>\n",
       "</table>\n",
       "<p>3 rows × 1500 columns</p>\n",
       "</div>"
      ],
      "text/plain": [
       "       0         1         2         3         4         5         6     \\\n",
       "0  0.181590 -0.093842 -0.023224  0.030719  0.081899 -0.133217  0.054803   \n",
       "1  0.238853 -0.119091 -0.022594  0.023709  0.088180 -0.092798  0.034627   \n",
       "2  0.098369 -0.043444 -0.027823 -0.085237  0.017859  0.001813 -0.005728   \n",
       "\n",
       "       7         8         9       ...         1490      1491      1492  \\\n",
       "0 -0.017471  0.001821  0.016170    ...     0.004693  0.002330 -0.003249   \n",
       "1 -0.020228  0.012436 -0.025261    ...    -0.008004 -0.012666  0.000722   \n",
       "2 -0.007526 -0.035432  0.055348    ...    -0.015288 -0.006341  0.015943   \n",
       "\n",
       "       1493      1494      1495      1496      1497      1498      1499  \n",
       "0 -0.008047 -0.009796 -0.018958  0.001774  0.021705 -0.015888  0.008004  \n",
       "1  0.004265 -0.002421  0.002384  0.005700  0.023693 -0.009991  0.012230  \n",
       "2 -0.009950  0.008828 -0.002788  0.008574  0.017377 -0.010752  0.034031  \n",
       "\n",
       "[3 rows x 1500 columns]"
      ]
     },
     "execution_count": 63,
     "metadata": {},
     "output_type": "execute_result"
    }
   ],
   "source": [
    "paras_by_component.head(3)"
   ]
  },
  {
   "cell_type": "code",
   "execution_count": 64,
   "metadata": {},
   "outputs": [
    {
     "data": {
      "text/html": [
       "<div>\n",
       "<style scoped>\n",
       "    .dataframe tbody tr th:only-of-type {\n",
       "        vertical-align: middle;\n",
       "    }\n",
       "\n",
       "    .dataframe tbody tr th {\n",
       "        vertical-align: top;\n",
       "    }\n",
       "\n",
       "    .dataframe thead th {\n",
       "        text-align: right;\n",
       "    }\n",
       "</style>\n",
       "<table border=\"1\" class=\"dataframe\">\n",
       "  <thead>\n",
       "    <tr style=\"text-align: right;\">\n",
       "      <th></th>\n",
       "      <th>author_id</th>\n",
       "      <th>gender</th>\n",
       "      <th>age</th>\n",
       "      <th>post</th>\n",
       "      <th>parsed</th>\n",
       "      <th>month</th>\n",
       "      <th>day</th>\n",
       "      <th>year</th>\n",
       "      <th>industry_Accounting</th>\n",
       "      <th>industry_Advertising</th>\n",
       "      <th>...</th>\n",
       "      <th>1490</th>\n",
       "      <th>1491</th>\n",
       "      <th>1492</th>\n",
       "      <th>1493</th>\n",
       "      <th>1494</th>\n",
       "      <th>1495</th>\n",
       "      <th>1496</th>\n",
       "      <th>1497</th>\n",
       "      <th>1498</th>\n",
       "      <th>1499</th>\n",
       "    </tr>\n",
       "  </thead>\n",
       "  <tbody>\n",
       "    <tr>\n",
       "      <th>0</th>\n",
       "      <td>2884983</td>\n",
       "      <td>0</td>\n",
       "      <td>14</td>\n",
       "      <td>g'day to all. how's it hanging? :) I am feelin...</td>\n",
       "      <td>(g'day, to, all, ., how, 's, it, hanging, ?, :...</td>\n",
       "      <td>2</td>\n",
       "      <td>0</td>\n",
       "      <td>0</td>\n",
       "      <td>0</td>\n",
       "      <td>0</td>\n",
       "      <td>...</td>\n",
       "      <td>0.004693</td>\n",
       "      <td>0.002330</td>\n",
       "      <td>-0.003249</td>\n",
       "      <td>-0.008047</td>\n",
       "      <td>-0.009796</td>\n",
       "      <td>-0.018958</td>\n",
       "      <td>0.001774</td>\n",
       "      <td>0.021705</td>\n",
       "      <td>-0.015888</td>\n",
       "      <td>0.008004</td>\n",
       "    </tr>\n",
       "    <tr>\n",
       "      <th>1</th>\n",
       "      <td>2884983</td>\n",
       "      <td>0</td>\n",
       "      <td>14</td>\n",
       "      <td>I was so close to losing the computer. it was ...</td>\n",
       "      <td>(I, was, so, close, to, losing, the, computer,...</td>\n",
       "      <td>2</td>\n",
       "      <td>1</td>\n",
       "      <td>0</td>\n",
       "      <td>0</td>\n",
       "      <td>0</td>\n",
       "      <td>...</td>\n",
       "      <td>-0.008004</td>\n",
       "      <td>-0.012666</td>\n",
       "      <td>0.000722</td>\n",
       "      <td>0.004265</td>\n",
       "      <td>-0.002421</td>\n",
       "      <td>0.002384</td>\n",
       "      <td>0.005700</td>\n",
       "      <td>0.023693</td>\n",
       "      <td>-0.009991</td>\n",
       "      <td>0.012230</td>\n",
       "    </tr>\n",
       "    <tr>\n",
       "      <th>2</th>\n",
       "      <td>2884983</td>\n",
       "      <td>0</td>\n",
       "      <td>14</td>\n",
       "      <td>I love that band, it is awesome. they are so r...</td>\n",
       "      <td>(I, love, that, band, ,, it, is, awesome, ., t...</td>\n",
       "      <td>2</td>\n",
       "      <td>0</td>\n",
       "      <td>0</td>\n",
       "      <td>0</td>\n",
       "      <td>0</td>\n",
       "      <td>...</td>\n",
       "      <td>-0.015288</td>\n",
       "      <td>-0.006341</td>\n",
       "      <td>0.015943</td>\n",
       "      <td>-0.009950</td>\n",
       "      <td>0.008828</td>\n",
       "      <td>-0.002788</td>\n",
       "      <td>0.008574</td>\n",
       "      <td>0.017377</td>\n",
       "      <td>-0.010752</td>\n",
       "      <td>0.034031</td>\n",
       "    </tr>\n",
       "    <tr>\n",
       "      <th>3</th>\n",
       "      <td>2884983</td>\n",
       "      <td>0</td>\n",
       "      <td>14</td>\n",
       "      <td>Illenips has her rugby, curly has her silverch...</td>\n",
       "      <td>(Illenips, has, her, rugby, ,, curly, has, her...</td>\n",
       "      <td>2</td>\n",
       "      <td>0</td>\n",
       "      <td>0</td>\n",
       "      <td>0</td>\n",
       "      <td>0</td>\n",
       "      <td>...</td>\n",
       "      <td>-0.029308</td>\n",
       "      <td>0.032727</td>\n",
       "      <td>0.003441</td>\n",
       "      <td>0.022768</td>\n",
       "      <td>0.009689</td>\n",
       "      <td>0.012144</td>\n",
       "      <td>-0.048436</td>\n",
       "      <td>0.000173</td>\n",
       "      <td>-0.014388</td>\n",
       "      <td>0.007202</td>\n",
       "    </tr>\n",
       "    <tr>\n",
       "      <th>4</th>\n",
       "      <td>2884983</td>\n",
       "      <td>0</td>\n",
       "      <td>14</td>\n",
       "      <td>I havent been coming here so much anymore,. be...</td>\n",
       "      <td>(I, have, nt, been, coming, here, so, much, an...</td>\n",
       "      <td>2</td>\n",
       "      <td>1</td>\n",
       "      <td>0</td>\n",
       "      <td>0</td>\n",
       "      <td>0</td>\n",
       "      <td>...</td>\n",
       "      <td>-0.006595</td>\n",
       "      <td>0.032906</td>\n",
       "      <td>0.000686</td>\n",
       "      <td>0.022203</td>\n",
       "      <td>-0.034158</td>\n",
       "      <td>-0.023068</td>\n",
       "      <td>-0.023961</td>\n",
       "      <td>-0.012392</td>\n",
       "      <td>0.000217</td>\n",
       "      <td>0.001991</td>\n",
       "    </tr>\n",
       "  </tbody>\n",
       "</table>\n",
       "<p>5 rows × 1698 columns</p>\n",
       "</div>"
      ],
      "text/plain": [
       "  author_id  gender age                                               post  \\\n",
       "0   2884983       0  14  g'day to all. how's it hanging? :) I am feelin...   \n",
       "1   2884983       0  14  I was so close to losing the computer. it was ...   \n",
       "2   2884983       0  14  I love that band, it is awesome. they are so r...   \n",
       "3   2884983       0  14  Illenips has her rugby, curly has her silverch...   \n",
       "4   2884983       0  14  I havent been coming here so much anymore,. be...   \n",
       "\n",
       "                                              parsed  month  day  year  \\\n",
       "0  (g'day, to, all, ., how, 's, it, hanging, ?, :...      2    0     0   \n",
       "1  (I, was, so, close, to, losing, the, computer,...      2    1     0   \n",
       "2  (I, love, that, band, ,, it, is, awesome, ., t...      2    0     0   \n",
       "3  (Illenips, has, her, rugby, ,, curly, has, her...      2    0     0   \n",
       "4  (I, have, nt, been, coming, here, so, much, an...      2    1     0   \n",
       "\n",
       "   industry_Accounting  industry_Advertising    ...         1490      1491  \\\n",
       "0                    0                     0    ...     0.004693  0.002330   \n",
       "1                    0                     0    ...    -0.008004 -0.012666   \n",
       "2                    0                     0    ...    -0.015288 -0.006341   \n",
       "3                    0                     0    ...    -0.029308  0.032727   \n",
       "4                    0                     0    ...    -0.006595  0.032906   \n",
       "\n",
       "       1492      1493      1494      1495      1496      1497      1498  \\\n",
       "0 -0.003249 -0.008047 -0.009796 -0.018958  0.001774  0.021705 -0.015888   \n",
       "1  0.000722  0.004265 -0.002421  0.002384  0.005700  0.023693 -0.009991   \n",
       "2  0.015943 -0.009950  0.008828 -0.002788  0.008574  0.017377 -0.010752   \n",
       "3  0.003441  0.022768  0.009689  0.012144 -0.048436  0.000173 -0.014388   \n",
       "4  0.000686  0.022203 -0.034158 -0.023068 -0.023961 -0.012392  0.000217   \n",
       "\n",
       "       1499  \n",
       "0  0.008004  \n",
       "1  0.012230  \n",
       "2  0.034031  \n",
       "3  0.007202  \n",
       "4  0.001991  \n",
       "\n",
       "[5 rows x 1698 columns]"
      ]
     },
     "execution_count": 64,
     "metadata": {},
     "output_type": "execute_result"
    }
   ],
   "source": [
    "# add the components back into the dataframe as features\n",
    "\n",
    "df = df.reset_index(drop=True)\n",
    "paras_by_component = paras_by_component.reset_index(drop=True)\n",
    "\n",
    "df = df.join(paras_by_component)\n",
    "\n",
    "df.head()"
   ]
  },
  {
   "cell_type": "markdown",
   "metadata": {},
   "source": [
    "Document similarity"
   ]
  },
  {
   "cell_type": "code",
   "execution_count": 65,
   "metadata": {},
   "outputs": [
    {
     "data": {
      "image/png": "[encoded data removed]",
      "text/plain": [
       "<Figure size 432x288 with 2 Axes>"
      ]
     },
     "metadata": {},
     "output_type": "display_data"
    },
    {
     "name": "stdout",
     "output_type": "stream",
     "text": [
      "Key:\n",
      "0 g'day to all. how's it hanging? :) I am feeling fairly happy today. especially since peopl\n",
      "1 I was so close to losing the computer. it was scary. and all because it wasn't working for\n",
      "2 I love that band, it is awesome. they are so real and stuff. *sigh* I Have nothing to talk\n",
      "3 Illenips has her rugby, curly has her silverchiar poster//trip to mexico....what do I have\n",
      "4 I havent been coming here so much anymore,. before it use to be about times a day. now it \n",
      "5 gaaah!! I am really obsessed with gaia. I spend at least a hour on that site at a time!! i\n",
      "6 I went riding this morning. The horse that I ride, kyak, wasnt feeling very co-operative t\n",
      "7 holy cow that was tiring. my feet ache. walking around the mall for three hours with no go\n",
      "8 yay love it there. it is so great. reading all these poems and stories and things. I love \n",
      "9 I feel so shallow. Everybody around me makes things seem so deep, so important. I feel lik\n"
     ]
    }
   ],
   "source": [
    "# Compute document similarity using LSA components\n",
    "similarity = np.asarray(np.asmatrix(lines_lsa) * np.asmatrix(lines_lsa).T)\n",
    "#Only taking the first 10 sentences\n",
    "sim_matrix=pd.DataFrame(similarity,index=df['post']).iloc[0:10,0:10]\n",
    "#Making a plot\n",
    "ax = sns.heatmap(sim_matrix,yticklabels=range(10))\n",
    "plt.show()\n",
    "\n",
    "#Generating a key for the plot.\n",
    "print('Key:')\n",
    "for i in range(10):\n",
    "    print(i,sim_matrix.index[i][:90])"
   ]
  },
  {
   "cell_type": "code",
   "execution_count": 66,
   "metadata": {},
   "outputs": [
    {
     "name": "stdout",
     "output_type": "stream",
     "text": [
      "(5534, 5534) (5534, 1698)\n"
     ]
    }
   ],
   "source": [
    "print(similarity.shape, df.shape)\n"
   ]
  },
  {
   "cell_type": "code",
   "execution_count": 67,
   "metadata": {},
   "outputs": [
    {
     "data": {
      "text/html": [
       "<div>\n",
       "<style scoped>\n",
       "    .dataframe tbody tr th:only-of-type {\n",
       "        vertical-align: middle;\n",
       "    }\n",
       "\n",
       "    .dataframe tbody tr th {\n",
       "        vertical-align: top;\n",
       "    }\n",
       "\n",
       "    .dataframe thead th {\n",
       "        text-align: right;\n",
       "    }\n",
       "</style>\n",
       "<table border=\"1\" class=\"dataframe\">\n",
       "  <thead>\n",
       "    <tr style=\"text-align: right;\">\n",
       "      <th></th>\n",
       "      <th>author_id</th>\n",
       "      <th>gender</th>\n",
       "      <th>age</th>\n",
       "      <th>post</th>\n",
       "      <th>parsed</th>\n",
       "    </tr>\n",
       "  </thead>\n",
       "  <tbody>\n",
       "    <tr>\n",
       "      <th>0</th>\n",
       "      <td>2884983</td>\n",
       "      <td>0</td>\n",
       "      <td>14</td>\n",
       "      <td>g'day to all. how's it hanging? :) I am feelin...</td>\n",
       "      <td>(g'day, to, all, ., how, 's, it, hanging, ?, :...</td>\n",
       "    </tr>\n",
       "    <tr>\n",
       "      <th>1</th>\n",
       "      <td>2884983</td>\n",
       "      <td>0</td>\n",
       "      <td>14</td>\n",
       "      <td>I was so close to losing the computer. it was ...</td>\n",
       "      <td>(I, was, so, close, to, losing, the, computer,...</td>\n",
       "    </tr>\n",
       "    <tr>\n",
       "      <th>2</th>\n",
       "      <td>2884983</td>\n",
       "      <td>0</td>\n",
       "      <td>14</td>\n",
       "      <td>I love that band, it is awesome. they are so r...</td>\n",
       "      <td>(I, love, that, band, ,, it, is, awesome, ., t...</td>\n",
       "    </tr>\n",
       "  </tbody>\n",
       "</table>\n",
       "</div>"
      ],
      "text/plain": [
       "  author_id  gender age                                               post  \\\n",
       "0   2884983       0  14  g'day to all. how's it hanging? :) I am feelin...   \n",
       "1   2884983       0  14  I was so close to losing the computer. it was ...   \n",
       "2   2884983       0  14  I love that band, it is awesome. they are so r...   \n",
       "\n",
       "                                              parsed  \n",
       "0  (g'day, to, all, ., how, 's, it, hanging, ?, :...  \n",
       "1  (I, was, so, close, to, losing, the, computer,...  \n",
       "2  (I, love, that, band, ,, it, is, awesome, ., t...  "
      ]
     },
     "execution_count": 67,
     "metadata": {},
     "output_type": "execute_result"
    }
   ],
   "source": [
    "df.iloc[:3,:5]"
   ]
  },
  {
   "cell_type": "code",
   "execution_count": 68,
   "metadata": {},
   "outputs": [],
   "source": [
    "# add the features back to the training and test sets\n",
    "\n",
    "X_train = X_train.join(df.iloc[:,200:])\n",
    "X_test = X_test.join(df.iloc[:,200:])"
   ]
  },
  {
   "cell_type": "markdown",
   "metadata": {},
   "source": [
    "## models\n",
    "\n",
    "a - gradient boosting"
   ]
  },
  {
   "cell_type": "code",
   "execution_count": 69,
   "metadata": {},
   "outputs": [],
   "source": [
    "from sklearn.model_selection import cross_val_score"
   ]
  },
  {
   "cell_type": "code",
   "execution_count": 70,
   "metadata": {},
   "outputs": [],
   "source": [
    "from sklearn import ensemble"
   ]
  },
  {
   "cell_type": "code",
   "execution_count": 71,
   "metadata": {},
   "outputs": [],
   "source": [
    "#X_train_smaller = withbin.drop(['post','parsed'], 1)\n",
    "#y_train\n",
    "\n",
    "# training on smaller portions of X_train so I can test it on itself\n",
    "\n",
    "X_train_smaller, X_test_smaller, y_train_smaller, y_test_smaller = train_test_split(X_train,\n",
    "                                                                y_train, test_size=.25)"
   ]
  },
  {
   "cell_type": "code",
   "execution_count": 72,
   "metadata": {},
   "outputs": [],
   "source": [
    "# with defaults - Training set score: 0.00846262341325811\n",
    "#Test set score: 0.004739336492890996\n",
    "\n",
    "clf = ensemble.GradientBoostingClassifier(n_estimators=200)\n"
   ]
  },
  {
   "cell_type": "code",
   "execution_count": 73,
   "metadata": {},
   "outputs": [
    {
     "data": {
      "text/plain": [
       "GradientBoostingClassifier(criterion='friedman_mse', init=None,\n",
       "              learning_rate=0.1, loss='deviance', max_depth=3,\n",
       "              max_features=None, max_leaf_nodes=None,\n",
       "              min_impurity_decrease=0.0, min_impurity_split=None,\n",
       "              min_samples_leaf=1, min_samples_split=2,\n",
       "              min_weight_fraction_leaf=0.0, n_estimators=200,\n",
       "              presort='auto', random_state=None, subsample=1.0, verbose=0,\n",
       "              warm_start=False)"
      ]
     },
     "execution_count": 73,
     "metadata": {},
     "output_type": "execute_result"
    }
   ],
   "source": [
    "clf.fit(X_train_smaller, y_train_smaller)\n"
   ]
  },
  {
   "cell_type": "code",
   "execution_count": 74,
   "metadata": {},
   "outputs": [],
   "source": [
    "training_score = clf.score(X_train_smaller, y_train_smaller)"
   ]
  },
  {
   "cell_type": "code",
   "execution_count": 75,
   "metadata": {},
   "outputs": [],
   "source": [
    "# need to get the clusters before i can run this\n",
    "testing_score = clf.score(X_test_smaller, y_test_smaller)\n"
   ]
  },
  {
   "cell_type": "code",
   "execution_count": 76,
   "metadata": {},
   "outputs": [
    {
     "name": "stdout",
     "output_type": "stream",
     "text": [
      "Training set score: 0.9916452442159382\n",
      "\n",
      "Test set score: 0.5481695568400771\n"
     ]
    }
   ],
   "source": [
    "print('Training set score:', training_score)\n",
    "print('\\nTest set score:', testing_score)"
   ]
  },
  {
   "cell_type": "code",
   "execution_count": 77,
   "metadata": {
    "scrolled": true
   },
   "outputs": [
    {
     "name": "stderr",
     "output_type": "stream",
     "text": [
      "/anaconda3/lib/python3.6/site-packages/sklearn/model_selection/_split.py:605: Warning: The least populated class in y has only 1 members, which is too few. The minimum number of members in any class cannot be less than n_splits=5.\n",
      "  % (min_groups, self.n_splits)), Warning)\n"
     ]
    },
    {
     "name": "stdout",
     "output_type": "stream",
     "text": [
      "Accuracy: 0.59 (+/- 0.09)\n"
     ]
    }
   ],
   "source": [
    "scores = cross_val_score(clf, X_train,y_train,cv=5)\n",
    "\n",
    "print(\"Accuracy: %0.2f (+/- %0.2f)\" % (scores.mean(), scores.std() * 2))"
   ]
  },
  {
   "cell_type": "code",
   "execution_count": 78,
   "metadata": {},
   "outputs": [
    {
     "name": "stderr",
     "output_type": "stream",
     "text": [
      "/anaconda3/lib/python3.6/site-packages/sklearn/model_selection/_split.py:605: Warning: The least populated class in y has only 1 members, which is too few. The minimum number of members in any class cannot be less than n_splits=5.\n",
      "  % (min_groups, self.n_splits)), Warning)\n"
     ]
    },
    {
     "name": "stdout",
     "output_type": "stream",
     "text": [
      "Accuracy: 0.56 (+/- 0.09)\n"
     ]
    }
   ],
   "source": [
    "scores_clf = cross_val_score(clf,X_train_smaller,y_train_smaller,cv=5)\n",
    "\n",
    "print(\"Accuracy: %0.2f (+/- %0.2f)\"% (scores_clf.mean(), scores_clf.std() *2))"
   ]
  },
  {
   "cell_type": "markdown",
   "metadata": {},
   "source": [
    "b - logistic regression"
   ]
  },
  {
   "cell_type": "code",
   "execution_count": 79,
   "metadata": {},
   "outputs": [],
   "source": [
    "from sklearn.linear_model import LogisticRegression"
   ]
  },
  {
   "cell_type": "code",
   "execution_count": 80,
   "metadata": {},
   "outputs": [],
   "source": [
    "lr = LogisticRegression()\n",
    "\n",
    "train = lr.fit(X_train_smaller, y_train_smaller)\n"
   ]
  },
  {
   "cell_type": "code",
   "execution_count": 81,
   "metadata": {},
   "outputs": [
    {
     "data": {
      "text/plain": [
       "0.9932519280205655"
      ]
     },
     "execution_count": 81,
     "metadata": {},
     "output_type": "execute_result"
    }
   ],
   "source": [
    "lr.score(X_train_smaller,y_train_smaller)"
   ]
  },
  {
   "cell_type": "code",
   "execution_count": 82,
   "metadata": {},
   "outputs": [
    {
     "data": {
      "text/plain": [
       "0.6830443159922929"
      ]
     },
     "execution_count": 82,
     "metadata": {},
     "output_type": "execute_result"
    }
   ],
   "source": [
    "lr.score(X_test_smaller, y_test_smaller)"
   ]
  },
  {
   "cell_type": "code",
   "execution_count": 83,
   "metadata": {},
   "outputs": [
    {
     "name": "stderr",
     "output_type": "stream",
     "text": [
      "/anaconda3/lib/python3.6/site-packages/sklearn/model_selection/_split.py:605: Warning: The least populated class in y has only 1 members, which is too few. The minimum number of members in any class cannot be less than n_splits=10.\n",
      "  % (min_groups, self.n_splits)), Warning)\n"
     ]
    },
    {
     "name": "stdout",
     "output_type": "stream",
     "text": [
      "Accuracy: 0.59 (+/- 0.09)\n"
     ]
    }
   ],
   "source": [
    "scores_lr_ts = cross_val_score(lr, X_test_smaller,y_test_smaller,cv=10)\n",
    "\n",
    "print(\"Accuracy: %0.2f (+/- %0.2f)\" % (scores.mean(), scores.std() * 2))"
   ]
  },
  {
   "cell_type": "markdown",
   "metadata": {},
   "source": [
    "c. random forest"
   ]
  },
  {
   "cell_type": "code",
   "execution_count": 84,
   "metadata": {},
   "outputs": [
    {
     "data": {
      "text/plain": [
       "RandomForestClassifier(bootstrap=True, class_weight=None, criterion='gini',\n",
       "            max_depth=None, max_features='auto', max_leaf_nodes=None,\n",
       "            min_impurity_decrease=0.0, min_impurity_split=None,\n",
       "            min_samples_leaf=1, min_samples_split=2,\n",
       "            min_weight_fraction_leaf=0.0, n_estimators=10, n_jobs=1,\n",
       "            oob_score=False, random_state=None, verbose=0,\n",
       "            warm_start=False)"
      ]
     },
     "execution_count": 84,
     "metadata": {},
     "output_type": "execute_result"
    }
   ],
   "source": [
    "rfc = ensemble.RandomForestClassifier()\n",
    "\n",
    "rfc.fit(X_train_smaller,y_train_smaller)"
   ]
  },
  {
   "cell_type": "code",
   "execution_count": 85,
   "metadata": {},
   "outputs": [],
   "source": [
    "train = rfc.score(X_train_smaller,y_train_smaller)"
   ]
  },
  {
   "cell_type": "code",
   "execution_count": 86,
   "metadata": {},
   "outputs": [],
   "source": [
    "test = rfc.score(X_test_smaller,y_test_smaller)"
   ]
  },
  {
   "cell_type": "code",
   "execution_count": 87,
   "metadata": {},
   "outputs": [
    {
     "name": "stdout",
     "output_type": "stream",
     "text": [
      "Training set score: 0.9980719794344473\n",
      "\n",
      "Test set score: 0.5077071290944123\n"
     ]
    }
   ],
   "source": [
    "print('Training set score:', train)\n",
    "print('\\nTest set score:', test)"
   ]
  },
  {
   "cell_type": "code",
   "execution_count": 88,
   "metadata": {},
   "outputs": [
    {
     "name": "stderr",
     "output_type": "stream",
     "text": [
      "/anaconda3/lib/python3.6/site-packages/sklearn/model_selection/_split.py:605: Warning: The least populated class in y has only 1 members, which is too few. The minimum number of members in any class cannot be less than n_splits=10.\n",
      "  % (min_groups, self.n_splits)), Warning)\n"
     ]
    },
    {
     "name": "stdout",
     "output_type": "stream",
     "text": [
      "Accuracy: 0.44 (+/- 0.30)\n"
     ]
    }
   ],
   "source": [
    "scores_rfc = cross_val_score(rfc, X_test_smaller,y_test_smaller,cv=10)\n",
    "\n",
    "print(\"Accuracy: %0.2f (+/- %0.2f)\" % (scores_rfc.mean(), scores_rfc.std() * 2))"
   ]
  },
  {
   "cell_type": "markdown",
   "metadata": {},
   "source": [
    "# Part 5 - back to holdout group\n",
    "\n",
    "Lastly return to your holdout group. Does your clustering on those members perform as you'd expect? Have your clusters remained stable or changed dramatically? What about your model? Is it's performance consistent?\n",
    "\n",
    "### clustering on holdout group\n",
    "\n",
    "first i need to normalize the data"
   ]
  },
  {
   "cell_type": "code",
   "execution_count": 89,
   "metadata": {},
   "outputs": [],
   "source": [
    "X_test_norm = normalize(X_test)"
   ]
  },
  {
   "cell_type": "markdown",
   "metadata": {},
   "source": [
    "K Means"
   ]
  },
  {
   "cell_type": "code",
   "execution_count": 90,
   "metadata": {},
   "outputs": [
    {
     "data": {
      "image/png": "[encoded data removed]",
      "text/plain": [
       "<Figure size 432x288 with 1 Axes>"
      ]
     },
     "metadata": {},
     "output_type": "display_data"
    },
    {
     "name": "stdout",
     "output_type": "stream",
     "text": [
      "Time: 1.4152870178222656 seconds \n",
      "Comparing k-means clusters against the data:\n",
      "author_id  1039136  1051122  1231400  1284157  1380515  151688  1531340  \\\n",
      "row_0                                                                     \n",
      "0                2        3        0        2        1       2       31   \n",
      "1               11        1        1        0        0       2       19   \n",
      "2                0        0        0        0        0       0        0   \n",
      "\n",
      "author_id  1632855  1835108  1922130   ...    4233719  4236576  4242032  \\\n",
      "row_0                                  ...                                \n",
      "0                1        4        4   ...          8        1        2   \n",
      "1                0        1        5   ...          0        4        2   \n",
      "2                0        0        0   ...          0        0        0   \n",
      "\n",
      "author_id  4242778  4254590  4286279  4300702  669764  698952  815748  \n",
      "row_0                                                                  \n",
      "0                6        3        0        4       2      10      38  \n",
      "1                0        0        1        1       0       1       8  \n",
      "2                0        0        0        0       0       0       0  \n",
      "\n",
      "[3 rows x 204 columns]\n"
     ]
    }
   ],
   "source": [
    "start = time()\n",
    "# Calculate predicted values.\n",
    "y_pred = KMeans(n_clusters=3, random_state=42).fit_predict(X_test_norm)\n",
    "\n",
    "# Plot the solution.\n",
    "plt.scatter(X_test_norm[:, 0], X_test_norm[:, 1], c=y_pred)\n",
    "plt.show()\n",
    "\n",
    "print('Time: {} seconds '.format(time()-start))\n",
    "# Check the solution against the data.\n",
    "print('Comparing k-means clusters against the data:')\n",
    "print(pd.crosstab(y_pred, y_test))\n",
    "\n",
    "# going to add the info back into the dataframe later\n",
    "kmeans_clusters = y_pred"
   ]
  },
  {
   "cell_type": "markdown",
   "metadata": {},
   "source": [
    "Mean shift"
   ]
  },
  {
   "cell_type": "code",
   "execution_count": 91,
   "metadata": {},
   "outputs": [
    {
     "name": "stdout",
     "output_type": "stream",
     "text": [
      "Number of estimated clusters: 2\n"
     ]
    },
    {
     "data": {
      "image/png": "[encoded data removed]",
      "text/plain": [
       "<Figure size 432x288 with 1 Axes>"
      ]
     },
     "metadata": {},
     "output_type": "display_data"
    },
    {
     "name": "stdout",
     "output_type": "stream",
     "text": [
      "Comparing the assigned categories to the ones in the data:\n",
      "col_0       0  1\n",
      "author_id       \n",
      "1039136     8  5\n",
      "1051122     3  1\n",
      "1231400     1  0\n",
      "1284157     2  0\n",
      "1380515     1  0\n",
      "151688      4  0\n",
      "1531340    43  7\n",
      "1632855     1  0\n",
      "1835108     5  0\n",
      "1922130     9  0\n",
      "1961258     8  1\n",
      "1965814     5  0\n",
      "2019990    14  1\n",
      "2020552     2  0\n",
      "2048452     2  0\n"
     ]
    }
   ],
   "source": [
    "ms.fit(X_test_norm)\n",
    "\n",
    "# Extract cluster assignments for each data point.\n",
    "labels = ms.labels_\n",
    "\n",
    "# Coordinates of the cluster centers.\n",
    "cluster_centers = ms.cluster_centers_\n",
    "\n",
    "# Count our clusters.\n",
    "n_clusters_ = len(np.unique(labels))\n",
    "\n",
    "print(\"Number of estimated clusters: {}\".format(n_clusters_))\n",
    "\n",
    "plt.scatter(X_test_norm[:, 0], X_test_norm[:, 1], c=labels)\n",
    "plt.show()\n",
    "\n",
    "print('Comparing the assigned categories to the ones in the data:')\n",
    "print(pd.crosstab(y_test,labels).head(15))\n"
   ]
  },
  {
   "cell_type": "code",
   "execution_count": 92,
   "metadata": {},
   "outputs": [],
   "source": [
    "clusters = ms.labels_.tolist()"
   ]
  },
  {
   "cell_type": "code",
   "execution_count": null,
   "metadata": {},
   "outputs": [],
   "source": []
  },
  {
   "cell_type": "code",
   "execution_count": 93,
   "metadata": {},
   "outputs": [],
   "source": [
    "# add the clusters as features for the next step\n",
    "\n",
    "X_test['cluster'] = clusters\n",
    "X_test['kmeans_cluster'] = kmeans_clusters"
   ]
  },
  {
   "cell_type": "markdown",
   "metadata": {},
   "source": [
    "## modelling\n",
    "\n",
    "same steps to add the features, then using the previously fit models on the holdout data to see how it works"
   ]
  },
  {
   "cell_type": "code",
   "execution_count": 94,
   "metadata": {},
   "outputs": [],
   "source": [
    "#X_test.columns.values"
   ]
  },
  {
   "cell_type": "markdown",
   "metadata": {},
   "source": [
    "The model below won't work because a column is missing. Let's see what it is and add it if that is feasible."
   ]
  },
  {
   "cell_type": "code",
   "execution_count": 95,
   "metadata": {},
   "outputs": [],
   "source": [
    "#test_cols = X_test_bin.columns.values\n",
    "#with_cols = withbin.columns.values\n",
    "\n",
    "#for col in with_cols:\n",
    "#    if col not in test_cols:\n",
    "#        print(col)"
   ]
  },
  {
   "cell_type": "code",
   "execution_count": 96,
   "metadata": {},
   "outputs": [],
   "source": [
    "# X_test_bin['industry_Advertising'] = 0"
   ]
  },
  {
   "cell_type": "markdown",
   "metadata": {},
   "source": [
    "gradient boosting\n"
   ]
  },
  {
   "cell_type": "code",
   "execution_count": 97,
   "metadata": {},
   "outputs": [
    {
     "name": "stdout",
     "output_type": "stream",
     "text": [
      "Holdout score: 0.46315028901734107\n"
     ]
    }
   ],
   "source": [
    "new_testing_score = clf.score(X_test, y_test)\n",
    "\n",
    "print('Holdout score:', new_testing_score)"
   ]
  },
  {
   "cell_type": "code",
   "execution_count": 98,
   "metadata": {},
   "outputs": [
    {
     "name": "stderr",
     "output_type": "stream",
     "text": [
      "/anaconda3/lib/python3.6/site-packages/sklearn/model_selection/_split.py:605: Warning: The least populated class in y has only 1 members, which is too few. The minimum number of members in any class cannot be less than n_splits=10.\n",
      "  % (min_groups, self.n_splits)), Warning)\n"
     ]
    },
    {
     "name": "stdout",
     "output_type": "stream",
     "text": [
      "Accuracy: 0.50 (+/-  0.29)\n"
     ]
    }
   ],
   "source": [
    "scores_gb = cross_val_score(clf,X_test,y_test,cv=10)\n",
    "\n",
    "print(\"Accuracy: %0.2f (+/-  %0.2f)\" % (scores_gb.mean(), scores_gb.std()*2 ))"
   ]
  },
  {
   "cell_type": "markdown",
   "metadata": {},
   "source": [
    "logistic regression"
   ]
  },
  {
   "cell_type": "code",
   "execution_count": 99,
   "metadata": {},
   "outputs": [
    {
     "data": {
      "text/plain": [
       "0.684971098265896"
      ]
     },
     "execution_count": 99,
     "metadata": {},
     "output_type": "execute_result"
    }
   ],
   "source": [
    "lr.score(X_test, y_test)"
   ]
  },
  {
   "cell_type": "code",
   "execution_count": 100,
   "metadata": {},
   "outputs": [
    {
     "name": "stderr",
     "output_type": "stream",
     "text": [
      "/anaconda3/lib/python3.6/site-packages/sklearn/model_selection/_split.py:605: Warning: The least populated class in y has only 1 members, which is too few. The minimum number of members in any class cannot be less than n_splits=10.\n",
      "  % (min_groups, self.n_splits)), Warning)\n"
     ]
    },
    {
     "name": "stdout",
     "output_type": "stream",
     "text": [
      "Accuracy: 0.61 (+/- 0.28)\n"
     ]
    }
   ],
   "source": [
    "lr_cv = cross_val_score(lr,X_test,y_test,cv=10)\n",
    "\n",
    "print(\"Accuracy: %0.2f (+/- %0.2f)\" % (lr_cv.mean(), lr_cv.std() * 2 ))"
   ]
  },
  {
   "cell_type": "markdown",
   "metadata": {},
   "source": [
    "random forest"
   ]
  },
  {
   "cell_type": "code",
   "execution_count": 101,
   "metadata": {},
   "outputs": [
    {
     "data": {
      "text/plain": [
       "0.3908959537572254"
      ]
     },
     "execution_count": 101,
     "metadata": {},
     "output_type": "execute_result"
    }
   ],
   "source": [
    "rfc.score(X_test,y_test)"
   ]
  },
  {
   "cell_type": "code",
   "execution_count": 102,
   "metadata": {},
   "outputs": [
    {
     "name": "stderr",
     "output_type": "stream",
     "text": [
      "/anaconda3/lib/python3.6/site-packages/sklearn/model_selection/_split.py:605: Warning: The least populated class in y has only 1 members, which is too few. The minimum number of members in any class cannot be less than n_splits=10.\n",
      "  % (min_groups, self.n_splits)), Warning)\n"
     ]
    },
    {
     "name": "stdout",
     "output_type": "stream",
     "text": [
      "Accuracy: 0.47 (+/- 0.22)\n"
     ]
    }
   ],
   "source": [
    "scores_rfc_t = cross_val_score(rfc, X_test,y_test,cv=10)\n",
    "\n",
    "print(\"Accuracy: %0.2f (+/- %0.2f)\" % (scores_rfc_t.mean(), scores_rfc_t.std() * 2))"
   ]
  },
  {
   "cell_type": "markdown",
   "metadata": {},
   "source": [
    "<hr width=\"50%\" />\n",
    "\n",
    "### Conclusion\n",
    "\n",
    "The clusters generated on the test group seem the most different when comparing the test group to the training group, possibly because the amount of data is so much less, and as a result the variance and distinct features are also less.\n",
    "\n",
    "The models are not especially great for both the training and testing groups. It looks like they are either overfit or have a lack of accuracy that is concerning and makes their usefulness questionable.\n",
    "\n",
    "When comparing clustering to modeling, in terms of classifying these texts, it appears like modelling is better for isolating specific features and would be good if you had an idea of what specific features would be most useful to generate, or if you had the patience to do that.\n",
    "\n",
    "Clustering on the other hand was approximately as accurate but didn't require knowing much about the contents of the posts in order to organize them by author.\n",
    "\n",
    "In consideration of that, I think in this case clustering was the best method, because it didn't require knowledge of the contents of the text. However, I imagine if someone did have an idea of the contexts of the text, they would be able to generate more specifically targeted features, and potentially in that case, modelling could perform significantly better.\n",
    "\n"
   ]
  },
  {
   "cell_type": "code",
   "execution_count": null,
   "metadata": {},
   "outputs": [],
   "source": []
  }
 ],
 "metadata": {
  "kernelspec": {
   "display_name": "Python 3",
   "language": "python",
   "name": "python3"
  },
  "language_info": {
   "codemirror_mode": {
    "name": "ipython",
    "version": 3
   },
   "file_extension": ".py",
   "mimetype": "text/x-python",
   "name": "python",
   "nbconvert_exporter": "python",
   "pygments_lexer": "ipython3",
   "version": "3.6.5"
  }
 },
 "nbformat": 4,
 "nbformat_minor": 2
}
