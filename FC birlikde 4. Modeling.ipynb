{
 "cells": [
  {
   "cell_type": "markdown",
   "metadata": {},
   "source": [
    "# Title \n",
    "## 4. Modeling\n",
    "\n",
    "### Import statements and files"
   ]
  },
  {
   "cell_type": "code",
   "execution_count": 1,
   "metadata": {},
   "outputs": [],
   "source": [
    "import numpy as np\n",
    "import pandas as pd\n",
    "import sklearn\n",
    "import matplotlib.pyplot as plt"
   ]
  },
  {
   "cell_type": "code",
   "execution_count": 2,
   "metadata": {},
   "outputs": [],
   "source": [
    "hatemaps = pd.read_csv('/Users/gemma/Documents/data science/fc-hatemaps.csv')\n",
    "crimes_by_state = pd.read_csv('/Users/gemma/Documents/data science/fc-crimes_by_state.csv')\n",
    "state_totals = pd.read_csv('/Users/gemma/Documents/data science/fc-hate-state_totals.csv')\n",
    "by_city_only = pd.read_csv('/Users/gemma/Documents/data science/fc-hate-by_city.csv')"
   ]
  },
  {
   "cell_type": "markdown",
   "metadata": {},
   "source": [
    "### Feature engineering\n",
    "\n",
    "First, some ideas of features that I had. Later, I'll use some unsupervised methods.\n",
    "\n",
    "* Number of unique cities per state with at least 1 reported hate crime\n",
    "* Max count of hate groups in any 1 city in each state\n",
    "* Number of unique cities per state with at least 1 hate group\n",
    "* Binary indicators of 5 largest hate groups presence in each city / state"
   ]
  },
  {
   "cell_type": "code",
   "execution_count": 3,
   "metadata": {},
   "outputs": [],
   "source": [
    "# number of unique cities per state with at least 1 reported hate crime\n",
    "\n",
    "state_totals = pd.merge(state_totals, \n",
    "                        by_city_only.groupby(['Year','State'])['Agency name'].nunique().reset_index().rename(index=str,\n",
    "                            columns={'Agency name': 'Number of cities with 1+ hate crime'}), \n",
    "                        on=['Year','State'])"
   ]
  },
  {
   "cell_type": "code",
   "execution_count": 4,
   "metadata": {},
   "outputs": [],
   "source": [
    "# max count of hate groups in 1 city in each state\n",
    "\n",
    "state_totals = pd.merge(state_totals, hatemaps.groupby(['Year','State',\n",
    "                  'City'])['Group Name'].count().groupby(['Year',\n",
    "                 'State']).max().reset_index().rename(index=str,columns={'Group Name': \n",
    "                    'Largest num of hate groups in any 1 city'}),\n",
    "                        on=['Year','State'])\n"
   ]
  },
  {
   "cell_type": "code",
   "execution_count": 5,
   "metadata": {},
   "outputs": [],
   "source": [
    "# count of unique cities with 1 or more hate groups in each state per year\n",
    "\n",
    "state_totals = pd.merge(state_totals, \n",
    "                        hatemaps.groupby(['Year',\n",
    "                            'State'])['City'].nunique().reset_index().rename(index=str,\n",
    "                            columns={'City': 'Number of cities with 1+ hate groups'}), \n",
    "                        on=['Year','State'])"
   ]
  },
  {
   "cell_type": "code",
   "execution_count": 6,
   "metadata": {},
   "outputs": [],
   "source": [
    "# for the cumulatively largest 5 hate groups (by count) in each category, \n",
    "# binary indicators of whether or not they exist in each state\n",
    "\n",
    "# first get the names of the hate groups\n",
    "largest_five = []\n",
    "\n",
    "for htype in hatemaps['Hate Type'].unique():\n",
    "\n",
    "    templist = hatemaps[hatemaps['Hate Type'] == htype].groupby(['Group Name'])['Group Name'].count().sort_values(ascending=False).head(5).index.tolist()\n",
    "\n",
    "    for gr_name in templist:\n",
    "        # add it to the list of largest five\n",
    "        largest_five.append(gr_name)\n",
    "        # also add a column to the hatemaps\n",
    "        hatemaps[gr_name] = 0\n"
   ]
  },
  {
   "cell_type": "code",
   "execution_count": 7,
   "metadata": {},
   "outputs": [],
   "source": [
    "# then add the names to the dataframe\n",
    "\n",
    "for i, name in enumerate(hatemaps['Group Name'].tolist()):\n",
    "    if name in largest_five:\n",
    "        hatemaps.loc[i, name] =1"
   ]
  },
  {
   "cell_type": "code",
   "execution_count": 8,
   "metadata": {},
   "outputs": [],
   "source": [
    "# add them as features to the states table\n",
    "\n",
    "state_totals = pd.merge(state_totals, \n",
    "                        hatemaps.groupby(['Year','State'])[largest_five].sum().reset_index(), \n",
    "                        on=['Year','State'])"
   ]
  },
  {
   "cell_type": "code",
   "execution_count": 9,
   "metadata": {},
   "outputs": [],
   "source": [
    "# add them as features to the city table as well\n",
    "\n",
    "by_city_only = pd.merge(by_city_only, hatemaps, how=\"outer\",  \n",
    "                        right_on=['Year','State','City'], \n",
    "         left_on=['Year','State', 'Agency name']).fillna(0)"
   ]
  },
  {
   "cell_type": "markdown",
   "metadata": {},
   "source": [
    "## feature engineering with unsupervised learning\n",
    "\n",
    "* NLP - topic extraction\n",
    "* Autoencoders?? (neural networks)\n",
    "* clusters with mean shift\n",
    "\n",
    "Using NLP I'll analyze the names of the hategroups and design features that will then be added to the tables above.\n",
    "\n",
    "* keyword extraction\n",
    "* topics"
   ]
  },
  {
   "cell_type": "code",
   "execution_count": 10,
   "metadata": {},
   "outputs": [],
   "source": [
    "import spacy\n",
    "from sklearn.feature_extraction.text import TfidfVectorizer\n",
    "\n",
    "import nltk\n",
    "from nltk.corpus import stopwords\n",
    "import string\n",
    "\n",
    "import networkx as nx\n",
    "\n",
    "from gensim.test.utils import datapath\n",
    "from gensim.models.word2vec import Text8Corpus\n",
    "from gensim.models.phrases import Phrases, Phraser"
   ]
  },
  {
   "cell_type": "code",
   "execution_count": 11,
   "metadata": {},
   "outputs": [],
   "source": [
    "# get all of the hate group names\n",
    "\n",
    "hgnames = hatemaps['Group Name'].tolist()\n",
    "\n",
    "newlist = []\n",
    "\n",
    "for word in hgnames:\n",
    "    newlist.append(word.replace('the',''))\n",
    "\n",
    "hgnames_string = \". \".join(hgnames)\n",
    "newlist_string = \". \".join(newlist)"
   ]
  },
  {
   "cell_type": "code",
   "execution_count": 12,
   "metadata": {},
   "outputs": [],
   "source": [
    "nlp = spacy.load('en')\n",
    "\n",
    "# parse the names\n",
    "hgp = nlp(newlist_string)"
   ]
  },
  {
   "cell_type": "code",
   "execution_count": 13,
   "metadata": {},
   "outputs": [],
   "source": [
    "# Dividing the text into sentences and storing them as a list of strings.\n",
    "sentences=[]\n",
    "for span in hgp.sents:\n",
    "    # go from the start to the end of each span, returning each token in the sentence\n",
    "    # combine each token using join()\n",
    "    sent = ''.join(hgp[i].string for i in range(span.start, span.end)).strip()\n",
    "    sentences.append(sent)\n",
    "\n",
    "# Creating the tf-idf matrix.\n",
    "counter = TfidfVectorizer(lowercase=False, \n",
    "                          stop_words='english',\n",
    "                          ngram_range=(1, 1), \n",
    "                          analyzer=u'word', \n",
    "                          max_df=.5, \n",
    "                          min_df=1,\n",
    "                          max_features=None, \n",
    "                          vocabulary=None, \n",
    "                          binary=False)\n",
    "\n",
    "#Applying the vectorizer\n",
    "data_counts=counter.fit_transform(sentences)"
   ]
  },
  {
   "cell_type": "code",
   "execution_count": 14,
   "metadata": {},
   "outputs": [
    {
     "name": "stdout",
     "output_type": "stream",
     "text": [
      "['christian', 'american', 'knights', 'ku', 'klu', 'klan', 'church', 'national', 'knights', 'ku', 'klu', 'klan', 'confederate', 'white', 'knights', 'ku', 'klu', 'klan', 'east coast', 'knights', 'true invisible', 'empire', 'georgia knight', 'riders', 'ku']\n"
     ]
    }
   ],
   "source": [
    "stop = stopwords.words('english') + list(string.punctuation) + [\"''\", \"``\" , \"--\", \"n't\", \"'ve\", \"'s\"]\n",
    "\n",
    "\n",
    "sentence_stream = [[i.lower() for i in nltk.word_tokenize(sent) if i.lower() not in stop]  for sent in sentences]\n",
    "bigram = Phrases(sentence_stream, min_count=1, threshold=3, delimiter=b' ')\n",
    "bigram_phraser = Phraser(bigram)\n",
    "tokens_ = bigram_phraser[sentence_stream]\n",
    "\n",
    "bigrams_t = tokens_\n",
    "\n",
    "bigrams_o = [i for j in bigrams_t for i in j]\n",
    "print(bigrams_o[:25])"
   ]
  },
  {
   "cell_type": "code",
   "execution_count": null,
   "metadata": {},
   "outputs": [],
   "source": []
  },
  {
   "cell_type": "code",
   "execution_count": 15,
   "metadata": {},
   "outputs": [
    {
     "name": "stdout",
     "output_type": "stream",
     "text": [
      "done!\n"
     ]
    }
   ],
   "source": [
    "# Removing stop words and punctuation, then getting a list of all unique words in the text\n",
    "hgp_filt_2 = [word for word in bigrams_o if word not in stop]\n",
    "words2=set(hgp_filt_2)\n",
    "\n",
    "#Creating a grid indicating whether words are within 4 places of the target word\n",
    "adjacency2=pd.DataFrame(columns=words2,index=words2,data=0)\n",
    "\n",
    "#Iterating through each word in the text and indicating which of the unique words are its neighbors\n",
    "for i,word in enumerate(bigrams_o):\n",
    "    # Checking if any of the word's next four neighbors are in the word list \n",
    "    if any([word == item for item in hgp_filt_2]):\n",
    "        # Making sure to stop at the end of the string, even if there are less than \n",
    "        # four words left after the target.\n",
    "        end=max(0,len(bigrams_o)-(len(bigrams_o)-(i+6)))\n",
    "        # The potential neighbors.\n",
    "        nextwords=bigrams_o[i+1:end]\n",
    "        # Filtering the neighbors to select only those in the word list\n",
    "        inset=[x in hgp_filt_2 for x in nextwords]\n",
    "        neighbors=[nextwords[i] for i in range(len(nextwords)) if inset[i]]\n",
    "        # Adding 1 to the adjacency matrix for neighbors of the target word\n",
    "        if neighbors:\n",
    "            adjacency2.loc[word,neighbors]=adjacency2.loc[word,neighbors]+1\n",
    "\n",
    "print('done!')\n"
   ]
  },
  {
   "cell_type": "code",
   "execution_count": 16,
   "metadata": {},
   "outputs": [
    {
     "name": "stderr",
     "output_type": "stream",
     "text": [
      "/anaconda3/lib/python3.6/site-packages/ipykernel_launcher.py:3: FutureWarning: Method .as_matrix will be removed in a future version. Use .values instead.\n",
      "  This is separate from the ipykernel package so we can avoid doing imports until\n"
     ]
    },
    {
     "name": "stdout",
     "output_type": "stream",
     "text": [
      "[(0.03218013173297323, 'knights'), (0.031171350170183174, 'ku'), (0.03097284375580873, 'klan'), (0.03021227245517635, 'klu'), (0.025756638636265785, 'national')]\n"
     ]
    }
   ],
   "source": [
    "\n",
    "# Running TextRank\n",
    "nx_words2 = nx.from_numpy_matrix(adjacency2.as_matrix())\n",
    "ranks2=nx.pagerank(nx_words2, alpha=.85, tol=.00000001)\n",
    "\n",
    "# Identifying the five most highly ranked keywords\n",
    "ranked2 = sorted(((ranks2[i],s) for i,s in enumerate(words2)),\n",
    "                reverse=True)\n",
    "print(ranked2[:5])\n"
   ]
  },
  {
   "cell_type": "code",
   "execution_count": 17,
   "metadata": {},
   "outputs": [
    {
     "name": "stdout",
     "output_type": "stream",
     "text": [
      "['christian', 'american', 'knights', 'ku', 'klu', 'klan', 'church', 'national', 'knights', 'ku', 'klu', 'klan', 'confederate white', 'knights', 'ku', 'klu', 'klan', 'east coast', 'knights', 'true invisible empire', 'georgia knight riders', 'ku', 'klu', 'klan', 'great', 'lakes', 'knights', 'ku', 'klu', 'klan', 'international keystone', 'knights', 'ku', 'klu', 'klan', 'knights', 'ku', 'klu', 'klan', 'knights', 'white disciples', 'ku', 'klos', 'knights', 'ku', 'klu', 'klan', 'loyal white', 'knights', 'ku']\n"
     ]
    }
   ],
   "source": [
    "trigram = Phrases(tokens_, min_count=1, threshold=2, delimiter=b' ')\n",
    "trigram_phraser = Phraser(trigram)\n",
    "tokens__ = trigram_phraser[tokens_]\n",
    "\n",
    "all_words = [i for j in tokens__ for i in j]\n",
    "print(all_words[:50])"
   ]
  },
  {
   "cell_type": "code",
   "execution_count": 18,
   "metadata": {},
   "outputs": [
    {
     "name": "stdout",
     "output_type": "stream",
     "text": [
      "done!\n"
     ]
    }
   ],
   "source": [
    "# Removing stop words and punctuation, then getting a list of all unique words in the text\n",
    "gatsby_filt_2 = [word for word in all_words if word not in stop]\n",
    "words2=set(gatsby_filt_2)\n",
    "\n",
    "#Creating a grid indicating whether words are within 4 places of the target word\n",
    "adjacency2=pd.DataFrame(columns=words2,index=words2,data=0)\n",
    "\n",
    "#Iterating through each word in the text and indicating which of the unique words are its neighbors\n",
    "for i,word in enumerate(all_words):\n",
    "    # Checking if any of the word's next four neighbors are in the word list \n",
    "    if any([word == item for item in gatsby_filt_2]):\n",
    "        # Making sure to stop at the end of the string, even if there are less than \n",
    "        # four words left after the target.\n",
    "        end=max(0,len(all_words)-(len(all_words)-(i+6)))\n",
    "        # The potential neighbors.\n",
    "        nextwords=all_words[i+1:end]\n",
    "        # Filtering the neighbors to select only those in the word list\n",
    "        inset=[x in gatsby_filt_2 for x in nextwords]\n",
    "        neighbors=[nextwords[i] for i in range(len(nextwords)) if inset[i]]\n",
    "        # Adding 1 to the adjacency matrix for neighbors of the target word\n",
    "        if neighbors:\n",
    "            adjacency2.loc[word,neighbors]=adjacency2.loc[word,neighbors]+1\n",
    "\n",
    "print('done!')\n"
   ]
  },
  {
   "cell_type": "code",
   "execution_count": 19,
   "metadata": {},
   "outputs": [
    {
     "name": "stderr",
     "output_type": "stream",
     "text": [
      "/anaconda3/lib/python3.6/site-packages/ipykernel_launcher.py:3: FutureWarning: Method .as_matrix will be removed in a future version. Use .values instead.\n",
      "  This is separate from the ipykernel package so we can avoid doing imports until\n"
     ]
    },
    {
     "name": "stdout",
     "output_type": "stream",
     "text": [
      "[(0.03178269853982189, 'knights'), (0.0312698261154431, 'national'), (0.03077380496419143, 'ku'), (0.030682882672809095, 'klan'), (0.0298041768475479, 'klu')]\n"
     ]
    }
   ],
   "source": [
    "\n",
    "# Running TextRank\n",
    "nx_words2 = nx.from_numpy_matrix(adjacency2.as_matrix())\n",
    "ranks2=nx.pagerank(nx_words2, alpha=.85, tol=.00000001)\n",
    "\n",
    "# Identifying the five most highly ranked keywords\n",
    "ranked2 = sorted(((ranks2[i],s) for i,s in enumerate(words2)),\n",
    "                reverse=True)\n",
    "print(ranked2[:5])\n"
   ]
  },
  {
   "cell_type": "markdown",
   "metadata": {},
   "source": [
    "Extracting keywords with both bigram and trigram resulted in very similar results, perhaps unsurprisingly, considering the sizes of the hate groups from the data analysis section. They show that the most common key words are variations of \"ku klux klan\" for the most part, and also \"white\", \"american\", and \"state\"."
   ]
  },
  {
   "cell_type": "code",
   "execution_count": 20,
   "metadata": {},
   "outputs": [],
   "source": [
    "# adding the vectors from the keywords back into the hatemaps dataframe\n",
    "\n",
    "hatemaps['vector'] = 0\n",
    "\n",
    "for v, k in ranked2:\n",
    "    for i in hatemaps[hatemaps['Group Name'].str.contains(k)].index:\n",
    "        #print(hatemaps['Group Name'].str.contains(k).index)\n",
    "        hatemaps.loc[i, 'vector'] += v\n",
    "       "
   ]
  },
  {
   "cell_type": "code",
   "execution_count": 21,
   "metadata": {},
   "outputs": [],
   "source": [
    "by_city_only.rename(index=str,columns={'Agency name': 'City'}, inplace=True)"
   ]
  },
  {
   "cell_type": "code",
   "execution_count": 22,
   "metadata": {},
   "outputs": [],
   "source": [
    "# get a vector for the city if there is data for it\n",
    "vector_city = hatemaps.groupby(['City','State','Year'])['vector'].sum().reset_index()\n",
    "\n",
    "by_city_only = pd.merge(by_city_only,vector_city, on=['Year','State','City'], how='left')"
   ]
  },
  {
   "cell_type": "code",
   "execution_count": 23,
   "metadata": {},
   "outputs": [],
   "source": [
    "# get the vector for the state, just in case there is no city vector\n",
    "vector_state = hatemaps.groupby(['State','Year'])['vector'].sum().reset_index()\n",
    "\n",
    "by_city_only = pd.merge(by_city_only,vector_state, on=['Year','State'], how='left')"
   ]
  },
  {
   "cell_type": "code",
   "execution_count": 24,
   "metadata": {},
   "outputs": [
    {
     "data": {
      "text/html": [
       "<div>\n",
       "<style scoped>\n",
       "    .dataframe tbody tr th:only-of-type {\n",
       "        vertical-align: middle;\n",
       "    }\n",
       "\n",
       "    .dataframe tbody tr th {\n",
       "        vertical-align: top;\n",
       "    }\n",
       "\n",
       "    .dataframe thead th {\n",
       "        text-align: right;\n",
       "    }\n",
       "</style>\n",
       "<table border=\"1\" class=\"dataframe\">\n",
       "  <thead>\n",
       "    <tr style=\"text-align: right;\">\n",
       "      <th></th>\n",
       "      <th>Year</th>\n",
       "      <th>State</th>\n",
       "      <th>City</th>\n",
       "      <th>REA</th>\n",
       "      <th>Religion</th>\n",
       "      <th>Disability</th>\n",
       "      <th>Gender</th>\n",
       "      <th>Gender Identity</th>\n",
       "      <th>Sexual orientation</th>\n",
       "      <th>Total offenses</th>\n",
       "      <th>...</th>\n",
       "      <th>micetrap distribution</th>\n",
       "      <th>desastrious records</th>\n",
       "      <th>tightrope</th>\n",
       "      <th>tradition in action</th>\n",
       "      <th>slaves of the immaculate heart of mary</th>\n",
       "      <th>catholic counterpoint</th>\n",
       "      <th>culture wars/fidelity press</th>\n",
       "      <th>omni christian book club</th>\n",
       "      <th>City_vector</th>\n",
       "      <th>State_vector</th>\n",
       "    </tr>\n",
       "  </thead>\n",
       "  <tbody>\n",
       "    <tr>\n",
       "      <th>0</th>\n",
       "      <td>2006</td>\n",
       "      <td>AL</td>\n",
       "      <td>Atmore</td>\n",
       "      <td>1.0</td>\n",
       "      <td>0.0</td>\n",
       "      <td>0.0</td>\n",
       "      <td>0.0</td>\n",
       "      <td>0.0</td>\n",
       "      <td>0.0</td>\n",
       "      <td>1.0</td>\n",
       "      <td>...</td>\n",
       "      <td>0.0</td>\n",
       "      <td>0.0</td>\n",
       "      <td>0.0</td>\n",
       "      <td>0.0</td>\n",
       "      <td>0.0</td>\n",
       "      <td>0.0</td>\n",
       "      <td>0.0</td>\n",
       "      <td>0.0</td>\n",
       "      <td>NaN</td>\n",
       "      <td>0.588282</td>\n",
       "    </tr>\n",
       "    <tr>\n",
       "      <th>1</th>\n",
       "      <td>2006</td>\n",
       "      <td>AK</td>\n",
       "      <td>Anchorage</td>\n",
       "      <td>4.0</td>\n",
       "      <td>0.0</td>\n",
       "      <td>0.0</td>\n",
       "      <td>0.0</td>\n",
       "      <td>0.0</td>\n",
       "      <td>2.0</td>\n",
       "      <td>11.0</td>\n",
       "      <td>...</td>\n",
       "      <td>0.0</td>\n",
       "      <td>0.0</td>\n",
       "      <td>0.0</td>\n",
       "      <td>0.0</td>\n",
       "      <td>0.0</td>\n",
       "      <td>0.0</td>\n",
       "      <td>0.0</td>\n",
       "      <td>0.0</td>\n",
       "      <td>NaN</td>\n",
       "      <td>0.066278</td>\n",
       "    </tr>\n",
       "    <tr>\n",
       "      <th>2</th>\n",
       "      <td>2006</td>\n",
       "      <td>AZ</td>\n",
       "      <td>Apache Junction</td>\n",
       "      <td>1.0</td>\n",
       "      <td>0.0</td>\n",
       "      <td>0.0</td>\n",
       "      <td>0.0</td>\n",
       "      <td>0.0</td>\n",
       "      <td>0.0</td>\n",
       "      <td>215.0</td>\n",
       "      <td>...</td>\n",
       "      <td>0.0</td>\n",
       "      <td>0.0</td>\n",
       "      <td>0.0</td>\n",
       "      <td>0.0</td>\n",
       "      <td>0.0</td>\n",
       "      <td>0.0</td>\n",
       "      <td>0.0</td>\n",
       "      <td>0.0</td>\n",
       "      <td>NaN</td>\n",
       "      <td>0.182106</td>\n",
       "    </tr>\n",
       "    <tr>\n",
       "      <th>3</th>\n",
       "      <td>2006</td>\n",
       "      <td>AZ</td>\n",
       "      <td>Bullhead City</td>\n",
       "      <td>1.0</td>\n",
       "      <td>0.0</td>\n",
       "      <td>0.0</td>\n",
       "      <td>0.0</td>\n",
       "      <td>0.0</td>\n",
       "      <td>0.0</td>\n",
       "      <td>215.0</td>\n",
       "      <td>...</td>\n",
       "      <td>0.0</td>\n",
       "      <td>0.0</td>\n",
       "      <td>0.0</td>\n",
       "      <td>0.0</td>\n",
       "      <td>0.0</td>\n",
       "      <td>0.0</td>\n",
       "      <td>0.0</td>\n",
       "      <td>0.0</td>\n",
       "      <td>NaN</td>\n",
       "      <td>0.182106</td>\n",
       "    </tr>\n",
       "    <tr>\n",
       "      <th>4</th>\n",
       "      <td>2006</td>\n",
       "      <td>AZ</td>\n",
       "      <td>Chandler</td>\n",
       "      <td>7.0</td>\n",
       "      <td>0.0</td>\n",
       "      <td>0.0</td>\n",
       "      <td>0.0</td>\n",
       "      <td>0.0</td>\n",
       "      <td>0.0</td>\n",
       "      <td>215.0</td>\n",
       "      <td>...</td>\n",
       "      <td>0.0</td>\n",
       "      <td>0.0</td>\n",
       "      <td>0.0</td>\n",
       "      <td>0.0</td>\n",
       "      <td>0.0</td>\n",
       "      <td>0.0</td>\n",
       "      <td>0.0</td>\n",
       "      <td>0.0</td>\n",
       "      <td>NaN</td>\n",
       "      <td>0.182106</td>\n",
       "    </tr>\n",
       "  </tbody>\n",
       "</table>\n",
       "<p>5 rows × 115 columns</p>\n",
       "</div>"
      ],
      "text/plain": [
       "   Year State             City  REA  Religion  Disability  Gender  \\\n",
       "0  2006    AL           Atmore  1.0       0.0         0.0     0.0   \n",
       "1  2006    AK        Anchorage  4.0       0.0         0.0     0.0   \n",
       "2  2006    AZ  Apache Junction  1.0       0.0         0.0     0.0   \n",
       "3  2006    AZ    Bullhead City  1.0       0.0         0.0     0.0   \n",
       "4  2006    AZ         Chandler  7.0       0.0         0.0     0.0   \n",
       "\n",
       "   Gender Identity  Sexual orientation  Total offenses      ...       \\\n",
       "0              0.0                 0.0             1.0      ...        \n",
       "1              0.0                 2.0            11.0      ...        \n",
       "2              0.0                 0.0           215.0      ...        \n",
       "3              0.0                 0.0           215.0      ...        \n",
       "4              0.0                 0.0           215.0      ...        \n",
       "\n",
       "   micetrap distribution  desastrious records  tightrope  tradition in action  \\\n",
       "0                    0.0                  0.0        0.0                  0.0   \n",
       "1                    0.0                  0.0        0.0                  0.0   \n",
       "2                    0.0                  0.0        0.0                  0.0   \n",
       "3                    0.0                  0.0        0.0                  0.0   \n",
       "4                    0.0                  0.0        0.0                  0.0   \n",
       "\n",
       "   slaves of the immaculate heart of mary  catholic counterpoint  \\\n",
       "0                                     0.0                    0.0   \n",
       "1                                     0.0                    0.0   \n",
       "2                                     0.0                    0.0   \n",
       "3                                     0.0                    0.0   \n",
       "4                                     0.0                    0.0   \n",
       "\n",
       "   culture wars/fidelity press  omni christian book club  City_vector  \\\n",
       "0                          0.0                       0.0          NaN   \n",
       "1                          0.0                       0.0          NaN   \n",
       "2                          0.0                       0.0          NaN   \n",
       "3                          0.0                       0.0          NaN   \n",
       "4                          0.0                       0.0          NaN   \n",
       "\n",
       "   State_vector  \n",
       "0      0.588282  \n",
       "1      0.066278  \n",
       "2      0.182106  \n",
       "3      0.182106  \n",
       "4      0.182106  \n",
       "\n",
       "[5 rows x 115 columns]"
      ]
     },
     "execution_count": 24,
     "metadata": {},
     "output_type": "execute_result"
    }
   ],
   "source": [
    "by_city_only.rename(index=str,columns={'vector_x': 'City_vector',\n",
    "                                      'vector_y': 'State_vector'}, inplace=True)\n",
    "by_city_only.head()\n"
   ]
  },
  {
   "cell_type": "markdown",
   "metadata": {},
   "source": [
    "#### Clustering \n",
    "\n",
    "I am going to use mean shift because it won't assign all points to a cluster unless it is close enough, and because the algorithm doesn't assume that each cluster has to be the same size."
   ]
  },
  {
   "cell_type": "code",
   "execution_count": 25,
   "metadata": {},
   "outputs": [],
   "source": [
    "from sklearn.model_selection import cross_val_score\n",
    "from sklearn.model_selection import train_test_split"
   ]
  },
  {
   "cell_type": "code",
   "execution_count": 26,
   "metadata": {},
   "outputs": [],
   "source": [
    "# first, splitting the data to x and y, then normalizing it\n",
    "\n",
    "outcome_vs = ['REA','Religion', 'Disability','Gender','Gender Identity', 'Sexual orientation']\n",
    "   \n",
    "X = by_city_only.drop(['REA','Religion','Group Name', 'City_y', 'Hate Type',\n",
    "                       'Disability','Gender','Gender Identity',  'City_x',\n",
    "                       'Sexual orientation', 'State', 'City',], 1).fillna(0)\n",
    "Y = by_city_only[outcome_vs].fillna(0)\n",
    "\n",
    "X_train_mo, X_test_mo, y_train_mo, y_test_mo = train_test_split(\n",
    "    X, Y, test_size=0.6, random_state=0)"
   ]
  },
  {
   "cell_type": "code",
   "execution_count": 27,
   "metadata": {},
   "outputs": [],
   "source": [
    "# then scaling the data \n",
    "\n",
    "from sklearn.preprocessing import MinMaxScaler\n",
    "\n",
    "scaler = MinMaxScaler(feature_range=(0, 1))\n",
    "\n",
    "x_train_scaled = scaler.fit_transform(X_train_mo)\n",
    "x_test_scaled = scaler.fit_transform(X_test_mo)\n"
   ]
  },
  {
   "cell_type": "code",
   "execution_count": 28,
   "metadata": {},
   "outputs": [
    {
     "name": "stdout",
     "output_type": "stream",
     "text": [
      "Number of estimated clusters: 124\n"
     ]
    }
   ],
   "source": [
    "from sklearn.cluster import MeanShift, estimate_bandwidth\n",
    "\n",
    "# Here we set the bandwidth. This function automatically derives a bandwidth\n",
    "# number based on an inspection of the distances among points in the data.\n",
    "bandwidth = estimate_bandwidth(x_train_scaled, quantile=0.2, n_samples=500)\n",
    "\n",
    "# Declare and fit the model.\n",
    "ms = MeanShift(bandwidth=bandwidth, bin_seeding=True)\n",
    "ms.fit(x_train_scaled)\n",
    "\n",
    "# Extract cluster assignments for each data point.\n",
    "labels = ms.labels_\n",
    "\n",
    "# Coordinates of the cluster centers.\n",
    "cluster_centers = ms.cluster_centers_\n",
    "\n",
    "# Count our clusters.\n",
    "n_clusters_ = len(np.unique(labels))\n",
    "\n",
    "print(\"Number of estimated clusters: {}\".format(n_clusters_))"
   ]
  },
  {
   "cell_type": "code",
   "execution_count": 29,
   "metadata": {},
   "outputs": [],
   "source": [
    "clusters_s = pd.Series(ms.labels_.tolist())"
   ]
  },
  {
   "cell_type": "code",
   "execution_count": 30,
   "metadata": {},
   "outputs": [],
   "source": [
    "X_train_mo.insert(loc=0, column='meanshift', value=clusters_s.values)"
   ]
  },
  {
   "cell_type": "code",
   "execution_count": 31,
   "metadata": {},
   "outputs": [],
   "source": [
    "\n",
    "#x_test_scaled = scaler.fit_transform(X_test_mo)\n",
    "X_scaled = scaler.fit_transform(X)"
   ]
  },
  {
   "cell_type": "code",
   "execution_count": 32,
   "metadata": {},
   "outputs": [],
   "source": [
    "bandwidth = estimate_bandwidth(x_train_scaled, quantile=0.2, n_samples=500)\n",
    "\n",
    "# Declare and fit the model.\n",
    "ms = MeanShift(bandwidth=bandwidth, bin_seeding=True)\n",
    "ms.fit(X_scaled)\n",
    "\n",
    "# Extract cluster assignments for each data point.\n",
    "labels = ms.labels_\n",
    "\n",
    "clusters_X = pd.Series(ms.labels_.tolist())\n",
    "\n",
    "X.insert(loc=0, column='meanshift', value=clusters_X.values)"
   ]
  },
  {
   "cell_type": "code",
   "execution_count": 33,
   "metadata": {},
   "outputs": [],
   "source": [
    "X_train_mo, X_test_mo, y_train_mo, y_test_mo = train_test_split(\n",
    "    X, Y, test_size=0.6, random_state=0)"
   ]
  },
  {
   "cell_type": "markdown",
   "metadata": {},
   "source": [
    "Next, some feature selection with KBest and feature importance...\n",
    "\n",
    "### Feature selection"
   ]
  },
  {
   "cell_type": "code",
   "execution_count": 34,
   "metadata": {},
   "outputs": [],
   "source": [
    "from sklearn.feature_selection import SelectKBest\n",
    "from sklearn.feature_selection import f_classif\n",
    "\n",
    "# Create an SelectKBest object to select features with k best ANOVA F-Values\n",
    "#fvalue_selector = SelectKBest(f_classif, k=25)\n",
    "\n",
    "#coltitles = by_city_only.columns.values\n",
    "\n",
    "# Apply the SelectKBest object to the features and target\n",
    "#X_kbest = fvalue_selector.fit_transform(X, Y)\n",
    "\n",
    "#print('Original number of features:', X.shape[1])\n",
    "#print('Reduced number of features:', X_kbest.shape[1])"
   ]
  },
  {
   "cell_type": "code",
   "execution_count": null,
   "metadata": {},
   "outputs": [],
   "source": []
  },
  {
   "cell_type": "code",
   "execution_count": null,
   "metadata": {},
   "outputs": [],
   "source": []
  },
  {
   "cell_type": "code",
   "execution_count": null,
   "metadata": {},
   "outputs": [],
   "source": []
  },
  {
   "cell_type": "markdown",
   "metadata": {},
   "source": [
    "### Supervised learning with state data\n",
    "\n",
    "## Random forest\n",
    "\n",
    "with multi output"
   ]
  },
  {
   "cell_type": "code",
   "execution_count": 35,
   "metadata": {},
   "outputs": [],
   "source": [
    "# random forest\n",
    "\n",
    "from sklearn import ensemble\n",
    "from sklearn.model_selection import cross_val_score\n",
    "from sklearn.model_selection import train_test_split\n"
   ]
  },
  {
   "cell_type": "code",
   "execution_count": 36,
   "metadata": {},
   "outputs": [],
   "source": [
    "rfr = ensemble.RandomForestRegressor(warm_start=True)"
   ]
  },
  {
   "cell_type": "code",
   "execution_count": 37,
   "metadata": {},
   "outputs": [
    {
     "data": {
      "text/plain": [
       "RandomForestRegressor(bootstrap=True, criterion='mse', max_depth=None,\n",
       "           max_features='auto', max_leaf_nodes=None,\n",
       "           min_impurity_decrease=0.0, min_impurity_split=None,\n",
       "           min_samples_leaf=1, min_samples_split=2,\n",
       "           min_weight_fraction_leaf=0.0, n_estimators=100, n_jobs=1,\n",
       "           oob_score=False, random_state=None, verbose=0, warm_start=True)"
      ]
     },
     "execution_count": 37,
     "metadata": {},
     "output_type": "execute_result"
    }
   ],
   "source": [
    "rfr = ensemble.RandomForestRegressor(n_estimators=100, warm_start=True)\n",
    "\n",
    "rfr.fit(X_train_mo, y_train_mo)"
   ]
  },
  {
   "cell_type": "code",
   "execution_count": 38,
   "metadata": {},
   "outputs": [
    {
     "data": {
      "text/plain": [
       "0.8284221393906167"
      ]
     },
     "execution_count": 38,
     "metadata": {},
     "output_type": "execute_result"
    }
   ],
   "source": [
    "rfr.score(X_test_mo,y_test_mo)"
   ]
  },
  {
   "cell_type": "code",
   "execution_count": 39,
   "metadata": {},
   "outputs": [
    {
     "name": "stdout",
     "output_type": "stream",
     "text": [
      "Testing score: 0.796139255144787 +/- 0.07225674158175797\n"
     ]
    }
   ],
   "source": [
    "test_score_rfr_mo = cross_val_score(rfr, X_test_mo, y_test_mo, cv=10)\n",
    "\n",
    "print('Testing score: {} +/- {}'.format(np.mean(test_score_rfr_mo),np.std(test_score_rfr_mo)))"
   ]
  },
  {
   "cell_type": "markdown",
   "metadata": {},
   "source": [
    "### Random forest feature importance"
   ]
  },
  {
   "cell_type": "code",
   "execution_count": 40,
   "metadata": {},
   "outputs": [],
   "source": [
    "importances = rfr.feature_importances_\n",
    "std = np.std([tree.feature_importances_ for tree in rfr.estimators_],\n",
    "             axis=0)\n",
    "indices = np.argsort(importances)[::-1]\n",
    "\n",
    "\n",
    "name_of_cols = X_test_mo.columns.values\n"
   ]
  },
  {
   "cell_type": "code",
   "execution_count": 41,
   "metadata": {},
   "outputs": [
    {
     "name": "stdout",
     "output_type": "stream",
     "text": [
      "Feature ranking:\n",
      "0. feature 32 - White Nationalist (0.500292)\n",
      "1. feature 21 - Anti-Muslim (0.090374)\n",
      "2. feature 18 - Hate Type Count (0.079152)\n",
      "3. feature 25 - Holocaust Denial (0.047009)\n",
      "4. feature 103 - State_vector (0.023936)\n",
      "5. feature 22 - Black Nationalist (0.020929)\n",
      "6. feature 102 - City_vector (0.019596)\n",
      "7. feature 4 - Intimidation (0.018452)\n",
      "8. feature 2 - Total offenses (0.016116)\n",
      "9. feature 3 - Aggravated assault (0.014849)\n",
      "10. feature 31 - Radical Traditional Catholicism (0.014750)\n",
      "11. feature 13 - Larceny theft (0.014518)\n",
      "12. feature 12 - Destruction damage vandalism (0.011649)\n",
      "13. feature 6 - Simple assault (0.010337)\n",
      "14. feature 20 - Anti-LGBT (0.010006)\n"
     ]
    }
   ],
   "source": [
    "# Print the feature ranking\n",
    "print(\"Feature ranking:\")\n",
    "\n",
    "for f in range((len(X.head(15)))):\n",
    "    print(\"%d. feature %d - %s (%f)\" % (f, \n",
    "                                        indices[f], name_of_cols[int(indices[f])],\n",
    "                                        importances[indices[f]]))"
   ]
  },
  {
   "cell_type": "code",
   "execution_count": 42,
   "metadata": {},
   "outputs": [
    {
     "data": {
      "image/png": "[encoded data removed]",
      "text/plain": [
       "<Figure size 720x360 with 1 Axes>"
      ]
     },
     "metadata": {},
     "output_type": "display_data"
    }
   ],
   "source": [
    "# Plot the feature importances of the forest\n",
    "plt.figure(figsize=[10,5])\n",
    "plt.title(\"Feature importances\")\n",
    "plt.bar(range(X_train_mo.iloc[:,:20].shape[1]), importances[indices[:20]],\n",
    "       color=\"r\", yerr=std[indices[:20]], align=\"center\")\n",
    "plt.xticks(range(X_train_mo.iloc[:,:20].shape[1]), name_of_cols[indices[:20]], rotation=90)\n",
    "plt.xlim([-1, X_train_mo.iloc[:,:20].shape[1]])\n",
    "plt.tight_layout()\n",
    "plt.show()"
   ]
  },
  {
   "cell_type": "markdown",
   "metadata": {},
   "source": [
    "New X with reduced number of features"
   ]
  },
  {
   "cell_type": "code",
   "execution_count": 43,
   "metadata": {},
   "outputs": [],
   "source": [
    "X_reduced = X[name_of_cols[indices[:25]]]\n",
    "Y_reduced = Y"
   ]
  },
  {
   "cell_type": "code",
   "execution_count": 44,
   "metadata": {},
   "outputs": [],
   "source": [
    "X_reduced_train, X_reduced_test, y_reduced_train, y_reduced_test = train_test_split(\n",
    "    X_reduced, Y_reduced, test_size=0.6, random_state=0)"
   ]
  },
  {
   "cell_type": "code",
   "execution_count": 45,
   "metadata": {},
   "outputs": [
    {
     "data": {
      "text/plain": [
       "RandomForestRegressor(bootstrap=True, criterion='mse', max_depth=None,\n",
       "           max_features='auto', max_leaf_nodes=None,\n",
       "           min_impurity_decrease=0.0, min_impurity_split=None,\n",
       "           min_samples_leaf=1, min_samples_split=2,\n",
       "           min_weight_fraction_leaf=0.0, n_estimators=100, n_jobs=1,\n",
       "           oob_score=False, random_state=None, verbose=0, warm_start=True)"
      ]
     },
     "execution_count": 45,
     "metadata": {},
     "output_type": "execute_result"
    }
   ],
   "source": [
    "rfr = ensemble.RandomForestRegressor(n_estimators=100, warm_start=True)\n",
    "\n",
    "rfr.fit(X_reduced_train, y_reduced_train)"
   ]
  },
  {
   "cell_type": "code",
   "execution_count": 46,
   "metadata": {},
   "outputs": [
    {
     "name": "stdout",
     "output_type": "stream",
     "text": [
      "Testing score: 0.8189347825929911 +/- 0.07660931521402377\n"
     ]
    }
   ],
   "source": [
    "test_score_rfr_red = cross_val_score(rfr, X_reduced_test, y_reduced_test, cv=10)\n",
    "\n",
    "print('Testing score: {} +/- {}'.format(np.mean(test_score_rfr_red),np.std(test_score_rfr_red)))"
   ]
  },
  {
   "cell_type": "markdown",
   "metadata": {},
   "source": [
    "### KNN with multi output\n",
    "\n",
    "Using the already scaled data, above"
   ]
  },
  {
   "cell_type": "code",
   "execution_count": 47,
   "metadata": {},
   "outputs": [],
   "source": [
    "\n",
    "from sklearn.model_selection import GridSearchCV\n",
    "\n",
    "from sklearn.neighbors import KNeighborsRegressor\n"
   ]
  },
  {
   "cell_type": "code",
   "execution_count": 48,
   "metadata": {},
   "outputs": [],
   "source": [
    "# getting the best # for n\n",
    "knn = KNeighborsRegressor()\n",
    "\n",
    "params = {'n_neighbors':[2,3,4,5,6,7,8,9], 'weights': ['uniform', 'distance']}\n",
    "\n",
    "model = GridSearchCV(knn, params, cv=5)"
   ]
  },
  {
   "cell_type": "code",
   "execution_count": 49,
   "metadata": {},
   "outputs": [],
   "source": [
    "model.fit(x_train_scaled,y_train_mo)\n",
    "model.best_params_"
   ]
  },
  {
   "cell_type": "code",
   "execution_count": 50,
   "metadata": {},
   "outputs": [
    {
     "data": {
      "text/plain": [
       "KNeighborsRegressor(algorithm='auto', leaf_size=30, metric='minkowski',\n",
       "          metric_params=None, n_jobs=1, n_neighbors=4, p=2,\n",
       "          weights='distance')"
      ]
     },
     "execution_count": 50,
     "metadata": {},
     "output_type": "execute_result"
    }
   ],
   "source": [
    "knn = KNeighborsRegressor(n_neighbors=4, weights='distance')\n",
    "\n",
    "knn.fit(x_train_scaled,y_train_mo)"
   ]
  },
  {
   "cell_type": "code",
   "execution_count": 51,
   "metadata": {},
   "outputs": [
    {
     "data": {
      "text/plain": [
       "0.7565875578013151"
      ]
     },
     "execution_count": 51,
     "metadata": {},
     "output_type": "execute_result"
    }
   ],
   "source": [
    "knn.score(x_test_scaled,y_test_mo)"
   ]
  },
  {
   "cell_type": "code",
   "execution_count": 52,
   "metadata": {},
   "outputs": [
    {
     "name": "stdout",
     "output_type": "stream",
     "text": [
      "Testing score: 0.727357183890404 +/- 0.08100337541316273\n"
     ]
    }
   ],
   "source": [
    "test_score_knn = cross_val_score(knn, x_test_scaled, y_test_mo, cv=10)\n",
    "\n",
    "print('Testing score: {} +/- {}'.format(np.mean(test_score_knn),np.std(test_score_knn)))"
   ]
  },
  {
   "cell_type": "markdown",
   "metadata": {},
   "source": [
    "And using the reduced set of features:"
   ]
  },
  {
   "cell_type": "code",
   "execution_count": 53,
   "metadata": {},
   "outputs": [],
   "source": [
    "scaler = MinMaxScaler(feature_range=(0, 1))\n",
    "\n",
    "x_train_scaled_red = scaler.fit_transform(X_reduced_train)\n",
    "x_test_scaled_red = scaler.fit_transform(X_reduced_test)"
   ]
  },
  {
   "cell_type": "code",
   "execution_count": 54,
   "metadata": {},
   "outputs": [
    {
     "data": {
      "text/plain": [
       "KNeighborsRegressor(algorithm='auto', leaf_size=30, metric='minkowski',\n",
       "          metric_params=None, n_jobs=1, n_neighbors=4, p=2,\n",
       "          weights='distance')"
      ]
     },
     "execution_count": 54,
     "metadata": {},
     "output_type": "execute_result"
    }
   ],
   "source": [
    "knn.fit(x_train_scaled_red, y_train_mo)"
   ]
  },
  {
   "cell_type": "code",
   "execution_count": 55,
   "metadata": {},
   "outputs": [
    {
     "data": {
      "text/plain": [
       "0.797281894948923"
      ]
     },
     "execution_count": 55,
     "metadata": {},
     "output_type": "execute_result"
    }
   ],
   "source": [
    "knn.score(x_test_scaled_red,y_test_mo)"
   ]
  },
  {
   "cell_type": "code",
   "execution_count": 56,
   "metadata": {},
   "outputs": [
    {
     "name": "stdout",
     "output_type": "stream",
     "text": [
      "Testing score: 0.7852693187771853 +/- 0.08682483673309256\n"
     ]
    }
   ],
   "source": [
    "test_score_knn_red = cross_val_score(knn, x_test_scaled_red, y_test_mo, cv=10)\n",
    "\n",
    "print('Testing score: {} +/- {}'.format(np.mean(test_score_knn_red),np.std(test_score_knn_red)))"
   ]
  },
  {
   "cell_type": "markdown",
   "metadata": {},
   "source": [
    "### SVR with Multi Output"
   ]
  },
  {
   "cell_type": "code",
   "execution_count": 57,
   "metadata": {},
   "outputs": [
    {
     "data": {
      "text/plain": [
       "MultiOutputRegressor(estimator=SVR(C=1.0, cache_size=200, coef0=0.0, degree=3, epsilon=0.1, gamma='auto',\n",
       "  kernel='rbf', max_iter=-1, shrinking=True, tol=0.001, verbose=False),\n",
       "           n_jobs=1)"
      ]
     },
     "execution_count": 57,
     "metadata": {},
     "output_type": "execute_result"
    }
   ],
   "source": [
    "from sklearn.svm import SVR\n",
    "\n",
    "from sklearn.multioutput import MultiOutputRegressor\n",
    "\n",
    "svr_mor = MultiOutputRegressor(SVR())\n",
    "\n",
    "svr_mor.fit(X_train_mo,y_train_mo)"
   ]
  },
  {
   "cell_type": "code",
   "execution_count": 58,
   "metadata": {},
   "outputs": [
    {
     "data": {
      "text/plain": [
       "0.14128958756446816"
      ]
     },
     "execution_count": 58,
     "metadata": {},
     "output_type": "execute_result"
    }
   ],
   "source": [
    "svr_mor.score(X_test_mo,y_test_mo)"
   ]
  },
  {
   "cell_type": "code",
   "execution_count": 59,
   "metadata": {
    "scrolled": true
   },
   "outputs": [
    {
     "name": "stdout",
     "output_type": "stream",
     "text": [
      "Testing score: 0.09711045344373592 +/- 0.20082004902796377\n"
     ]
    }
   ],
   "source": [
    "test_score_svrm = cross_val_score(svr_mor, X_test_mo, y_test_mo, cv=10)\n",
    "\n",
    "print('Testing score: {} +/- {}'.format(np.mean(test_score_svrm),np.std(test_score_svrm)))"
   ]
  },
  {
   "cell_type": "markdown",
   "metadata": {},
   "source": [
    "With reduced set of features"
   ]
  },
  {
   "cell_type": "code",
   "execution_count": 60,
   "metadata": {},
   "outputs": [
    {
     "data": {
      "text/plain": [
       "MultiOutputRegressor(estimator=SVR(C=1.0, cache_size=200, coef0=0.0, degree=3, epsilon=0.1, gamma='auto',\n",
       "  kernel='rbf', max_iter=-1, shrinking=True, tol=0.001, verbose=False),\n",
       "           n_jobs=1)"
      ]
     },
     "execution_count": 60,
     "metadata": {},
     "output_type": "execute_result"
    }
   ],
   "source": [
    "svr_mor.fit(X_reduced_train,y_reduced_train)"
   ]
  },
  {
   "cell_type": "code",
   "execution_count": 61,
   "metadata": {},
   "outputs": [
    {
     "name": "stdout",
     "output_type": "stream",
     "text": [
      "Testing score: 0.0979738829416652 +/- 0.2046514306863591\n"
     ]
    }
   ],
   "source": [
    "test_score_svrm_r = cross_val_score(svr_mor, X_reduced_test, y_reduced_test, cv=10)\n",
    "\n",
    "print('Testing score: {} +/- {}'.format(np.mean(test_score_svrm_r),np.std(test_score_svrm_r)))"
   ]
  },
  {
   "cell_type": "markdown",
   "metadata": {},
   "source": [
    "## Gradient boosting"
   ]
  },
  {
   "cell_type": "code",
   "execution_count": 62,
   "metadata": {},
   "outputs": [],
   "source": [
    "from sklearn.ensemble import GradientBoostingRegressor"
   ]
  },
  {
   "cell_type": "code",
   "execution_count": 63,
   "metadata": {},
   "outputs": [
    {
     "data": {
      "text/plain": [
       "MultiOutputRegressor(estimator=GradientBoostingRegressor(alpha=0.9, criterion='friedman_mse', init=None,\n",
       "             learning_rate=0.1, loss='ls', max_depth=2, max_features=None,\n",
       "             max_leaf_nodes=None, min_impurity_decrease=0.0,\n",
       "             min_impurity_split=None, min_samples_leaf=1,\n",
       "             min_samples_split=2, min_weight_fraction_leaf=0.0,\n",
       "             n_estimators=500, presort='auto', random_state=None,\n",
       "             subsample=1.0, verbose=0, warm_start=False),\n",
       "           n_jobs=1)"
      ]
     },
     "execution_count": 63,
     "metadata": {},
     "output_type": "execute_result"
    }
   ],
   "source": [
    "# We'll make 500 iterations, use 2-deep trees, and set our loss function.\n",
    "params = {'n_estimators': 500,\n",
    "          'max_depth': 2}\n",
    "\n",
    "clf = ensemble.GradientBoostingRegressor(**params)\n",
    "\n",
    "clf_mor = MultiOutputRegressor(ensemble.GradientBoostingRegressor(**params))\n",
    "\n",
    "clf_mor.fit(X_train_mo, y_train_mo)"
   ]
  },
  {
   "cell_type": "code",
   "execution_count": 64,
   "metadata": {},
   "outputs": [
    {
     "data": {
      "text/plain": [
       "0.6598469392322192"
      ]
     },
     "execution_count": 64,
     "metadata": {},
     "output_type": "execute_result"
    }
   ],
   "source": [
    "clf_mor.score(X_test_mo,y_test_mo)"
   ]
  },
  {
   "cell_type": "code",
   "execution_count": 65,
   "metadata": {},
   "outputs": [
    {
     "name": "stdout",
     "output_type": "stream",
     "text": [
      "Testing score: 0.6390171358517447 +/- 0.07172218326765195\n"
     ]
    }
   ],
   "source": [
    "test_score_clf = cross_val_score(clf_mor, X_test_mo, y_test_mo, cv=10)\n",
    "\n",
    "print('Testing score: {} +/- {}'.format(np.mean(test_score_clf),np.std(test_score_clf)))\n"
   ]
  },
  {
   "cell_type": "markdown",
   "metadata": {},
   "source": [
    "Reduced set of features"
   ]
  },
  {
   "cell_type": "code",
   "execution_count": 66,
   "metadata": {},
   "outputs": [
    {
     "data": {
      "text/plain": [
       "MultiOutputRegressor(estimator=GradientBoostingRegressor(alpha=0.9, criterion='friedman_mse', init=None,\n",
       "             learning_rate=0.1, loss='ls', max_depth=2, max_features=None,\n",
       "             max_leaf_nodes=None, min_impurity_decrease=0.0,\n",
       "             min_impurity_split=None, min_samples_leaf=1,\n",
       "             min_samples_split=2, min_weight_fraction_leaf=0.0,\n",
       "             n_estimators=500, presort='auto', random_state=None,\n",
       "             subsample=1.0, verbose=0, warm_start=False),\n",
       "           n_jobs=1)"
      ]
     },
     "execution_count": 66,
     "metadata": {},
     "output_type": "execute_result"
    }
   ],
   "source": [
    "clf_mor.fit(X_reduced_train,y_reduced_train)"
   ]
  },
  {
   "cell_type": "code",
   "execution_count": 67,
   "metadata": {},
   "outputs": [
    {
     "name": "stdout",
     "output_type": "stream",
     "text": [
      "Testing score: 0.657215340476313 +/- 0.07746401910267958\n"
     ]
    }
   ],
   "source": [
    "test_score_clf_r = cross_val_score(clf_mor, X_reduced_test, y_reduced_test, cv=10)\n",
    "\n",
    "print('Testing score: {} +/- {}'.format(np.mean(test_score_clf_r),np.std(test_score_clf_r)))"
   ]
  },
  {
   "cell_type": "markdown",
   "metadata": {},
   "source": [
    "## Summary table"
   ]
  },
  {
   "cell_type": "code",
   "execution_count": 68,
   "metadata": {},
   "outputs": [],
   "source": [
    "summary_models = pd.DataFrame(index= ['full - mean','full - std','reduced - mean', 'reduced - std'])\n",
    "\n",
    "summary_models['Random forest'] = [np.mean(test_score_rfr_mo), np.std(test_score_rfr_mo),\n",
    "                           np.mean(test_score_rfr_red), np.std(test_score_rfr_red)]\n",
    "\n",
    "summary_models['KNN'] = [np.mean(test_score_knn), np.std(test_score_knn),\n",
    "                           np.mean(test_score_knn_red), np.std(test_score_knn_red)]\n",
    "\n",
    "summary_models['SVR'] = [np.mean(test_score_svrm), np.std(test_score_svrm),\n",
    "                           np.mean(test_score_svrm_r), np.std(test_score_svrm_r)]\n",
    "\n",
    "summary_models['Gradient boosting'] = [np.mean(test_score_clf), np.std(test_score_clf),\n",
    "                           np.mean(test_score_clf_r), np.std(test_score_clf_r)]\n"
   ]
  },
  {
   "cell_type": "code",
   "execution_count": 69,
   "metadata": {},
   "outputs": [
    {
     "data": {
      "text/html": [
       "<div>\n",
       "<style scoped>\n",
       "    .dataframe tbody tr th:only-of-type {\n",
       "        vertical-align: middle;\n",
       "    }\n",
       "\n",
       "    .dataframe tbody tr th {\n",
       "        vertical-align: top;\n",
       "    }\n",
       "\n",
       "    .dataframe thead th {\n",
       "        text-align: right;\n",
       "    }\n",
       "</style>\n",
       "<table border=\"1\" class=\"dataframe\">\n",
       "  <thead>\n",
       "    <tr style=\"text-align: right;\">\n",
       "      <th></th>\n",
       "      <th>Random forest</th>\n",
       "      <th>KNN</th>\n",
       "      <th>SVR</th>\n",
       "      <th>Gradient boosting</th>\n",
       "    </tr>\n",
       "  </thead>\n",
       "  <tbody>\n",
       "    <tr>\n",
       "      <th>full - mean</th>\n",
       "      <td>0.796139</td>\n",
       "      <td>0.727357</td>\n",
       "      <td>0.097110</td>\n",
       "      <td>0.639017</td>\n",
       "    </tr>\n",
       "    <tr>\n",
       "      <th>full - std</th>\n",
       "      <td>0.072257</td>\n",
       "      <td>0.081003</td>\n",
       "      <td>0.200820</td>\n",
       "      <td>0.071722</td>\n",
       "    </tr>\n",
       "    <tr>\n",
       "      <th>reduced - mean</th>\n",
       "      <td>0.818935</td>\n",
       "      <td>0.785269</td>\n",
       "      <td>0.097974</td>\n",
       "      <td>0.657215</td>\n",
       "    </tr>\n",
       "    <tr>\n",
       "      <th>reduced - std</th>\n",
       "      <td>0.076609</td>\n",
       "      <td>0.086825</td>\n",
       "      <td>0.204651</td>\n",
       "      <td>0.077464</td>\n",
       "    </tr>\n",
       "  </tbody>\n",
       "</table>\n",
       "</div>"
      ],
      "text/plain": [
       "                Random forest       KNN       SVR  Gradient boosting\n",
       "full - mean          0.796139  0.727357  0.097110           0.639017\n",
       "full - std           0.072257  0.081003  0.200820           0.071722\n",
       "reduced - mean       0.818935  0.785269  0.097974           0.657215\n",
       "reduced - std        0.076609  0.086825  0.204651           0.077464"
      ]
     },
     "execution_count": 69,
     "metadata": {},
     "output_type": "execute_result"
    }
   ],
   "source": [
    "summary_models"
   ]
  },
  {
   "cell_type": "code",
   "execution_count": null,
   "metadata": {},
   "outputs": [],
   "source": []
  }
 ],
 "metadata": {
  "kernelspec": {
   "display_name": "Python 3",
   "language": "python",
   "name": "python3"
  },
  "language_info": {
   "codemirror_mode": {
    "name": "ipython",
    "version": 3
   },
   "file_extension": ".py",
   "mimetype": "text/x-python",
   "name": "python",
   "nbconvert_exporter": "python",
   "pygments_lexer": "ipython3",
   "version": "3.6.5"
  }
 },
 "nbformat": 4,
 "nbformat_minor": 2
}
