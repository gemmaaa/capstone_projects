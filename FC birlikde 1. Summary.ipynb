{
 "cells": [
  {
   "cell_type": "markdown",
   "metadata": {},
   "source": [
    "# Impact of hate groups on hate crimes in the USA\n",
    "\n",
    "## Abstract\n",
    "\n",
    "The aim of this project is to quantify the impact of hate groups presence on crime in their area, and to analyze patterns associated with each hate group and hate bias type on a state and local level from 2004 through 2016 across the USA. \n",
    "\n",
    "Models used in this project include random forest regression, K Nearest Neighbors regression, and gradient boosting regression with multi output regressor. Across these models, about 80% of the variance in hate crimes in each bias category was able to be explained, though some models preformed better than others. Additionally, with these models, I was able to identify features that were indicative of the number of hate crimes in each bias category. \n",
    "\n",
    "## Introduction\n",
    "\n",
    "Though the visibility of hate groups across the USA range from completely hidden to flagrant, through social media and online publications, among other modern resources, their presence and their members are becoming more widely known. The impact of hate speech and hate groups is widely damaging, as studied by many collaboratives such as the [Sussex Hate Crime Project](http://www.sussex.ac.uk/psychology/sussexhatecrimeproject/) and the [Southern Poverty Law Center](https://www.splcenter.org/). \n",
    "\n",
    "Using the increasingly available data, quantifying the impacts of the presence and kinds of hate groups can help communities gain awareness of the groups in their region, anticipate crimes of different types, and thus be better able to respond and address the hidden issues these groups are symptomatic of.\n",
    "\n",
    "\n",
    "### Research questions\n",
    "\n",
    "* Does the presence of hate groups in a city or a state increase the number of hate crimes in the vicinity?\n",
    "* What patterns of growth or decline are apparent in each hate group type? \n",
    "\n",
    "\n",
    "## Data \n",
    "\n",
    "The data used in this project consists of annual [Hate Maps](https://www.splcenter.org/hate-map) provided by the SPLC and the [UCR](https://www.fbi.gov/services/cjis/ucr) [Annual Hate Crime Statistics](https://www.fbi.gov/services/cjis/ucr/hate-crime) from the FBI. The years of data used in this analysis are specifically from 2004 through 2016 due to differences in recording data prior to year 2004. \n",
    "\n",
    "The Hate Map data provides names of hate groups, their hate group type categorized as one of 7 possible groups, and city of their presence, state, and year. The 7 hate types are: \n",
    "\n",
    "The FBI has a slew of statistics available each year, but the data I have specifically used in this project is Table 11,crimes by bias motivation with year and state identifiers, and Table 13, incidents by bias motivation with year, state, and in some cases city identifiers.\n",
    "\n",
    "### Import statements"
   ]
  },
  {
   "cell_type": "code",
   "execution_count": 1,
   "metadata": {},
   "outputs": [],
   "source": [
    "import numpy as np\n",
    "import pandas as pd\n",
    "import matplotlib.pyplot as plt\n",
    "import sklearn\n",
    "import seaborn as sns"
   ]
  },
  {
   "cell_type": "markdown",
   "metadata": {},
   "source": [
    "Sections\n",
    "\n",
    "\n",
    "2. Data import and cleaning  *** \n",
    "3. Analysis\n",
    "4. Modeling\n",
    "\n",
    "topic extraction from the hate group names to give each group a category\n",
    "use that as a feature   (category as clusters)\n"
   ]
  },
  {
   "cell_type": "code",
   "execution_count": null,
   "metadata": {},
   "outputs": [],
   "source": []
  }
 ],
 "metadata": {
  "kernelspec": {
   "display_name": "Python 3",
   "language": "python",
   "name": "python3"
  },
  "language_info": {
   "codemirror_mode": {
    "name": "ipython",
    "version": 3
   },
   "file_extension": ".py",
   "mimetype": "text/x-python",
   "name": "python",
   "nbconvert_exporter": "python",
   "pygments_lexer": "ipython3",
   "version": "3.6.5"
  }
 },
 "nbformat": 4,
 "nbformat_minor": 2
}
