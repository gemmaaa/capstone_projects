{
 "cells": [
  {
   "cell_type": "markdown",
   "metadata": {},
   "source": [
    "## Blog Authors Prediction\n",
    "\n",
    "###  Abstract\n",
    "\n",
    "Using nltk and spacy, predict the author of blog posts from a corpus of blogs of approximately 200 authors.\n",
    "\n",
    "### Introduction\n",
    "\n",
    "Generally, different authors of writings can be distinguished based on the writing style, such as the word choices, sentence lengths, content of the writing, etc. With NLP techniques there is a variety of analyses that can be run on text, both to quantify said features, as well as to take a look at other features of the text as well. I wanted to take a look at how different blogs by different authors were ranked, and see how well the author of posts could be classified or predicted with these methods.\n",
    "\n",
    "The dataset I used, [Blog Authorship Corpus](https://u.cs.biu.ac.il/~koppel/BlogCorpus.htm), contained posts from 19,320 bloggers. However, I reduced the number to approximately 200 (the exact number varies each time the code is run) blogs for this analysis. In addition to the blog posts and the author, identified by a number, the data contains the zodiac sign of the author, their age, and their industry. \n",
    "\n",
    "### Goals\n",
    "\n",
    "The goals of this project were to \n",
    "\n",
    "1. distinguish different features present in the text\n",
    "2. use these features to predict the author of each blog post\n",
    "\n",
    "### Imports"
   ]
  },
  {
   "cell_type": "code",
   "execution_count": 1,
   "metadata": {},
   "outputs": [],
   "source": [
    "import numpy as np\n",
    "import pandas as pd\n",
    "import scipy\n",
    "import matplotlib.pyplot as plt\n",
    "import seaborn as sns\n",
    "%matplotlib inline\n",
    "\n",
    "import spacy\n",
    "from collections import Counter\n",
    "\n",
    "import re\n",
    "from sklearn.model_selection import train_test_split\n",
    "\n",
    "import xml.etree.ElementTree as ET\n",
    "import os\n",
    "from time import time"
   ]
  },
  {
   "cell_type": "markdown",
   "metadata": {},
   "source": [
    "\n",
    "Looking at the blog posts, let's first get the file path and create a list of the filenames to read in from.\n",
    "\n",
    "# Part 1 - Getting and organizing the data"
   ]
  },
  {
   "cell_type": "code",
   "execution_count": 2,
   "metadata": {},
   "outputs": [],
   "source": [
    "path_blogs = '/Users/gemma/Documents/data science/blogs/'\n",
    "blog_files = os.listdir(path_blogs)"
   ]
  },
  {
   "cell_type": "code",
   "execution_count": 3,
   "metadata": {},
   "outputs": [
    {
     "data": {
      "text/plain": [
       "'3954575.female.23.BusinessServices.Gemini.xml'"
      ]
     },
     "execution_count": 3,
     "metadata": {},
     "output_type": "execute_result"
    }
   ],
   "source": [
    "# looking at the structure of the filename\n",
    "blog_files[2]"
   ]
  },
  {
   "cell_type": "markdown",
   "metadata": {},
   "source": [
    "Let's see how many blogs we're working with:"
   ]
  },
  {
   "cell_type": "code",
   "execution_count": 4,
   "metadata": {},
   "outputs": [
    {
     "data": {
      "text/plain": [
       "19320"
      ]
     },
     "execution_count": 4,
     "metadata": {},
     "output_type": "execute_result"
    }
   ],
   "source": [
    "len(blog_files)"
   ]
  },
  {
   "cell_type": "markdown",
   "metadata": {},
   "source": [
    "Next, I'll try to read one blog in and take a look at the structure inside the file."
   ]
  },
  {
   "cell_type": "code",
   "execution_count": 5,
   "metadata": {},
   "outputs": [
    {
     "name": "stdout",
     "output_type": "stream",
     "text": [
      "/Users/gemma/Documents/data science/blogs/3364931.male.16.Student.Virgo.xml\n"
     ]
    }
   ],
   "source": [
    "#file = filenames_BNC[5]   # the BNC\n",
    "\n",
    "file = path_blogs+blog_files[3] # blogs\n",
    "\n",
    "#file = path_s+files_s[0]   # sumerian texts\n",
    "\n",
    "print(file)\n",
    "\n",
    "# parse the tree and get the root to iterate from later\n",
    "\n",
    "tree = ET.parse(file)\n",
    "root = tree.getroot()"
   ]
  },
  {
   "cell_type": "markdown",
   "metadata": {},
   "source": [
    "It looks like there is an issue parsing in the file to the tree due to the character <code>& nbsp;</code>. Let's go through the files, replace all the <code>& nbsp;</code>s with spaces, and then see if it'll work.\n",
    "\n",
    "Some useful info on reading in files in general and the different modes you can read them in / write them in: [here](https://www.guru99.com/reading-and-writing-files-in-python.html#3).\n",
    "\n",
    "Also info about how to make the tree from a string was found on [stack overflow](https://stackoverflow.com/questions/647071/python-xml-elementtree-from-a-string-source)."
   ]
  },
  {
   "cell_type": "code",
   "execution_count": 6,
   "metadata": {},
   "outputs": [],
   "source": [
    "def file_to_string(filename):\n",
    "    \n",
    "    f=open(filename, \"r\") #open the file in read mode. don't change it2 write, otherwise... :D\n",
    "\n",
    "    if f.mode == 'r': # double check that it's in read mode\n",
    "        text = f.read() # read the file to the text\n",
    "    \n",
    "    space = re.compile('&nbsp;') # this was preventing it from parsing straight from the file\n",
    "    text = re.sub(space, \" \", text) # sub the problem char out with a space\n",
    "    \n",
    "    #sometimes & is used as and or is just in the text - accounting for those situations\n",
    "    \n",
    "    andd = re.compile('& ')\n",
    "    text = re.sub(andd, \"and \", text) #\n",
    "    \n",
    "    randomand = re.compile('&')\n",
    "    text = re.sub(randomand, \"\", text)\n",
    "    \n",
    "    ugh = re.compile('<>')\n",
    "    text = re.sub(ugh, \"\", text)\n",
    "    \n",
    "    face = re.compile('>.<')\n",
    "    text = re.sub(face, \"\", text)\n",
    "    \n",
    "    return text"
   ]
  },
  {
   "cell_type": "markdown",
   "metadata": {},
   "source": [
    "Let's take a look at all of the elements in the tree."
   ]
  },
  {
   "cell_type": "code",
   "execution_count": 7,
   "metadata": {},
   "outputs": [
    {
     "data": {
      "text/plain": [
       "{'Blog', 'date', 'post'}"
      ]
     },
     "execution_count": 7,
     "metadata": {},
     "output_type": "execute_result"
    }
   ],
   "source": [
    "set([elem.tag for elem in root.iter()])\n",
    "\n",
    "# another way to look at the structure of the doc: \n",
    "\n",
    "#for thing in root.getiterator():\n",
    "#    print(thing)"
   ]
  },
  {
   "cell_type": "markdown",
   "metadata": {},
   "source": [
    "Next, in order to create the dataframe, let's create a function to get the data out of each xml file that has been parsed to a string with the function defined above.\n",
    "\n",
    "Let's also use the previously used text cleaner function to clean up the text in each post."
   ]
  },
  {
   "cell_type": "code",
   "execution_count": 8,
   "metadata": {},
   "outputs": [],
   "source": [
    "def text_cleaner(text):\n",
    "    # Visual inspection identifies a form of punctuation spaCy does not\n",
    "    # recognize: the double dash '--'.  Better get rid of it now!\n",
    "    text = re.sub(r'--',' ',text)\n",
    "    text = re.sub(\"[\\[].*?[\\]]\", \"\", text)\n",
    "    text = ' '.join(text.split())\n",
    "    return text"
   ]
  },
  {
   "cell_type": "code",
   "execution_count": 9,
   "metadata": {},
   "outputs": [],
   "source": [
    "# before using this function, i'll have to remember to define the 3 lists \n",
    "\n",
    "def split_data(filename, dates, posts, authors):\n",
    "\n",
    "    file_as_text = file_to_string(path_blogs+filename)\n",
    "    #file_as_text = file_to_string(filename)\n",
    "        \n",
    "    # since we are going to get the tree from a string and not a file \n",
    "    # we can't use ET.parse, and will use the following\n",
    "    \n",
    "    tree = ET.ElementTree(ET.fromstring(file_as_text))\n",
    "    root = tree.getroot()\n",
    "\n",
    "    for post_date in root.findall('date'):\n",
    "        \n",
    "        # replace the , with . so the structure is consistent\n",
    "        date_split = re.sub(r\",\", \"-\", post_date.text)\n",
    "        dates.append(date_split)\n",
    "        \n",
    "        authors.append(filename)\n",
    "        \n",
    "    for post_itself in root.findall('post'):\n",
    "        \n",
    "        cleaned = text_cleaner(post_itself.text)\n",
    "        posts.append(cleaned)\n",
    "    \n",
    "    return "
   ]
  },
  {
   "cell_type": "markdown",
   "metadata": {},
   "source": [
    "We'll pick 250 files randomly to try to read in data from, to use in the dataframe. Then we'll have extra files in case a significant amount of them have errors and can't be read in on a first try. "
   ]
  },
  {
   "cell_type": "code",
   "execution_count": 10,
   "metadata": {},
   "outputs": [],
   "source": [
    "selected = np.random.choice(blog_files,250)"
   ]
  },
  {
   "cell_type": "markdown",
   "metadata": {},
   "source": [
    "<em>Info about error handling from [here](https://docs.python.org/3/tutorial/errors.html)</em>"
   ]
  },
  {
   "cell_type": "code",
   "execution_count": 11,
   "metadata": {
    "scrolled": true
   },
   "outputs": [
    {
     "name": "stdout",
     "output_type": "stream",
     "text": [
      "error count = 15\n"
     ]
    }
   ],
   "source": [
    "# the lists (and 1 dict) are \n",
    "\n",
    "dates = []\n",
    "posts = []\n",
    "authors = []\n",
    "\n",
    "count = 0\n",
    "\n",
    "for i, file in enumerate(selected):\n",
    "    try:\n",
    "        split_data(file, dates, posts, authors)    \n",
    "    except:\n",
    "        #UnicodeDecodeError:\n",
    "        #print('Error with {}'.format(i))\n",
    "        count+=1\n",
    "    \n",
    "print('error count = {}'.format(count))"
   ]
  },
  {
   "cell_type": "code",
   "execution_count": 12,
   "metadata": {},
   "outputs": [],
   "source": [
    "# make a dictionary from authors to create the dataframe from there\n",
    "\n",
    "author_dict = {}\n",
    "\n",
    "for i, value in enumerate(authors):\n",
    "    separated = value.split(\".\")\n",
    "    author_dict[i] = separated[:-1]\n"
   ]
  },
  {
   "cell_type": "code",
   "execution_count": 13,
   "metadata": {},
   "outputs": [],
   "source": [
    "df = pd.DataFrame.from_dict(data=author_dict, orient='index', columns=['author_id', 'gender', \n",
    "                                                       'age', 'industry', 'sign'] )\n",
    "\n",
    "df['date'] = dates\n",
    "df['post'] = posts"
   ]
  },
  {
   "cell_type": "code",
   "execution_count": 14,
   "metadata": {},
   "outputs": [
    {
     "data": {
      "text/html": [
       "<div>\n",
       "<style scoped>\n",
       "    .dataframe tbody tr th:only-of-type {\n",
       "        vertical-align: middle;\n",
       "    }\n",
       "\n",
       "    .dataframe tbody tr th {\n",
       "        vertical-align: top;\n",
       "    }\n",
       "\n",
       "    .dataframe thead th {\n",
       "        text-align: right;\n",
       "    }\n",
       "</style>\n",
       "<table border=\"1\" class=\"dataframe\">\n",
       "  <thead>\n",
       "    <tr style=\"text-align: right;\">\n",
       "      <th></th>\n",
       "      <th>author_id</th>\n",
       "      <th>gender</th>\n",
       "      <th>age</th>\n",
       "      <th>industry</th>\n",
       "      <th>sign</th>\n",
       "      <th>date</th>\n",
       "      <th>post</th>\n",
       "    </tr>\n",
       "  </thead>\n",
       "  <tbody>\n",
       "    <tr>\n",
       "      <th>0</th>\n",
       "      <td>1979283</td>\n",
       "      <td>male</td>\n",
       "      <td>27</td>\n",
       "      <td>Internet</td>\n",
       "      <td>Aries</td>\n",
       "      <td>24-May-2004</td>\n",
       "      <td>funny how 10 minutes seem like forever...i nee...</td>\n",
       "    </tr>\n",
       "    <tr>\n",
       "      <th>1</th>\n",
       "      <td>1979283</td>\n",
       "      <td>male</td>\n",
       "      <td>27</td>\n",
       "      <td>Internet</td>\n",
       "      <td>Aries</td>\n",
       "      <td>24-May-2004</td>\n",
       "      <td>Had problems posting again. Thanks to the peop...</td>\n",
       "    </tr>\n",
       "    <tr>\n",
       "      <th>2</th>\n",
       "      <td>1979283</td>\n",
       "      <td>male</td>\n",
       "      <td>27</td>\n",
       "      <td>Internet</td>\n",
       "      <td>Aries</td>\n",
       "      <td>24-May-2004</td>\n",
       "      <td>Finally got this to work..so here's my first w...</td>\n",
       "    </tr>\n",
       "    <tr>\n",
       "      <th>3</th>\n",
       "      <td>1979283</td>\n",
       "      <td>male</td>\n",
       "      <td>27</td>\n",
       "      <td>Internet</td>\n",
       "      <td>Aries</td>\n",
       "      <td>24-May-2004</td>\n",
       "      <td>I've been spending many hours getting my ears ...</td>\n",
       "    </tr>\n",
       "    <tr>\n",
       "      <th>4</th>\n",
       "      <td>1979283</td>\n",
       "      <td>male</td>\n",
       "      <td>27</td>\n",
       "      <td>Internet</td>\n",
       "      <td>Aries</td>\n",
       "      <td>24-May-2004</td>\n",
       "      <td>Getting this SEO shit up is really getting on ...</td>\n",
       "    </tr>\n",
       "  </tbody>\n",
       "</table>\n",
       "</div>"
      ],
      "text/plain": [
       "  author_id gender age  industry   sign         date  \\\n",
       "0   1979283   male  27  Internet  Aries  24-May-2004   \n",
       "1   1979283   male  27  Internet  Aries  24-May-2004   \n",
       "2   1979283   male  27  Internet  Aries  24-May-2004   \n",
       "3   1979283   male  27  Internet  Aries  24-May-2004   \n",
       "4   1979283   male  27  Internet  Aries  24-May-2004   \n",
       "\n",
       "                                                post  \n",
       "0  funny how 10 minutes seem like forever...i nee...  \n",
       "1  Had problems posting again. Thanks to the peop...  \n",
       "2  Finally got this to work..so here's my first w...  \n",
       "3  I've been spending many hours getting my ears ...  \n",
       "4  Getting this SEO shit up is really getting on ...  "
      ]
     },
     "execution_count": 14,
     "metadata": {},
     "output_type": "execute_result"
    }
   ],
   "source": [
    "df.head()"
   ]
  },
  {
   "cell_type": "markdown",
   "metadata": {},
   "source": [
    "After separating and re combining the data into the dataframe, I'll use spacy to parse the blog posts."
   ]
  },
  {
   "cell_type": "code",
   "execution_count": 15,
   "metadata": {},
   "outputs": [],
   "source": [
    "nlp = spacy.load('en_core_web_lg')\n",
    "\n",
    "df['parsed'] = df['post'].apply(nlp)"
   ]
  },
  {
   "cell_type": "markdown",
   "metadata": {},
   "source": [
    "I found that some of the months are not in English, which leads to the assumption that some of the posts are not in English. Originally I just replaced the months with the english but the analysis of the text won't work since we are only loading the English language.\n",
    "\n",
    "I'll use Google Cloud API to check the language of each row, and then drop rows that aren't in English. I used these resources: [Translation API Client Libraries](https://cloud.google.com/translate/docs/reference/libraries) (and [explicitly adding credentials](https://cloud.google.com/docs/authentication/production)) and [Detecting the lang of a string](https://cloud.google.com/translate/docs/detecting-language#translate_detect_language-python) . \n",
    "\n",
    "Another resource - [lang detect](https://pypi.org/project/langdetect/)."
   ]
  },
  {
   "cell_type": "code",
   "execution_count": 16,
   "metadata": {},
   "outputs": [],
   "source": [
    "#export GOOGLE_APPLICATION_CREDENTIALS=\"\"\"/Users/gemma/Documents/data science/DS Bootcamp/\n",
    "#                                         My First Project-901fbdcc624d.json\"\"\"\n",
    "\n",
    "# Imports the Google Cloud client library\n",
    "from google.cloud import translate\n",
    "\n",
    "# Instantiates a client\n",
    "translate_client = translate.Client.from_service_account_json(\n",
    "        '/Users/gemma/Documents/data science/DS Bootcamp/My First Project-901fbdcc624d.json')\n"
   ]
  },
  {
   "cell_type": "code",
   "execution_count": 17,
   "metadata": {},
   "outputs": [],
   "source": [
    "# running this on the whole sries made me hit the quota on the79th row, so im\n",
    "# just going to look at the first 50 char of each post\n",
    "\n",
    "def check_fifty_char(series):\n",
    "    return translate_client.detect_language(series[:15])\n",
    "\n",
    "df['lang'] = df['post'].apply(check_fifty_char)\n"
   ]
  },
  {
   "cell_type": "code",
   "execution_count": 18,
   "metadata": {},
   "outputs": [],
   "source": [
    "def check_lang(series):\n",
    "    if series['language'] != \"en\":\n",
    "        series = np.nan\n",
    "    return\n",
    "\n",
    "# substitute non english with NaN\n",
    "df['lang'].apply(check_lang)\n",
    "\n",
    "# drop the rows of NaN - can't use non English data in this analysis \n",
    "df.dropna(axis=0, how='any', inplace=True)\n"
   ]
  },
  {
   "cell_type": "code",
   "execution_count": 19,
   "metadata": {},
   "outputs": [],
   "source": [
    "# now that we're done with the language column, let's drop it \n",
    "\n",
    "df.drop('lang', axis=1, inplace=True)"
   ]
  },
  {
   "cell_type": "code",
   "execution_count": 20,
   "metadata": {},
   "outputs": [
    {
     "data": {
      "text/html": [
       "<div>\n",
       "<style scoped>\n",
       "    .dataframe tbody tr th:only-of-type {\n",
       "        vertical-align: middle;\n",
       "    }\n",
       "\n",
       "    .dataframe tbody tr th {\n",
       "        vertical-align: top;\n",
       "    }\n",
       "\n",
       "    .dataframe thead th {\n",
       "        text-align: right;\n",
       "    }\n",
       "</style>\n",
       "<table border=\"1\" class=\"dataframe\">\n",
       "  <thead>\n",
       "    <tr style=\"text-align: right;\">\n",
       "      <th></th>\n",
       "      <th>author_id</th>\n",
       "      <th>gender</th>\n",
       "      <th>age</th>\n",
       "      <th>industry</th>\n",
       "      <th>sign</th>\n",
       "      <th>date</th>\n",
       "      <th>post</th>\n",
       "      <th>parsed</th>\n",
       "    </tr>\n",
       "  </thead>\n",
       "  <tbody>\n",
       "  </tbody>\n",
       "</table>\n",
       "</div>"
      ],
      "text/plain": [
       "Empty DataFrame\n",
       "Columns: [author_id, gender, age, industry, sign, date, post, parsed]\n",
       "Index: []"
      ]
     },
     "execution_count": 20,
     "metadata": {},
     "output_type": "execute_result"
    }
   ],
   "source": [
    "# someone has julio, agosto, and maj in their date but the post is still in english\n",
    "df[df['date'].str.contains(\"maj\")]"
   ]
  },
  {
   "cell_type": "markdown",
   "metadata": {},
   "source": [
    "Even after checking the language, and dropping all non English posts, some of the months are still spelt incorrectly and are causing errors. I double checked the erroneous rows to make sure the posts were in English, and then I will replace the strings that flag as errors when trying to run cell 94 below."
   ]
  },
  {
   "cell_type": "code",
   "execution_count": 21,
   "metadata": {},
   "outputs": [],
   "source": [
    "# some months either in other langs (which will bring some other issues later on) or \n",
    "# just spelled wrong\n",
    "replacing = {\"Mai\":\"May\", \"mayo\": \"May\", \"mei\": \"May\", \"Agosto\":\"August\", \"juli\":\"July\", \n",
    "             \"Julho\":\"July\", \"Juli\":\"July\", \"mars\":\"March\", \"juni\": \"June\", \"Juni\":\"June\", \n",
    "             \"augustus\": \"August\", \"agosto\":\"August\", 'augusti':'Agusut', \"Agusut\":\"August\",\n",
    "            \"Dezember\": \"December\", \"Januar\": \"January\", \"Januaryy\": \"January\",\n",
    "            \"Januaryy\": \"Jan\", \"Jany\": \"Jan\", \"Februar\": \"Feb\", \"Feby\": \"Feb\",\n",
    "              \"julio\": \"July\", \"maj\": \"May\", \"juni\": \"June\", \"juin\": \"June\", \"juillet\":\"July\"}\n",
    "                            \n",
    "for k in replacing.keys():\n",
    "    df['date'] = df['date'].str.replace(k,replacing[k],regex=False)"
   ]
  },
  {
   "cell_type": "code",
   "execution_count": 22,
   "metadata": {},
   "outputs": [],
   "source": [
    "df['date'] = pd.to_datetime(df['date'])"
   ]
  },
  {
   "cell_type": "code",
   "execution_count": 23,
   "metadata": {},
   "outputs": [],
   "source": [
    "df['month'] = df['date'].dt.month"
   ]
  },
  {
   "cell_type": "code",
   "execution_count": 24,
   "metadata": {},
   "outputs": [],
   "source": [
    "df['day'] = df['date'].dt.day\n",
    "df['year'] = df['date'].dt.year"
   ]
  },
  {
   "cell_type": "code",
   "execution_count": 25,
   "metadata": {},
   "outputs": [],
   "source": [
    "df['gender'] = np.where(df['gender'] == 'male', 1, 0)\n",
    "\n",
    "#binarize gender since only male or female are options here"
   ]
  },
  {
   "cell_type": "code",
   "execution_count": 26,
   "metadata": {},
   "outputs": [
    {
     "data": {
      "text/html": [
       "<div>\n",
       "<style scoped>\n",
       "    .dataframe tbody tr th:only-of-type {\n",
       "        vertical-align: middle;\n",
       "    }\n",
       "\n",
       "    .dataframe tbody tr th {\n",
       "        vertical-align: top;\n",
       "    }\n",
       "\n",
       "    .dataframe thead th {\n",
       "        text-align: right;\n",
       "    }\n",
       "</style>\n",
       "<table border=\"1\" class=\"dataframe\">\n",
       "  <thead>\n",
       "    <tr style=\"text-align: right;\">\n",
       "      <th></th>\n",
       "      <th>author_id</th>\n",
       "      <th>gender</th>\n",
       "      <th>age</th>\n",
       "      <th>industry</th>\n",
       "      <th>sign</th>\n",
       "      <th>date</th>\n",
       "      <th>post</th>\n",
       "      <th>parsed</th>\n",
       "      <th>month</th>\n",
       "      <th>day</th>\n",
       "      <th>year</th>\n",
       "    </tr>\n",
       "  </thead>\n",
       "  <tbody>\n",
       "    <tr>\n",
       "      <th>0</th>\n",
       "      <td>1979283</td>\n",
       "      <td>1</td>\n",
       "      <td>27</td>\n",
       "      <td>Internet</td>\n",
       "      <td>Aries</td>\n",
       "      <td>2004-05-24</td>\n",
       "      <td>funny how 10 minutes seem like forever...i nee...</td>\n",
       "      <td>(funny, how, 10, minutes, seem, like, forever,...</td>\n",
       "      <td>5</td>\n",
       "      <td>24</td>\n",
       "      <td>2004</td>\n",
       "    </tr>\n",
       "    <tr>\n",
       "      <th>1</th>\n",
       "      <td>1979283</td>\n",
       "      <td>1</td>\n",
       "      <td>27</td>\n",
       "      <td>Internet</td>\n",
       "      <td>Aries</td>\n",
       "      <td>2004-05-24</td>\n",
       "      <td>Had problems posting again. Thanks to the peop...</td>\n",
       "      <td>(Had, problems, posting, again, ., Thanks, to,...</td>\n",
       "      <td>5</td>\n",
       "      <td>24</td>\n",
       "      <td>2004</td>\n",
       "    </tr>\n",
       "    <tr>\n",
       "      <th>2</th>\n",
       "      <td>1979283</td>\n",
       "      <td>1</td>\n",
       "      <td>27</td>\n",
       "      <td>Internet</td>\n",
       "      <td>Aries</td>\n",
       "      <td>2004-05-24</td>\n",
       "      <td>Finally got this to work..so here's my first w...</td>\n",
       "      <td>(Finally, got, this, to, work, .., so, here, '...</td>\n",
       "      <td>5</td>\n",
       "      <td>24</td>\n",
       "      <td>2004</td>\n",
       "    </tr>\n",
       "  </tbody>\n",
       "</table>\n",
       "</div>"
      ],
      "text/plain": [
       "  author_id  gender age  industry   sign       date  \\\n",
       "0   1979283       1  27  Internet  Aries 2004-05-24   \n",
       "1   1979283       1  27  Internet  Aries 2004-05-24   \n",
       "2   1979283       1  27  Internet  Aries 2004-05-24   \n",
       "\n",
       "                                                post  \\\n",
       "0  funny how 10 minutes seem like forever...i nee...   \n",
       "1  Had problems posting again. Thanks to the peop...   \n",
       "2  Finally got this to work..so here's my first w...   \n",
       "\n",
       "                                              parsed  month  day  year  \n",
       "0  (funny, how, 10, minutes, seem, like, forever,...      5   24  2004  \n",
       "1  (Had, problems, posting, again, ., Thanks, to,...      5   24  2004  \n",
       "2  (Finally, got, this, to, work, .., so, here, '...      5   24  2004  "
      ]
     },
     "execution_count": 26,
     "metadata": {},
     "output_type": "execute_result"
    }
   ],
   "source": [
    "df.head(3)"
   ]
  },
  {
   "cell_type": "markdown",
   "metadata": {},
   "source": [
    "## Part 1.2 - Features\n",
    "\n",
    "I'll binarize the categorical data (indsustry and sign), drop the redundant columns, and create some new features."
   ]
  },
  {
   "cell_type": "code",
   "execution_count": 27,
   "metadata": {},
   "outputs": [],
   "source": [
    "binned = pd.get_dummies(df.loc[:,['industry','sign']])\n",
    "\n",
    "df = pd.concat([df.drop(['industry','sign','date'], 1), \n",
    "                     binned], axis=1) \n"
   ]
  },
  {
   "cell_type": "code",
   "execution_count": 28,
   "metadata": {},
   "outputs": [
    {
     "data": {
      "text/html": [
       "<div>\n",
       "<style scoped>\n",
       "    .dataframe tbody tr th:only-of-type {\n",
       "        vertical-align: middle;\n",
       "    }\n",
       "\n",
       "    .dataframe tbody tr th {\n",
       "        vertical-align: top;\n",
       "    }\n",
       "\n",
       "    .dataframe thead th {\n",
       "        text-align: right;\n",
       "    }\n",
       "</style>\n",
       "<table border=\"1\" class=\"dataframe\">\n",
       "  <thead>\n",
       "    <tr style=\"text-align: right;\">\n",
       "      <th></th>\n",
       "      <th>author_id</th>\n",
       "      <th>gender</th>\n",
       "      <th>age</th>\n",
       "      <th>post</th>\n",
       "      <th>parsed</th>\n",
       "      <th>month</th>\n",
       "      <th>day</th>\n",
       "      <th>year</th>\n",
       "      <th>industry_Accounting</th>\n",
       "      <th>industry_Architecture</th>\n",
       "      <th>...</th>\n",
       "      <th>sign_Cancer</th>\n",
       "      <th>sign_Capricorn</th>\n",
       "      <th>sign_Gemini</th>\n",
       "      <th>sign_Leo</th>\n",
       "      <th>sign_Libra</th>\n",
       "      <th>sign_Pisces</th>\n",
       "      <th>sign_Sagittarius</th>\n",
       "      <th>sign_Scorpio</th>\n",
       "      <th>sign_Taurus</th>\n",
       "      <th>sign_Virgo</th>\n",
       "    </tr>\n",
       "  </thead>\n",
       "  <tbody>\n",
       "    <tr>\n",
       "      <th>0</th>\n",
       "      <td>1979283</td>\n",
       "      <td>1</td>\n",
       "      <td>27</td>\n",
       "      <td>funny how 10 minutes seem like forever...i nee...</td>\n",
       "      <td>(funny, how, 10, minutes, seem, like, forever,...</td>\n",
       "      <td>5</td>\n",
       "      <td>24</td>\n",
       "      <td>2004</td>\n",
       "      <td>0</td>\n",
       "      <td>0</td>\n",
       "      <td>...</td>\n",
       "      <td>0</td>\n",
       "      <td>0</td>\n",
       "      <td>0</td>\n",
       "      <td>0</td>\n",
       "      <td>0</td>\n",
       "      <td>0</td>\n",
       "      <td>0</td>\n",
       "      <td>0</td>\n",
       "      <td>0</td>\n",
       "      <td>0</td>\n",
       "    </tr>\n",
       "    <tr>\n",
       "      <th>1</th>\n",
       "      <td>1979283</td>\n",
       "      <td>1</td>\n",
       "      <td>27</td>\n",
       "      <td>Had problems posting again. Thanks to the peop...</td>\n",
       "      <td>(Had, problems, posting, again, ., Thanks, to,...</td>\n",
       "      <td>5</td>\n",
       "      <td>24</td>\n",
       "      <td>2004</td>\n",
       "      <td>0</td>\n",
       "      <td>0</td>\n",
       "      <td>...</td>\n",
       "      <td>0</td>\n",
       "      <td>0</td>\n",
       "      <td>0</td>\n",
       "      <td>0</td>\n",
       "      <td>0</td>\n",
       "      <td>0</td>\n",
       "      <td>0</td>\n",
       "      <td>0</td>\n",
       "      <td>0</td>\n",
       "      <td>0</td>\n",
       "    </tr>\n",
       "  </tbody>\n",
       "</table>\n",
       "<p>2 rows × 47 columns</p>\n",
       "</div>"
      ],
      "text/plain": [
       "  author_id  gender age                                               post  \\\n",
       "0   1979283       1  27  funny how 10 minutes seem like forever...i nee...   \n",
       "1   1979283       1  27  Had problems posting again. Thanks to the peop...   \n",
       "\n",
       "                                              parsed  month  day  year  \\\n",
       "0  (funny, how, 10, minutes, seem, like, forever,...      5   24  2004   \n",
       "1  (Had, problems, posting, again, ., Thanks, to,...      5   24  2004   \n",
       "\n",
       "   industry_Accounting  industry_Architecture     ...      sign_Cancer  \\\n",
       "0                    0                      0     ...                0   \n",
       "1                    0                      0     ...                0   \n",
       "\n",
       "   sign_Capricorn  sign_Gemini  sign_Leo  sign_Libra  sign_Pisces  \\\n",
       "0               0            0         0           0            0   \n",
       "1               0            0         0           0            0   \n",
       "\n",
       "   sign_Sagittarius  sign_Scorpio  sign_Taurus  sign_Virgo  \n",
       "0                 0             0            0           0  \n",
       "1                 0             0            0           0  \n",
       "\n",
       "[2 rows x 47 columns]"
      ]
     },
     "execution_count": 28,
     "metadata": {},
     "output_type": "execute_result"
    }
   ],
   "source": [
    "df.head(2)"
   ]
  },
  {
   "cell_type": "markdown",
   "metadata": {},
   "source": [
    "For features, I'll add a word count, a vector of the entire blog post, a pronoun count per post, and then use Bag of Words and add the most common 150 words as features as well."
   ]
  },
  {
   "cell_type": "code",
   "execution_count": 29,
   "metadata": {},
   "outputs": [],
   "source": [
    "df[\"word_count\"] = len(df['parsed'])"
   ]
  },
  {
   "cell_type": "code",
   "execution_count": 30,
   "metadata": {},
   "outputs": [],
   "source": [
    "# getting vectors with spacy, will also get vectors with unsupervised methods later on\n",
    "\n",
    "def get_post_vector(post):\n",
    "    span = post\n",
    "    if span.has_vector:\n",
    "        return span.vector_norm\n",
    "    else:\n",
    "        return 0\n",
    "\n",
    "df['vector'] = df['parsed'].apply(get_post_vector)"
   ]
  },
  {
   "cell_type": "code",
   "execution_count": 31,
   "metadata": {},
   "outputs": [],
   "source": [
    "def get_pron_count(text):\n",
    "    count = 0\n",
    "    for token in text:\n",
    "        if token.pos_ == \"PRON\":\n",
    "            count+=1\n",
    "    return count\n",
    "\n",
    "df['pronoun_count'] = df['parsed'].apply(get_pron_count)"
   ]
  },
  {
   "cell_type": "markdown",
   "metadata": {},
   "source": [
    "Bag of Words"
   ]
  },
  {
   "cell_type": "code",
   "execution_count": 32,
   "metadata": {},
   "outputs": [
    {
     "name": "stdout",
     "output_type": "stream",
     "text": [
      "1226502\n"
     ]
    }
   ],
   "source": [
    "def bag_of_words(text, all_words):\n",
    "    \n",
    "    # Filter out punctuation and stop words.\n",
    "    all_words += ([token.lemma_\n",
    "                for token in text\n",
    "                if not token.is_punct\n",
    "                and not token.is_stop])\n",
    "    \n",
    "    # Return the most common words.\n",
    "    #return [item[0] for item in Counter(allwords).most_common(1000)]\n",
    "    \n",
    "all_words = []\n",
    "df['parsed'].apply(bag_of_words, args=(all_words,))\n",
    "\n",
    "print(len(all_words))\n",
    "\n",
    "common_words = [item[0] for item in Counter(all_words).most_common(150)]"
   ]
  },
  {
   "cell_type": "code",
   "execution_count": 33,
   "metadata": {},
   "outputs": [
    {
     "data": {
      "text/html": [
       "<div>\n",
       "<style scoped>\n",
       "    .dataframe tbody tr th:only-of-type {\n",
       "        vertical-align: middle;\n",
       "    }\n",
       "\n",
       "    .dataframe tbody tr th {\n",
       "        vertical-align: top;\n",
       "    }\n",
       "\n",
       "    .dataframe thead th {\n",
       "        text-align: right;\n",
       "    }\n",
       "</style>\n",
       "<table border=\"1\" class=\"dataframe\">\n",
       "  <thead>\n",
       "    <tr style=\"text-align: right;\">\n",
       "      <th></th>\n",
       "      <th>author_id</th>\n",
       "      <th>gender</th>\n",
       "      <th>age</th>\n",
       "      <th>post</th>\n",
       "      <th>parsed</th>\n",
       "      <th>month</th>\n",
       "      <th>day</th>\n",
       "      <th>year</th>\n",
       "      <th>industry_Accounting</th>\n",
       "      <th>industry_Architecture</th>\n",
       "      <th>...</th>\n",
       "      <th>sign_Leo</th>\n",
       "      <th>sign_Libra</th>\n",
       "      <th>sign_Pisces</th>\n",
       "      <th>sign_Sagittarius</th>\n",
       "      <th>sign_Scorpio</th>\n",
       "      <th>sign_Taurus</th>\n",
       "      <th>sign_Virgo</th>\n",
       "      <th>word_count</th>\n",
       "      <th>vector</th>\n",
       "      <th>pronoun_count</th>\n",
       "    </tr>\n",
       "  </thead>\n",
       "  <tbody>\n",
       "    <tr>\n",
       "      <th>0</th>\n",
       "      <td>1979283</td>\n",
       "      <td>1</td>\n",
       "      <td>27</td>\n",
       "      <td>funny how 10 minutes seem like forever...i nee...</td>\n",
       "      <td>(funny, how, 10, minutes, seem, like, forever,...</td>\n",
       "      <td>5</td>\n",
       "      <td>24</td>\n",
       "      <td>2004</td>\n",
       "      <td>0</td>\n",
       "      <td>0</td>\n",
       "      <td>...</td>\n",
       "      <td>0</td>\n",
       "      <td>0</td>\n",
       "      <td>0</td>\n",
       "      <td>0</td>\n",
       "      <td>0</td>\n",
       "      <td>0</td>\n",
       "      <td>0</td>\n",
       "      <td>6121</td>\n",
       "      <td>3.630934</td>\n",
       "      <td>1</td>\n",
       "    </tr>\n",
       "    <tr>\n",
       "      <th>1</th>\n",
       "      <td>1979283</td>\n",
       "      <td>1</td>\n",
       "      <td>27</td>\n",
       "      <td>Had problems posting again. Thanks to the peop...</td>\n",
       "      <td>(Had, problems, posting, again, ., Thanks, to,...</td>\n",
       "      <td>5</td>\n",
       "      <td>24</td>\n",
       "      <td>2004</td>\n",
       "      <td>0</td>\n",
       "      <td>0</td>\n",
       "      <td>...</td>\n",
       "      <td>0</td>\n",
       "      <td>0</td>\n",
       "      <td>0</td>\n",
       "      <td>0</td>\n",
       "      <td>0</td>\n",
       "      <td>0</td>\n",
       "      <td>0</td>\n",
       "      <td>6121</td>\n",
       "      <td>3.273414</td>\n",
       "      <td>3</td>\n",
       "    </tr>\n",
       "  </tbody>\n",
       "</table>\n",
       "<p>2 rows × 50 columns</p>\n",
       "</div>"
      ],
      "text/plain": [
       "  author_id  gender age                                               post  \\\n",
       "0   1979283       1  27  funny how 10 minutes seem like forever...i nee...   \n",
       "1   1979283       1  27  Had problems posting again. Thanks to the peop...   \n",
       "\n",
       "                                              parsed  month  day  year  \\\n",
       "0  (funny, how, 10, minutes, seem, like, forever,...      5   24  2004   \n",
       "1  (Had, problems, posting, again, ., Thanks, to,...      5   24  2004   \n",
       "\n",
       "   industry_Accounting  industry_Architecture      ...        sign_Leo  \\\n",
       "0                    0                      0      ...               0   \n",
       "1                    0                      0      ...               0   \n",
       "\n",
       "   sign_Libra  sign_Pisces  sign_Sagittarius  sign_Scorpio  sign_Taurus  \\\n",
       "0           0            0                 0             0            0   \n",
       "1           0            0                 0             0            0   \n",
       "\n",
       "   sign_Virgo  word_count    vector  pronoun_count  \n",
       "0           0        6121  3.630934              1  \n",
       "1           0        6121  3.273414              3  \n",
       "\n",
       "[2 rows x 50 columns]"
      ]
     },
     "execution_count": 33,
     "metadata": {},
     "output_type": "execute_result"
    }
   ],
   "source": [
    "df.head(2)"
   ]
  },
  {
   "cell_type": "code",
   "execution_count": 34,
   "metadata": {
    "scrolled": true
   },
   "outputs": [
    {
     "name": "stdout",
     "output_type": "stream",
     "text": [
      "Processing row 0\n",
      "Processing row 500\n",
      "Processing row 1000\n",
      "Processing row 1500\n",
      "Processing row 2000\n",
      "Processing row 2500\n",
      "Processing row 3000\n",
      "Processing row 3500\n",
      "Processing row 4000\n",
      "Processing row 4500\n",
      "Processing row 5000\n",
      "Processing row 5500\n",
      "Processing row 6000\n"
     ]
    }
   ],
   "source": [
    "for word in common_words:\n",
    "    df[word] = 0\n",
    "    \n",
    "for i, sentence in enumerate(df['parsed']):\n",
    "        \n",
    "        # I already converted the sentence to lemmas, and filtered out punctuation and stop words.\n",
    "        # Now I'm just going to get a list of the words in each line that are in the common words list.\n",
    "        words = [token.lemma_\n",
    "                 for token in sentence\n",
    "                 if token.lemma_ in common_words\n",
    "                ]\n",
    "        \n",
    "        # Populate the row with word counts\n",
    "        for word in words:\n",
    "            df.loc[i, word] += 1\n",
    "        \n",
    "        # This counter is just to make sure the kernel didn't hang.\n",
    "        if i % 500 == 0:\n",
    "            print(\"Processing row {}\".format(i))"
   ]
  },
  {
   "cell_type": "code",
   "execution_count": 35,
   "metadata": {},
   "outputs": [
    {
     "data": {
      "text/html": [
       "<div>\n",
       "<style scoped>\n",
       "    .dataframe tbody tr th:only-of-type {\n",
       "        vertical-align: middle;\n",
       "    }\n",
       "\n",
       "    .dataframe tbody tr th {\n",
       "        vertical-align: top;\n",
       "    }\n",
       "\n",
       "    .dataframe thead th {\n",
       "        text-align: right;\n",
       "    }\n",
       "</style>\n",
       "<table border=\"1\" class=\"dataframe\">\n",
       "  <thead>\n",
       "    <tr style=\"text-align: right;\">\n",
       "      <th></th>\n",
       "      <th>author_id</th>\n",
       "      <th>gender</th>\n",
       "      <th>age</th>\n",
       "      <th>post</th>\n",
       "      <th>parsed</th>\n",
       "      <th>month</th>\n",
       "      <th>day</th>\n",
       "      <th>year</th>\n",
       "      <th>industry_Accounting</th>\n",
       "      <th>industry_Architecture</th>\n",
       "      <th>...</th>\n",
       "      <th>maybe</th>\n",
       "      <th>school</th>\n",
       "      <th>ask</th>\n",
       "      <th>play</th>\n",
       "      <th>watch</th>\n",
       "      <th>keep</th>\n",
       "      <th>write</th>\n",
       "      <th>another</th>\n",
       "      <th>many</th>\n",
       "      <th>man</th>\n",
       "    </tr>\n",
       "  </thead>\n",
       "  <tbody>\n",
       "    <tr>\n",
       "      <th>0</th>\n",
       "      <td>1979283</td>\n",
       "      <td>1</td>\n",
       "      <td>27</td>\n",
       "      <td>funny how 10 minutes seem like forever...i nee...</td>\n",
       "      <td>(funny, how, 10, minutes, seem, like, forever,...</td>\n",
       "      <td>5</td>\n",
       "      <td>0</td>\n",
       "      <td>0</td>\n",
       "      <td>0</td>\n",
       "      <td>0</td>\n",
       "      <td>...</td>\n",
       "      <td>0</td>\n",
       "      <td>0</td>\n",
       "      <td>0</td>\n",
       "      <td>0</td>\n",
       "      <td>0</td>\n",
       "      <td>0</td>\n",
       "      <td>0</td>\n",
       "      <td>0</td>\n",
       "      <td>0</td>\n",
       "      <td>0</td>\n",
       "    </tr>\n",
       "    <tr>\n",
       "      <th>1</th>\n",
       "      <td>1979283</td>\n",
       "      <td>1</td>\n",
       "      <td>27</td>\n",
       "      <td>Had problems posting again. Thanks to the peop...</td>\n",
       "      <td>(Had, problems, posting, again, ., Thanks, to,...</td>\n",
       "      <td>5</td>\n",
       "      <td>0</td>\n",
       "      <td>0</td>\n",
       "      <td>0</td>\n",
       "      <td>0</td>\n",
       "      <td>...</td>\n",
       "      <td>0</td>\n",
       "      <td>0</td>\n",
       "      <td>0</td>\n",
       "      <td>0</td>\n",
       "      <td>0</td>\n",
       "      <td>0</td>\n",
       "      <td>0</td>\n",
       "      <td>0</td>\n",
       "      <td>0</td>\n",
       "      <td>0</td>\n",
       "    </tr>\n",
       "    <tr>\n",
       "      <th>2</th>\n",
       "      <td>1979283</td>\n",
       "      <td>1</td>\n",
       "      <td>27</td>\n",
       "      <td>Finally got this to work..so here's my first w...</td>\n",
       "      <td>(Finally, got, this, to, work, .., so, here, '...</td>\n",
       "      <td>5</td>\n",
       "      <td>0</td>\n",
       "      <td>0</td>\n",
       "      <td>0</td>\n",
       "      <td>0</td>\n",
       "      <td>...</td>\n",
       "      <td>0</td>\n",
       "      <td>0</td>\n",
       "      <td>0</td>\n",
       "      <td>0</td>\n",
       "      <td>0</td>\n",
       "      <td>2</td>\n",
       "      <td>0</td>\n",
       "      <td>0</td>\n",
       "      <td>0</td>\n",
       "      <td>0</td>\n",
       "    </tr>\n",
       "    <tr>\n",
       "      <th>3</th>\n",
       "      <td>1979283</td>\n",
       "      <td>1</td>\n",
       "      <td>27</td>\n",
       "      <td>I've been spending many hours getting my ears ...</td>\n",
       "      <td>(I, 've, been, spending, many, hours, getting,...</td>\n",
       "      <td>5</td>\n",
       "      <td>0</td>\n",
       "      <td>1</td>\n",
       "      <td>0</td>\n",
       "      <td>0</td>\n",
       "      <td>...</td>\n",
       "      <td>0</td>\n",
       "      <td>0</td>\n",
       "      <td>0</td>\n",
       "      <td>2</td>\n",
       "      <td>0</td>\n",
       "      <td>0</td>\n",
       "      <td>0</td>\n",
       "      <td>0</td>\n",
       "      <td>1</td>\n",
       "      <td>0</td>\n",
       "    </tr>\n",
       "    <tr>\n",
       "      <th>4</th>\n",
       "      <td>1979283</td>\n",
       "      <td>1</td>\n",
       "      <td>27</td>\n",
       "      <td>Getting this SEO shit up is really getting on ...</td>\n",
       "      <td>(Getting, this, SEO, shit, up, is, really, get...</td>\n",
       "      <td>5</td>\n",
       "      <td>0</td>\n",
       "      <td>0</td>\n",
       "      <td>0</td>\n",
       "      <td>0</td>\n",
       "      <td>...</td>\n",
       "      <td>0</td>\n",
       "      <td>0</td>\n",
       "      <td>0</td>\n",
       "      <td>0</td>\n",
       "      <td>0</td>\n",
       "      <td>0</td>\n",
       "      <td>0</td>\n",
       "      <td>0</td>\n",
       "      <td>0</td>\n",
       "      <td>0</td>\n",
       "    </tr>\n",
       "  </tbody>\n",
       "</table>\n",
       "<p>5 rows × 198 columns</p>\n",
       "</div>"
      ],
      "text/plain": [
       "  author_id  gender age                                               post  \\\n",
       "0   1979283       1  27  funny how 10 minutes seem like forever...i nee...   \n",
       "1   1979283       1  27  Had problems posting again. Thanks to the peop...   \n",
       "2   1979283       1  27  Finally got this to work..so here's my first w...   \n",
       "3   1979283       1  27  I've been spending many hours getting my ears ...   \n",
       "4   1979283       1  27  Getting this SEO shit up is really getting on ...   \n",
       "\n",
       "                                              parsed  month  day  year  \\\n",
       "0  (funny, how, 10, minutes, seem, like, forever,...      5    0     0   \n",
       "1  (Had, problems, posting, again, ., Thanks, to,...      5    0     0   \n",
       "2  (Finally, got, this, to, work, .., so, here, '...      5    0     0   \n",
       "3  (I, 've, been, spending, many, hours, getting,...      5    0     1   \n",
       "4  (Getting, this, SEO, shit, up, is, really, get...      5    0     0   \n",
       "\n",
       "   industry_Accounting  industry_Architecture ...   maybe  school  ask  play  \\\n",
       "0                    0                      0 ...       0       0    0     0   \n",
       "1                    0                      0 ...       0       0    0     0   \n",
       "2                    0                      0 ...       0       0    0     0   \n",
       "3                    0                      0 ...       0       0    0     2   \n",
       "4                    0                      0 ...       0       0    0     0   \n",
       "\n",
       "   watch  keep  write  another  many  man  \n",
       "0      0     0      0        0     0    0  \n",
       "1      0     0      0        0     0    0  \n",
       "2      0     2      0        0     0    0  \n",
       "3      0     0      0        0     1    0  \n",
       "4      0     0      0        0     0    0  \n",
       "\n",
       "[5 rows x 198 columns]"
      ]
     },
     "execution_count": 35,
     "metadata": {},
     "output_type": "execute_result"
    }
   ],
   "source": [
    "df.head()"
   ]
  },
  {
   "cell_type": "markdown",
   "metadata": {},
   "source": [
    "Now the dataframe is quite large. I'm going to go through and create a correlation matrix, and then drop words with high correlations (over 90%)."
   ]
  },
  {
   "cell_type": "code",
   "execution_count": 36,
   "metadata": {},
   "outputs": [],
   "source": [
    "corr_m = df.drop(['post', 'parsed'],1).corr()"
   ]
  },
  {
   "cell_type": "code",
   "execution_count": 37,
   "metadata": {
    "scrolled": true
   },
   "outputs": [
    {
     "name": "stdout",
     "output_type": "stream",
     "text": [
      "['pronoun_count']\n"
     ]
    }
   ],
   "source": [
    "flds = corr_m.columns.values\n",
    "\n",
    "to_drop = []\n",
    "\n",
    "for i in range(corr_m.shape[1]):\n",
    "    for j in range(i+1, corr_m.shape[1]):\n",
    "        if corr_m.iloc[i,j] > 0.90:\n",
    "            if flds[i] not in to_drop:\n",
    "                to_drop.append(flds[i])\n",
    "\n",
    "\n",
    "#even = range(len(to_drop)-1, 0,-2)\n",
    "\n",
    "#for i in even:\n",
    "#    to_drop.remove(to_drop[i])\n",
    "print(to_drop)"
   ]
  },
  {
   "cell_type": "code",
   "execution_count": 38,
   "metadata": {},
   "outputs": [],
   "source": [
    "# let's drop them\n",
    "\n",
    "df.drop(to_drop,1, inplace=True)"
   ]
  },
  {
   "cell_type": "code",
   "execution_count": 39,
   "metadata": {},
   "outputs": [
    {
     "data": {
      "text/html": [
       "<div>\n",
       "<style scoped>\n",
       "    .dataframe tbody tr th:only-of-type {\n",
       "        vertical-align: middle;\n",
       "    }\n",
       "\n",
       "    .dataframe tbody tr th {\n",
       "        vertical-align: top;\n",
       "    }\n",
       "\n",
       "    .dataframe thead th {\n",
       "        text-align: right;\n",
       "    }\n",
       "</style>\n",
       "<table border=\"1\" class=\"dataframe\">\n",
       "  <thead>\n",
       "    <tr style=\"text-align: right;\">\n",
       "      <th></th>\n",
       "      <th>author_id</th>\n",
       "      <th>gender</th>\n",
       "      <th>age</th>\n",
       "      <th>post</th>\n",
       "      <th>parsed</th>\n",
       "      <th>month</th>\n",
       "      <th>day</th>\n",
       "      <th>year</th>\n",
       "      <th>industry_Accounting</th>\n",
       "      <th>industry_Architecture</th>\n",
       "      <th>...</th>\n",
       "      <th>maybe</th>\n",
       "      <th>school</th>\n",
       "      <th>ask</th>\n",
       "      <th>play</th>\n",
       "      <th>watch</th>\n",
       "      <th>keep</th>\n",
       "      <th>write</th>\n",
       "      <th>another</th>\n",
       "      <th>many</th>\n",
       "      <th>man</th>\n",
       "    </tr>\n",
       "  </thead>\n",
       "  <tbody>\n",
       "    <tr>\n",
       "      <th>0</th>\n",
       "      <td>1979283</td>\n",
       "      <td>1</td>\n",
       "      <td>27</td>\n",
       "      <td>funny how 10 minutes seem like forever...i nee...</td>\n",
       "      <td>(funny, how, 10, minutes, seem, like, forever,...</td>\n",
       "      <td>5</td>\n",
       "      <td>0</td>\n",
       "      <td>0</td>\n",
       "      <td>0</td>\n",
       "      <td>0</td>\n",
       "      <td>...</td>\n",
       "      <td>0</td>\n",
       "      <td>0</td>\n",
       "      <td>0</td>\n",
       "      <td>0</td>\n",
       "      <td>0</td>\n",
       "      <td>0</td>\n",
       "      <td>0</td>\n",
       "      <td>0</td>\n",
       "      <td>0</td>\n",
       "      <td>0</td>\n",
       "    </tr>\n",
       "    <tr>\n",
       "      <th>1</th>\n",
       "      <td>1979283</td>\n",
       "      <td>1</td>\n",
       "      <td>27</td>\n",
       "      <td>Had problems posting again. Thanks to the peop...</td>\n",
       "      <td>(Had, problems, posting, again, ., Thanks, to,...</td>\n",
       "      <td>5</td>\n",
       "      <td>0</td>\n",
       "      <td>0</td>\n",
       "      <td>0</td>\n",
       "      <td>0</td>\n",
       "      <td>...</td>\n",
       "      <td>0</td>\n",
       "      <td>0</td>\n",
       "      <td>0</td>\n",
       "      <td>0</td>\n",
       "      <td>0</td>\n",
       "      <td>0</td>\n",
       "      <td>0</td>\n",
       "      <td>0</td>\n",
       "      <td>0</td>\n",
       "      <td>0</td>\n",
       "    </tr>\n",
       "    <tr>\n",
       "      <th>2</th>\n",
       "      <td>1979283</td>\n",
       "      <td>1</td>\n",
       "      <td>27</td>\n",
       "      <td>Finally got this to work..so here's my first w...</td>\n",
       "      <td>(Finally, got, this, to, work, .., so, here, '...</td>\n",
       "      <td>5</td>\n",
       "      <td>0</td>\n",
       "      <td>0</td>\n",
       "      <td>0</td>\n",
       "      <td>0</td>\n",
       "      <td>...</td>\n",
       "      <td>0</td>\n",
       "      <td>0</td>\n",
       "      <td>0</td>\n",
       "      <td>0</td>\n",
       "      <td>0</td>\n",
       "      <td>2</td>\n",
       "      <td>0</td>\n",
       "      <td>0</td>\n",
       "      <td>0</td>\n",
       "      <td>0</td>\n",
       "    </tr>\n",
       "    <tr>\n",
       "      <th>3</th>\n",
       "      <td>1979283</td>\n",
       "      <td>1</td>\n",
       "      <td>27</td>\n",
       "      <td>I've been spending many hours getting my ears ...</td>\n",
       "      <td>(I, 've, been, spending, many, hours, getting,...</td>\n",
       "      <td>5</td>\n",
       "      <td>0</td>\n",
       "      <td>1</td>\n",
       "      <td>0</td>\n",
       "      <td>0</td>\n",
       "      <td>...</td>\n",
       "      <td>0</td>\n",
       "      <td>0</td>\n",
       "      <td>0</td>\n",
       "      <td>2</td>\n",
       "      <td>0</td>\n",
       "      <td>0</td>\n",
       "      <td>0</td>\n",
       "      <td>0</td>\n",
       "      <td>1</td>\n",
       "      <td>0</td>\n",
       "    </tr>\n",
       "    <tr>\n",
       "      <th>4</th>\n",
       "      <td>1979283</td>\n",
       "      <td>1</td>\n",
       "      <td>27</td>\n",
       "      <td>Getting this SEO shit up is really getting on ...</td>\n",
       "      <td>(Getting, this, SEO, shit, up, is, really, get...</td>\n",
       "      <td>5</td>\n",
       "      <td>0</td>\n",
       "      <td>0</td>\n",
       "      <td>0</td>\n",
       "      <td>0</td>\n",
       "      <td>...</td>\n",
       "      <td>0</td>\n",
       "      <td>0</td>\n",
       "      <td>0</td>\n",
       "      <td>0</td>\n",
       "      <td>0</td>\n",
       "      <td>0</td>\n",
       "      <td>0</td>\n",
       "      <td>0</td>\n",
       "      <td>0</td>\n",
       "      <td>0</td>\n",
       "    </tr>\n",
       "  </tbody>\n",
       "</table>\n",
       "<p>5 rows × 197 columns</p>\n",
       "</div>"
      ],
      "text/plain": [
       "  author_id  gender age                                               post  \\\n",
       "0   1979283       1  27  funny how 10 minutes seem like forever...i nee...   \n",
       "1   1979283       1  27  Had problems posting again. Thanks to the peop...   \n",
       "2   1979283       1  27  Finally got this to work..so here's my first w...   \n",
       "3   1979283       1  27  I've been spending many hours getting my ears ...   \n",
       "4   1979283       1  27  Getting this SEO shit up is really getting on ...   \n",
       "\n",
       "                                              parsed  month  day  year  \\\n",
       "0  (funny, how, 10, minutes, seem, like, forever,...      5    0     0   \n",
       "1  (Had, problems, posting, again, ., Thanks, to,...      5    0     0   \n",
       "2  (Finally, got, this, to, work, .., so, here, '...      5    0     0   \n",
       "3  (I, 've, been, spending, many, hours, getting,...      5    0     1   \n",
       "4  (Getting, this, SEO, shit, up, is, really, get...      5    0     0   \n",
       "\n",
       "   industry_Accounting  industry_Architecture ...   maybe  school  ask  play  \\\n",
       "0                    0                      0 ...       0       0    0     0   \n",
       "1                    0                      0 ...       0       0    0     0   \n",
       "2                    0                      0 ...       0       0    0     0   \n",
       "3                    0                      0 ...       0       0    0     2   \n",
       "4                    0                      0 ...       0       0    0     0   \n",
       "\n",
       "   watch  keep  write  another  many  man  \n",
       "0      0     0      0        0     0    0  \n",
       "1      0     0      0        0     0    0  \n",
       "2      0     2      0        0     0    0  \n",
       "3      0     0      0        0     1    0  \n",
       "4      0     0      0        0     0    0  \n",
       "\n",
       "[5 rows x 197 columns]"
      ]
     },
     "execution_count": 39,
     "metadata": {},
     "output_type": "execute_result"
    }
   ],
   "source": [
    "df.head()"
   ]
  },
  {
   "cell_type": "markdown",
   "metadata": {},
   "source": [
    "# Part 2 - Test set\n",
    "\n",
    "Reserve 25% of the corpus as a test set.\n"
   ]
  },
  {
   "cell_type": "code",
   "execution_count": 40,
   "metadata": {},
   "outputs": [],
   "source": [
    "X = df.drop(['author_id','post','parsed'], 1)\n",
    "Y = df['author_id']\n",
    "\n",
    "X_train, X_test, y_train, y_test = train_test_split(X,Y, test_size=0.25, random_state=0)\n"
   ]
  },
  {
   "cell_type": "markdown",
   "metadata": {},
   "source": [
    "\n",
    "<hr width=\"50%\"/>\n",
    "\n",
    "# Part 3 - Clustering\n",
    "\n",
    "The clustering algorithms I'm going to use - K means and mean shift - require normalized data, which will be the next step. "
   ]
  },
  {
   "cell_type": "code",
   "execution_count": 41,
   "metadata": {},
   "outputs": [],
   "source": [
    "from sklearn.preprocessing import normalize"
   ]
  },
  {
   "cell_type": "code",
   "execution_count": 42,
   "metadata": {},
   "outputs": [],
   "source": [
    "X_train_norm = normalize(X_train)"
   ]
  },
  {
   "cell_type": "markdown",
   "metadata": {},
   "source": [
    "## Clustering - K Means\n"
   ]
  },
  {
   "cell_type": "code",
   "execution_count": 43,
   "metadata": {},
   "outputs": [],
   "source": [
    "from sklearn.cluster import KMeans\n",
    "from sklearn.decomposition import PCA\n",
    "from sklearn.cluster import MiniBatchKMeans"
   ]
  },
  {
   "cell_type": "markdown",
   "metadata": {},
   "source": [
    "I'll try k means with different values for n, number of clusters. First I'm trying this with 5 clusters."
   ]
  },
  {
   "cell_type": "code",
   "execution_count": 44,
   "metadata": {},
   "outputs": [
    {
     "data": {
      "image/png": "[encoded data removed]",
      "text/plain": [
       "<Figure size 432x288 with 1 Axes>"
      ]
     },
     "metadata": {},
     "output_type": "display_data"
    },
    {
     "name": "stdout",
     "output_type": "stream",
     "text": [
      "Time: 1.3337719440460205 seconds \n",
      "Comparing k-means clusters against the data:\n",
      "author_id  1090547  1110391  1135724  1197086  1363719  1486619  1496664  \\\n",
      "row_0                                                                      \n",
      "0                0        5        4        0        6        0        6   \n",
      "1                1       22       21        2       58       39       28   \n",
      "2                0        0        1        0        2        0        2   \n",
      "3                0       26       17        2       24        2       16   \n",
      "4                0        0        0        0        0        0        1   \n",
      "\n",
      "author_id  1533236  1594483  1627914  ...   4305123  4312837  4322781  \\\n",
      "row_0                                 ...                               \n",
      "0                3       23        4  ...         0        1        1   \n",
      "1               10       16       38  ...         1        0        0   \n",
      "2                0        3        0  ...         1        0        0   \n",
      "3                4       64       18  ...         2        0        0   \n",
      "4                0        0        0  ...         0        0        0   \n",
      "\n",
      "author_id  4323865  4325889  483266  574985  579034  851693  9289  \n",
      "row_0                                                              \n",
      "0                0        0       0       2      29       1    13  \n",
      "1                0       11       5      17      35       5    19  \n",
      "2                0        0       0       0       6       0     2  \n",
      "3                1        1       1       2      62      11    30  \n",
      "4                0        0       0       0       0       0     0  \n",
      "\n",
      "[5 rows x 233 columns]\n"
     ]
    }
   ],
   "source": [
    "start = time()\n",
    "# Calculate predicted values.\n",
    "y_pred = KMeans(n_clusters=5, random_state=42).fit_predict(X_train_norm)\n",
    "\n",
    "# Plot the solution.\n",
    "plt.scatter(X_train_norm[:, 0], X_train_norm[:, 1], c=y_pred)\n",
    "plt.show()\n",
    "\n",
    "print('Time: {} seconds '.format(time()-start))\n",
    "# Check the solution against the data.\n",
    "print('Comparing k-means clusters against the data:')\n",
    "print(pd.crosstab(y_pred, y_train))"
   ]
  },
  {
   "cell_type": "markdown",
   "metadata": {},
   "source": [
    "This looks pretty good, at most an author is spread across 3 clusters, with 1 or 2 being the average. Let's try another amount of clusters to see if performance can be improved. I tried 2 clusters already and it was less effective."
   ]
  },
  {
   "cell_type": "code",
   "execution_count": 45,
   "metadata": {},
   "outputs": [
    {
     "data": {
      "image/png": "[encoded data removed]",
      "text/plain": [
       "<Figure size 432x288 with 1 Axes>"
      ]
     },
     "metadata": {},
     "output_type": "display_data"
    },
    {
     "name": "stdout",
     "output_type": "stream",
     "text": [
      "Time: 1.2750308513641357 seconds \n",
      "Comparing k-means clusters against the data:\n",
      "author_id  1090547  1110391  1135724  1197086  1363719  1486619  1496664  \\\n",
      "row_0                                                                      \n",
      "0                0       14        8        0       17        0       12   \n",
      "1                1       39       35        4       73       41       39   \n",
      "2                0        0        0        0        0        0        2   \n",
      "\n",
      "author_id  1533236  1594483  1627914  ...   4305123  4312837  4322781  \\\n",
      "row_0                                 ...                               \n",
      "0                4       50       10  ...         2        1        1   \n",
      "1               13       53       50  ...         2        0        0   \n",
      "2                0        3        0  ...         0        0        0   \n",
      "\n",
      "author_id  4323865  4325889  483266  574985  579034  851693  9289  \n",
      "row_0                                                              \n",
      "0                1        0       0       2      44       4    26  \n",
      "1                0       12       6      19      84      13    37  \n",
      "2                0        0       0       0       4       0     1  \n",
      "\n",
      "[3 rows x 233 columns]\n"
     ]
    }
   ],
   "source": [
    "start = time()\n",
    "# Calculate predicted values.\n",
    "y_pred = KMeans(n_clusters=3, random_state=42).fit_predict(X_train_norm)\n",
    "\n",
    "#km = KMeans(n_clusters=num_clusters)\n",
    "\n",
    "# Plot the solution.\n",
    "plt.scatter(X_train_norm[:, 0], X_train_norm[:, 1], c=y_pred)\n",
    "plt.show()\n",
    "\n",
    "print('Time: {} seconds '.format(time()-start))\n",
    "# Check the solution against the data.\n",
    "print('Comparing k-means clusters against the data:')\n",
    "print(pd.crosstab(y_pred, y_train))\n",
    "\n",
    "# going to add the info back into the dataframe later\n",
    "kmeans_clusters = y_pred"
   ]
  },
  {
   "cell_type": "markdown",
   "metadata": {},
   "source": [
    "3 clusters seems pretty comparable to 5. Let's try one more value of n."
   ]
  },
  {
   "cell_type": "code",
   "execution_count": 46,
   "metadata": {
    "scrolled": true
   },
   "outputs": [
    {
     "data": {
      "image/png": "[encoded data removed]",
      "text/plain": [
       "<Figure size 432x288 with 1 Axes>"
      ]
     },
     "metadata": {},
     "output_type": "display_data"
    },
    {
     "name": "stdout",
     "output_type": "stream",
     "text": [
      "Time: 1.6678528785705566 seconds \n",
      "Comparing k-means clusters against the data:\n",
      "author_id  1090547  1110391  1135724  1197086  1363719  1486619  1496664  \\\n",
      "row_0                                                                      \n",
      "0                0       13        7        0       12        0        6   \n",
      "1                1       20        0        2        0        0        0   \n",
      "2                0        0        1        0        1        0        1   \n",
      "3                0        0        0        0        0        0        1   \n",
      "4                0       19       12        2       14        2       11   \n",
      "5                0        1        1        0        4        0        6   \n",
      "6                0        0        0        0        0        0        0   \n",
      "7                0        0       22        0       59       39       28   \n",
      "\n",
      "author_id  1533236  1594483  1627914  ...   4305123  4312837  4322781  \\\n",
      "row_0                                 ...                               \n",
      "0                2       37        7  ...         1        0        0   \n",
      "1               10        0        0  ...         1        0        0   \n",
      "2                0        3        0  ...         1        0        0   \n",
      "3                0        0        0  ...         0        0        0   \n",
      "4                3       27       10  ...         1        0        0   \n",
      "5                2       12        3  ...         0        1        1   \n",
      "6                0        0        0  ...         0        0        0   \n",
      "7                0       27       40  ...         0        0        0   \n",
      "\n",
      "author_id  4323865  4325889  483266  574985  579034  851693  9289  \n",
      "row_0                                                              \n",
      "0                1        0       0       2      20       2    15  \n",
      "1                0        9       0       0      32       3    15  \n",
      "2                0        0       0       0       4       0     2  \n",
      "3                0        0       0       0       0       0     0  \n",
      "4                0        3       2       2      55      12    25  \n",
      "5                0        0       0       0      21       0     7  \n",
      "6                0        0       0       0       0       0     0  \n",
      "7                0        0       4      17       0       0     0  \n",
      "\n",
      "[8 rows x 233 columns]\n"
     ]
    }
   ],
   "source": [
    "\n",
    "start = time()\n",
    "# Calculate predicted values.\n",
    "y_pred = KMeans(n_clusters=8, random_state=42).fit_predict(X_train_norm)\n",
    "\n",
    "# Plot the solution.\n",
    "plt.scatter(X_train_norm[:, 0], X_train_norm[:, 1], c=y_pred)\n",
    "plt.show()\n",
    "\n",
    "print('Time: {} seconds '.format(time()-start))\n",
    "# Check the solution against the data.\n",
    "print('Comparing k-means clusters against the data:')\n",
    "print(pd.crosstab(y_pred, y_train))"
   ]
  },
  {
   "cell_type": "markdown",
   "metadata": {},
   "source": [
    "8 clusters looks a little bit better because the authors for the most part are only spread across 1 or 2 clusters. Let's try mean shift and then move on with whichever is better -  kmeans with 8 clusters, or meanshift."
   ]
  },
  {
   "cell_type": "code",
   "execution_count": 47,
   "metadata": {},
   "outputs": [
    {
     "name": "stdout",
     "output_type": "stream",
     "text": [
      "Number of estimated clusters: 2\n"
     ]
    }
   ],
   "source": [
    "from sklearn.cluster import MeanShift, estimate_bandwidth\n",
    "\n",
    "# Here we set the bandwidth. This function automatically derives a bandwidth\n",
    "# number based on an inspection of the distances among points in the data.\n",
    "bandwidth = estimate_bandwidth(X_train_norm, quantile=0.2, n_samples=500)\n",
    "\n",
    "# Declare and fit the model.\n",
    "ms = MeanShift(bandwidth=bandwidth, bin_seeding=True)\n",
    "ms.fit(X_train_norm)\n",
    "\n",
    "# Extract cluster assignments for each data point.\n",
    "labels = ms.labels_\n",
    "\n",
    "# Coordinates of the cluster centers.\n",
    "cluster_centers = ms.cluster_centers_\n",
    "\n",
    "# Count our clusters.\n",
    "n_clusters_ = len(np.unique(labels))\n",
    "\n",
    "print(\"Number of estimated clusters: {}\".format(n_clusters_))\n"
   ]
  },
  {
   "cell_type": "code",
   "execution_count": 48,
   "metadata": {},
   "outputs": [
    {
     "data": {
      "image/png": "[encoded data removed]",
      "text/plain": [
       "<Figure size 432x288 with 1 Axes>"
      ]
     },
     "metadata": {},
     "output_type": "display_data"
    },
    {
     "name": "stdout",
     "output_type": "stream",
     "text": [
      "Comparing the assigned categories to the ones in the data:\n",
      "col_0        0  1\n",
      "author_id        \n",
      "1090547      1  0\n",
      "1110391     53  0\n",
      "1135724     43  0\n",
      "1197086      4  0\n",
      "1363719     90  0\n",
      "1486619     41  0\n",
      "1496664     53  0\n",
      "1533236     17  0\n",
      "1594483    106  0\n",
      "1627914     60  0\n",
      "1633534    176  0\n",
      "1695621     35  0\n",
      "1716133     22  0\n",
      "1725978     31  0\n",
      "1730043      6  0\n"
     ]
    }
   ],
   "source": [
    "plt.scatter(X_train_norm[:, 0], X_train_norm[:, 1], c=labels)\n",
    "plt.show()\n",
    "\n",
    "print('Comparing the assigned categories to the ones in the data:')\n",
    "print(pd.crosstab(y_train,labels).head(15))"
   ]
  },
  {
   "cell_type": "markdown",
   "metadata": {},
   "source": [
    "This is not really better than kmeans with 8 clusters, from a quick glance."
   ]
  },
  {
   "cell_type": "code",
   "execution_count": 49,
   "metadata": {},
   "outputs": [],
   "source": [
    "clusters = ms.labels_.tolist()"
   ]
  },
  {
   "cell_type": "code",
   "execution_count": 50,
   "metadata": {},
   "outputs": [
    {
     "name": "stdout",
     "output_type": "stream",
     "text": [
      "4590 {0, 1}\n"
     ]
    }
   ],
   "source": [
    "print(len(clusters), set(clusters))"
   ]
  },
  {
   "cell_type": "code",
   "execution_count": 51,
   "metadata": {},
   "outputs": [
    {
     "name": "stderr",
     "output_type": "stream",
     "text": [
      "/anaconda3/lib/python3.6/site-packages/ipykernel_launcher.py:3: SettingWithCopyWarning: \n",
      "A value is trying to be set on a copy of a slice from a DataFrame.\n",
      "Try using .loc[row_indexer,col_indexer] = value instead\n",
      "\n",
      "See the caveats in the documentation: http://pandas.pydata.org/pandas-docs/stable/indexing.html#indexing-view-versus-copy\n",
      "  This is separate from the ipykernel package so we can avoid doing imports until\n"
     ]
    }
   ],
   "source": [
    "# put the clusters genereated from the Mean shift algorithm into the dataframe so we\n",
    "# can analyze the clusters a little better\n",
    "X_train['cluster'] = clusters"
   ]
  },
  {
   "cell_type": "code",
   "execution_count": 52,
   "metadata": {},
   "outputs": [
    {
     "name": "stderr",
     "output_type": "stream",
     "text": [
      "/anaconda3/lib/python3.6/site-packages/ipykernel_launcher.py:2: SettingWithCopyWarning: \n",
      "A value is trying to be set on a copy of a slice from a DataFrame.\n",
      "Try using .loc[row_indexer,col_indexer] = value instead\n",
      "\n",
      "See the caveats in the documentation: http://pandas.pydata.org/pandas-docs/stable/indexing.html#indexing-view-versus-copy\n",
      "  \n"
     ]
    }
   ],
   "source": [
    "\n",
    "X_train['kmeans_cluster'] = kmeans_clusters"
   ]
  },
  {
   "cell_type": "code",
   "execution_count": 53,
   "metadata": {},
   "outputs": [
    {
     "data": {
      "text/html": [
       "<div>\n",
       "<style scoped>\n",
       "    .dataframe tbody tr th:only-of-type {\n",
       "        vertical-align: middle;\n",
       "    }\n",
       "\n",
       "    .dataframe tbody tr th {\n",
       "        vertical-align: top;\n",
       "    }\n",
       "\n",
       "    .dataframe thead th {\n",
       "        text-align: right;\n",
       "    }\n",
       "</style>\n",
       "<table border=\"1\" class=\"dataframe\">\n",
       "  <thead>\n",
       "    <tr style=\"text-align: right;\">\n",
       "      <th></th>\n",
       "      <th>gender</th>\n",
       "      <th>age</th>\n",
       "      <th>month</th>\n",
       "      <th>day</th>\n",
       "      <th>year</th>\n",
       "      <th>industry_Accounting</th>\n",
       "      <th>industry_Architecture</th>\n",
       "      <th>industry_Arts</th>\n",
       "      <th>industry_Automotive</th>\n",
       "      <th>industry_Banking</th>\n",
       "      <th>...</th>\n",
       "      <th>ask</th>\n",
       "      <th>play</th>\n",
       "      <th>watch</th>\n",
       "      <th>keep</th>\n",
       "      <th>write</th>\n",
       "      <th>another</th>\n",
       "      <th>many</th>\n",
       "      <th>man</th>\n",
       "      <th>cluster</th>\n",
       "      <th>kmeans_cluster</th>\n",
       "    </tr>\n",
       "  </thead>\n",
       "  <tbody>\n",
       "    <tr>\n",
       "      <th>3169</th>\n",
       "      <td>0</td>\n",
       "      <td>27</td>\n",
       "      <td>5</td>\n",
       "      <td>0</td>\n",
       "      <td>0</td>\n",
       "      <td>0</td>\n",
       "      <td>0</td>\n",
       "      <td>0</td>\n",
       "      <td>0</td>\n",
       "      <td>0</td>\n",
       "      <td>...</td>\n",
       "      <td>0</td>\n",
       "      <td>0</td>\n",
       "      <td>0</td>\n",
       "      <td>0</td>\n",
       "      <td>0</td>\n",
       "      <td>0</td>\n",
       "      <td>0</td>\n",
       "      <td>0</td>\n",
       "      <td>0</td>\n",
       "      <td>1</td>\n",
       "    </tr>\n",
       "    <tr>\n",
       "      <th>4958</th>\n",
       "      <td>1</td>\n",
       "      <td>39</td>\n",
       "      <td>7</td>\n",
       "      <td>0</td>\n",
       "      <td>0</td>\n",
       "      <td>0</td>\n",
       "      <td>0</td>\n",
       "      <td>1</td>\n",
       "      <td>0</td>\n",
       "      <td>0</td>\n",
       "      <td>...</td>\n",
       "      <td>0</td>\n",
       "      <td>0</td>\n",
       "      <td>0</td>\n",
       "      <td>0</td>\n",
       "      <td>0</td>\n",
       "      <td>0</td>\n",
       "      <td>0</td>\n",
       "      <td>0</td>\n",
       "      <td>0</td>\n",
       "      <td>1</td>\n",
       "    </tr>\n",
       "    <tr>\n",
       "      <th>552</th>\n",
       "      <td>1</td>\n",
       "      <td>24</td>\n",
       "      <td>7</td>\n",
       "      <td>0</td>\n",
       "      <td>0</td>\n",
       "      <td>0</td>\n",
       "      <td>0</td>\n",
       "      <td>0</td>\n",
       "      <td>0</td>\n",
       "      <td>0</td>\n",
       "      <td>...</td>\n",
       "      <td>0</td>\n",
       "      <td>0</td>\n",
       "      <td>0</td>\n",
       "      <td>0</td>\n",
       "      <td>0</td>\n",
       "      <td>0</td>\n",
       "      <td>0</td>\n",
       "      <td>0</td>\n",
       "      <td>0</td>\n",
       "      <td>1</td>\n",
       "    </tr>\n",
       "    <tr>\n",
       "      <th>1177</th>\n",
       "      <td>1</td>\n",
       "      <td>36</td>\n",
       "      <td>5</td>\n",
       "      <td>0</td>\n",
       "      <td>0</td>\n",
       "      <td>0</td>\n",
       "      <td>0</td>\n",
       "      <td>0</td>\n",
       "      <td>0</td>\n",
       "      <td>0</td>\n",
       "      <td>...</td>\n",
       "      <td>0</td>\n",
       "      <td>0</td>\n",
       "      <td>0</td>\n",
       "      <td>0</td>\n",
       "      <td>0</td>\n",
       "      <td>0</td>\n",
       "      <td>0</td>\n",
       "      <td>0</td>\n",
       "      <td>0</td>\n",
       "      <td>1</td>\n",
       "    </tr>\n",
       "    <tr>\n",
       "      <th>4085</th>\n",
       "      <td>0</td>\n",
       "      <td>38</td>\n",
       "      <td>10</td>\n",
       "      <td>0</td>\n",
       "      <td>0</td>\n",
       "      <td>0</td>\n",
       "      <td>0</td>\n",
       "      <td>0</td>\n",
       "      <td>0</td>\n",
       "      <td>0</td>\n",
       "      <td>...</td>\n",
       "      <td>0</td>\n",
       "      <td>0</td>\n",
       "      <td>0</td>\n",
       "      <td>0</td>\n",
       "      <td>0</td>\n",
       "      <td>0</td>\n",
       "      <td>0</td>\n",
       "      <td>0</td>\n",
       "      <td>0</td>\n",
       "      <td>1</td>\n",
       "    </tr>\n",
       "  </tbody>\n",
       "</table>\n",
       "<p>5 rows × 196 columns</p>\n",
       "</div>"
      ],
      "text/plain": [
       "      gender age  month  day  year  industry_Accounting  \\\n",
       "3169       0  27      5    0     0                    0   \n",
       "4958       1  39      7    0     0                    0   \n",
       "552        1  24      7    0     0                    0   \n",
       "1177       1  36      5    0     0                    0   \n",
       "4085       0  38     10    0     0                    0   \n",
       "\n",
       "      industry_Architecture  industry_Arts  industry_Automotive  \\\n",
       "3169                      0              0                    0   \n",
       "4958                      0              1                    0   \n",
       "552                       0              0                    0   \n",
       "1177                      0              0                    0   \n",
       "4085                      0              0                    0   \n",
       "\n",
       "      industry_Banking       ...        ask  play  watch  keep  write  \\\n",
       "3169                 0       ...          0     0      0     0      0   \n",
       "4958                 0       ...          0     0      0     0      0   \n",
       "552                  0       ...          0     0      0     0      0   \n",
       "1177                 0       ...          0     0      0     0      0   \n",
       "4085                 0       ...          0     0      0     0      0   \n",
       "\n",
       "      another  many  man  cluster  kmeans_cluster  \n",
       "3169        0     0    0        0               1  \n",
       "4958        0     0    0        0               1  \n",
       "552         0     0    0        0               1  \n",
       "1177        0     0    0        0               1  \n",
       "4085        0     0    0        0               1  \n",
       "\n",
       "[5 rows x 196 columns]"
      ]
     },
     "execution_count": 53,
     "metadata": {},
     "output_type": "execute_result"
    }
   ],
   "source": [
    "X_train.head()"
   ]
  },
  {
   "cell_type": "code",
   "execution_count": 54,
   "metadata": {},
   "outputs": [
    {
     "data": {
      "text/html": [
       "<div>\n",
       "<style scoped>\n",
       "    .dataframe tbody tr th:only-of-type {\n",
       "        vertical-align: middle;\n",
       "    }\n",
       "\n",
       "    .dataframe tbody tr th {\n",
       "        vertical-align: top;\n",
       "    }\n",
       "\n",
       "    .dataframe thead th {\n",
       "        text-align: right;\n",
       "    }\n",
       "</style>\n",
       "<table border=\"1\" class=\"dataframe\">\n",
       "  <thead>\n",
       "    <tr style=\"text-align: right;\">\n",
       "      <th></th>\n",
       "      <th>author_id</th>\n",
       "      <th>gender</th>\n",
       "      <th>age</th>\n",
       "      <th>post</th>\n",
       "      <th>parsed</th>\n",
       "      <th>month</th>\n",
       "      <th>day</th>\n",
       "      <th>year</th>\n",
       "      <th>industry_Accounting</th>\n",
       "      <th>industry_Architecture</th>\n",
       "      <th>...</th>\n",
       "      <th>maybe</th>\n",
       "      <th>school</th>\n",
       "      <th>ask</th>\n",
       "      <th>play</th>\n",
       "      <th>watch</th>\n",
       "      <th>keep</th>\n",
       "      <th>write</th>\n",
       "      <th>another</th>\n",
       "      <th>many</th>\n",
       "      <th>man</th>\n",
       "    </tr>\n",
       "  </thead>\n",
       "  <tbody>\n",
       "    <tr>\n",
       "      <th>0</th>\n",
       "      <td>1979283</td>\n",
       "      <td>1</td>\n",
       "      <td>27</td>\n",
       "      <td>funny how 10 minutes seem like forever...i nee...</td>\n",
       "      <td>(funny, how, 10, minutes, seem, like, forever,...</td>\n",
       "      <td>5</td>\n",
       "      <td>0</td>\n",
       "      <td>0</td>\n",
       "      <td>0</td>\n",
       "      <td>0</td>\n",
       "      <td>...</td>\n",
       "      <td>0</td>\n",
       "      <td>0</td>\n",
       "      <td>0</td>\n",
       "      <td>0</td>\n",
       "      <td>0</td>\n",
       "      <td>0</td>\n",
       "      <td>0</td>\n",
       "      <td>0</td>\n",
       "      <td>0</td>\n",
       "      <td>0</td>\n",
       "    </tr>\n",
       "    <tr>\n",
       "      <th>1</th>\n",
       "      <td>1979283</td>\n",
       "      <td>1</td>\n",
       "      <td>27</td>\n",
       "      <td>Had problems posting again. Thanks to the peop...</td>\n",
       "      <td>(Had, problems, posting, again, ., Thanks, to,...</td>\n",
       "      <td>5</td>\n",
       "      <td>0</td>\n",
       "      <td>0</td>\n",
       "      <td>0</td>\n",
       "      <td>0</td>\n",
       "      <td>...</td>\n",
       "      <td>0</td>\n",
       "      <td>0</td>\n",
       "      <td>0</td>\n",
       "      <td>0</td>\n",
       "      <td>0</td>\n",
       "      <td>0</td>\n",
       "      <td>0</td>\n",
       "      <td>0</td>\n",
       "      <td>0</td>\n",
       "      <td>0</td>\n",
       "    </tr>\n",
       "    <tr>\n",
       "      <th>2</th>\n",
       "      <td>1979283</td>\n",
       "      <td>1</td>\n",
       "      <td>27</td>\n",
       "      <td>Finally got this to work..so here's my first w...</td>\n",
       "      <td>(Finally, got, this, to, work, .., so, here, '...</td>\n",
       "      <td>5</td>\n",
       "      <td>0</td>\n",
       "      <td>0</td>\n",
       "      <td>0</td>\n",
       "      <td>0</td>\n",
       "      <td>...</td>\n",
       "      <td>0</td>\n",
       "      <td>0</td>\n",
       "      <td>0</td>\n",
       "      <td>0</td>\n",
       "      <td>0</td>\n",
       "      <td>2</td>\n",
       "      <td>0</td>\n",
       "      <td>0</td>\n",
       "      <td>0</td>\n",
       "      <td>0</td>\n",
       "    </tr>\n",
       "    <tr>\n",
       "      <th>3</th>\n",
       "      <td>1979283</td>\n",
       "      <td>1</td>\n",
       "      <td>27</td>\n",
       "      <td>I've been spending many hours getting my ears ...</td>\n",
       "      <td>(I, 've, been, spending, many, hours, getting,...</td>\n",
       "      <td>5</td>\n",
       "      <td>0</td>\n",
       "      <td>1</td>\n",
       "      <td>0</td>\n",
       "      <td>0</td>\n",
       "      <td>...</td>\n",
       "      <td>0</td>\n",
       "      <td>0</td>\n",
       "      <td>0</td>\n",
       "      <td>2</td>\n",
       "      <td>0</td>\n",
       "      <td>0</td>\n",
       "      <td>0</td>\n",
       "      <td>0</td>\n",
       "      <td>1</td>\n",
       "      <td>0</td>\n",
       "    </tr>\n",
       "    <tr>\n",
       "      <th>4</th>\n",
       "      <td>1979283</td>\n",
       "      <td>1</td>\n",
       "      <td>27</td>\n",
       "      <td>Getting this SEO shit up is really getting on ...</td>\n",
       "      <td>(Getting, this, SEO, shit, up, is, really, get...</td>\n",
       "      <td>5</td>\n",
       "      <td>0</td>\n",
       "      <td>0</td>\n",
       "      <td>0</td>\n",
       "      <td>0</td>\n",
       "      <td>...</td>\n",
       "      <td>0</td>\n",
       "      <td>0</td>\n",
       "      <td>0</td>\n",
       "      <td>0</td>\n",
       "      <td>0</td>\n",
       "      <td>0</td>\n",
       "      <td>0</td>\n",
       "      <td>0</td>\n",
       "      <td>0</td>\n",
       "      <td>0</td>\n",
       "    </tr>\n",
       "  </tbody>\n",
       "</table>\n",
       "<p>5 rows × 197 columns</p>\n",
       "</div>"
      ],
      "text/plain": [
       "  author_id  gender age                                               post  \\\n",
       "0   1979283       1  27  funny how 10 minutes seem like forever...i nee...   \n",
       "1   1979283       1  27  Had problems posting again. Thanks to the peop...   \n",
       "2   1979283       1  27  Finally got this to work..so here's my first w...   \n",
       "3   1979283       1  27  I've been spending many hours getting my ears ...   \n",
       "4   1979283       1  27  Getting this SEO shit up is really getting on ...   \n",
       "\n",
       "                                              parsed  month  day  year  \\\n",
       "0  (funny, how, 10, minutes, seem, like, forever,...      5    0     0   \n",
       "1  (Had, problems, posting, again, ., Thanks, to,...      5    0     0   \n",
       "2  (Finally, got, this, to, work, .., so, here, '...      5    0     0   \n",
       "3  (I, 've, been, spending, many, hours, getting,...      5    0     1   \n",
       "4  (Getting, this, SEO, shit, up, is, really, get...      5    0     0   \n",
       "\n",
       "   industry_Accounting  industry_Architecture ...   maybe  school  ask  play  \\\n",
       "0                    0                      0 ...       0       0    0     0   \n",
       "1                    0                      0 ...       0       0    0     0   \n",
       "2                    0                      0 ...       0       0    0     0   \n",
       "3                    0                      0 ...       0       0    0     2   \n",
       "4                    0                      0 ...       0       0    0     0   \n",
       "\n",
       "   watch  keep  write  another  many  man  \n",
       "0      0     0      0        0     0    0  \n",
       "1      0     0      0        0     0    0  \n",
       "2      0     2      0        0     0    0  \n",
       "3      0     0      0        0     1    0  \n",
       "4      0     0      0        0     0    0  \n",
       "\n",
       "[5 rows x 197 columns]"
      ]
     },
     "execution_count": 54,
     "metadata": {},
     "output_type": "execute_result"
    }
   ],
   "source": [
    "df.head()"
   ]
  },
  {
   "cell_type": "markdown",
   "metadata": {},
   "source": [
    "# Part 4 - Features and models\n",
    "\n",
    "I'm going to generate some more features using unsupervised techniques and then try to use some models."
   ]
  },
  {
   "cell_type": "code",
   "execution_count": 55,
   "metadata": {},
   "outputs": [
    {
     "data": {
      "text/html": [
       "<div>\n",
       "<style scoped>\n",
       "    .dataframe tbody tr th:only-of-type {\n",
       "        vertical-align: middle;\n",
       "    }\n",
       "\n",
       "    .dataframe tbody tr th {\n",
       "        vertical-align: top;\n",
       "    }\n",
       "\n",
       "    .dataframe thead th {\n",
       "        text-align: right;\n",
       "    }\n",
       "</style>\n",
       "<table border=\"1\" class=\"dataframe\">\n",
       "  <thead>\n",
       "    <tr style=\"text-align: right;\">\n",
       "      <th></th>\n",
       "      <th>gender</th>\n",
       "      <th>age</th>\n",
       "      <th>month</th>\n",
       "      <th>day</th>\n",
       "      <th>year</th>\n",
       "      <th>industry_Accounting</th>\n",
       "      <th>industry_Architecture</th>\n",
       "      <th>industry_Arts</th>\n",
       "      <th>industry_Automotive</th>\n",
       "      <th>industry_Banking</th>\n",
       "      <th>...</th>\n",
       "      <th>ask</th>\n",
       "      <th>play</th>\n",
       "      <th>watch</th>\n",
       "      <th>keep</th>\n",
       "      <th>write</th>\n",
       "      <th>another</th>\n",
       "      <th>many</th>\n",
       "      <th>man</th>\n",
       "      <th>cluster</th>\n",
       "      <th>kmeans_cluster</th>\n",
       "    </tr>\n",
       "  </thead>\n",
       "  <tbody>\n",
       "    <tr>\n",
       "      <th>3169</th>\n",
       "      <td>0</td>\n",
       "      <td>27</td>\n",
       "      <td>5</td>\n",
       "      <td>0</td>\n",
       "      <td>0</td>\n",
       "      <td>0</td>\n",
       "      <td>0</td>\n",
       "      <td>0</td>\n",
       "      <td>0</td>\n",
       "      <td>0</td>\n",
       "      <td>...</td>\n",
       "      <td>0</td>\n",
       "      <td>0</td>\n",
       "      <td>0</td>\n",
       "      <td>0</td>\n",
       "      <td>0</td>\n",
       "      <td>0</td>\n",
       "      <td>0</td>\n",
       "      <td>0</td>\n",
       "      <td>0</td>\n",
       "      <td>1</td>\n",
       "    </tr>\n",
       "    <tr>\n",
       "      <th>4958</th>\n",
       "      <td>1</td>\n",
       "      <td>39</td>\n",
       "      <td>7</td>\n",
       "      <td>0</td>\n",
       "      <td>0</td>\n",
       "      <td>0</td>\n",
       "      <td>0</td>\n",
       "      <td>1</td>\n",
       "      <td>0</td>\n",
       "      <td>0</td>\n",
       "      <td>...</td>\n",
       "      <td>0</td>\n",
       "      <td>0</td>\n",
       "      <td>0</td>\n",
       "      <td>0</td>\n",
       "      <td>0</td>\n",
       "      <td>0</td>\n",
       "      <td>0</td>\n",
       "      <td>0</td>\n",
       "      <td>0</td>\n",
       "      <td>1</td>\n",
       "    </tr>\n",
       "    <tr>\n",
       "      <th>552</th>\n",
       "      <td>1</td>\n",
       "      <td>24</td>\n",
       "      <td>7</td>\n",
       "      <td>0</td>\n",
       "      <td>0</td>\n",
       "      <td>0</td>\n",
       "      <td>0</td>\n",
       "      <td>0</td>\n",
       "      <td>0</td>\n",
       "      <td>0</td>\n",
       "      <td>...</td>\n",
       "      <td>0</td>\n",
       "      <td>0</td>\n",
       "      <td>0</td>\n",
       "      <td>0</td>\n",
       "      <td>0</td>\n",
       "      <td>0</td>\n",
       "      <td>0</td>\n",
       "      <td>0</td>\n",
       "      <td>0</td>\n",
       "      <td>1</td>\n",
       "    </tr>\n",
       "  </tbody>\n",
       "</table>\n",
       "<p>3 rows × 196 columns</p>\n",
       "</div>"
      ],
      "text/plain": [
       "      gender age  month  day  year  industry_Accounting  \\\n",
       "3169       0  27      5    0     0                    0   \n",
       "4958       1  39      7    0     0                    0   \n",
       "552        1  24      7    0     0                    0   \n",
       "\n",
       "      industry_Architecture  industry_Arts  industry_Automotive  \\\n",
       "3169                      0              0                    0   \n",
       "4958                      0              1                    0   \n",
       "552                       0              0                    0   \n",
       "\n",
       "      industry_Banking       ...        ask  play  watch  keep  write  \\\n",
       "3169                 0       ...          0     0      0     0      0   \n",
       "4958                 0       ...          0     0      0     0      0   \n",
       "552                  0       ...          0     0      0     0      0   \n",
       "\n",
       "      another  many  man  cluster  kmeans_cluster  \n",
       "3169        0     0    0        0               1  \n",
       "4958        0     0    0        0               1  \n",
       "552         0     0    0        0               1  \n",
       "\n",
       "[3 rows x 196 columns]"
      ]
     },
     "execution_count": 55,
     "metadata": {},
     "output_type": "execute_result"
    }
   ],
   "source": [
    "# ok so recap, X_train is the X_train withOUT normalization \n",
    "\n",
    "X_train.head(3)"
   ]
  },
  {
   "cell_type": "markdown",
   "metadata": {},
   "source": [
    "###  tf-idf  (vectors for each post)\n",
    "\n",
    "We already got a single span vector with the supervised learning technique, but I'll also try it using an unsupervised learning technique."
   ]
  },
  {
   "cell_type": "code",
   "execution_count": 56,
   "metadata": {},
   "outputs": [
    {
     "name": "stdout",
     "output_type": "stream",
     "text": [
      "Number of features: 10483\n"
     ]
    }
   ],
   "source": [
    "from sklearn.feature_extraction.text import TfidfVectorizer\n",
    "\n",
    "\n",
    "vectorizer = TfidfVectorizer(max_df=0.75, # drop words that occur in more than 75 percent of the paragraphs\n",
    "                             min_df=5, # only use words that appear at least n times\n",
    "                             stop_words='english', \n",
    "                             lowercase=True, #convert everything to lower case \n",
    "                             use_idf=True,#we definitely want to use inverse document frequencies in our weighting\n",
    "                             norm=u'l2', #Applies a correction factor so that longer paragraphs and shorter paragraphs get treated equally\n",
    "                             smooth_idf=True #Adds 1 to all document frequencies, as if an extra document existed that used every word once.  Prevents divide-by-zero errors\n",
    "                            )\n",
    "\n",
    "\n",
    "#Applying the vectorizer\n",
    "lines_tfidf=vectorizer.fit_transform(df['post'])\n",
    "print(\"Number of features: %d\" % lines_tfidf.get_shape()[1])\n",
    "\n",
    "# inititally tried model with parameters: max_df 0.75, min_df 10, # of features was 187"
   ]
  },
  {
   "cell_type": "code",
   "execution_count": 57,
   "metadata": {},
   "outputs": [
    {
     "name": "stdout",
     "output_type": "stream",
     "text": [
      "(6121, 10483)\n"
     ]
    }
   ],
   "source": [
    "print(lines_tfidf.shape)"
   ]
  },
  {
   "cell_type": "code",
   "execution_count": 58,
   "metadata": {},
   "outputs": [],
   "source": [
    "terms = vectorizer.get_feature_names()"
   ]
  },
  {
   "cell_type": "code",
   "execution_count": 59,
   "metadata": {},
   "outputs": [],
   "source": [
    "lines_csr = lines_tfidf.tocsr()"
   ]
  },
  {
   "cell_type": "code",
   "execution_count": 60,
   "metadata": {},
   "outputs": [],
   "source": [
    "#number of paragraphs\n",
    "n = lines_csr.shape[0]\n",
    "#A list of dictionaries, one per paragraph\n",
    "tfidf_bypara = [{} for _ in range(0,n)]\n",
    "#List of features\n",
    "terms = vectorizer.get_feature_names()\n",
    "#for each paragraph, lists the feature words and their tf-idf scores\n",
    "for i, j in zip(*lines_csr.nonzero()):\n",
    "    tfidf_bypara[i][terms[j]] = lines_csr[i, j]"
   ]
  },
  {
   "cell_type": "code",
   "execution_count": 61,
   "metadata": {},
   "outputs": [
    {
     "name": "stdout",
     "output_type": "stream",
     "text": [
      "Original sentence: funny how 10 minutes seem like forever...i need a smoke\n",
      "Tf_idf vector: {'funny': 0.37022251551419283, '10': 0.35105417091159236, 'minutes': 0.3806776313670958, 'like': 0.1856462388704743, 'forever': 0.42134248506548483, 'need': 0.28225658625971833, 'smoke': 0.550561534121077}\n",
      "Original sentence: Had problems posting again. Thanks to the people at SureSupport.com for helping me out! :) Took them less than 15 minutes to fix everything..great service! now if only I can say the same for Wendy's...\n",
      "Tf_idf vector: {'minutes': 0.2383494462427692, 'problems': 0.2680033051599549, 'posting': 0.30978781110135073, 'thanks': 0.24851031518479527, 'people': 0.1470519119573764, 'com': 0.22824153971073147, 'helping': 0.3370220891773829, 'took': 0.21764426576671733, '15': 0.2655205725866367, 'fix': 0.32227368539875384, 'great': 0.1808881436310727, 'service': 0.28233042074489845, 'say': 0.1602784908222763, 'wendy': 0.4080255391426403}\n",
      "Original sentence: Finally got this to work..so here's my first weblog. Pop the cork and blow the horn! Who am I? Name's Marc Hil Javier Macalua of the Orion, Bataan Javiers and the Guihulngan, Negros Oriental Macaluas. If you have time, go read my urlLink resume . Here are recent pictures of me: urlLink pic1 , urlLink pic2 , urlLink pic3 , urlLink pic4 and urlLink pic5 . Yup that's me with the urlLink AEG . Two reasons for putting up this weblog: 1.) I want to document my life. and 2.) I'm fascinated with my genealogy. I think keeping an online journal is a step in that direction. I guess that's it for now. Future weblogs won't be as structured as this. Promise! P.S. I intend to keep the macalua.com domain for life so if you think we're related, send me an urlLink email and I'll gladly give you a \"@macalua.com\" email address. For real!\n",
      "Tf_idf vector: {'com': 0.1885028660434678, 'finally': 0.09050825148307248, 'got': 0.060055153917659344, 'work': 0.06717605934403374, 'weblog': 0.363618725328729, 'pop': 0.11987470214932432, 'cork': 0.1886551620668861, 'blow': 0.1391719268333231, 'horn': 0.1625121379803657, 'marc': 0.1790065497248867, 'time': 0.05231226138893953, 'read': 0.08153183744537483, 'urllink': 0.4130120938824147, 'resume': 0.1721607503223651, 'recent': 0.12701611288160017, 'pictures': 0.10719586920930937, 'yup': 0.14957604409121963, 'reasons': 0.11943805859534484, 'putting': 0.11736750053960077, 'want': 0.06309550711366753, 'document': 0.16000493637064214, 'life': 0.1360170576105187, 'fascinated': 0.1721607503223651, 'think': 0.11068973599641943, 'keeping': 0.12731544269030975, 'online': 0.10117241860378937, 'journal': 0.13232612743080155, 'step': 0.11900928292241776, 'direction': 0.13088347931487276, 'guess': 0.08135654084400072, 'future': 0.10630736684350268, 'won': 0.08956507362812081, 'promise': 0.12421329994212235, 'intend': 0.16122553243030976, 'domain': 0.15199810641145975, 'related': 0.13195718351288574, 'send': 0.11352989822031008, 'email': 0.23279216756639481, 'll': 0.06366993101246131, 'gladly': 0.17649934811516316, 'address': 0.1295233144913237, 'real': 0.09135704730306744}\n"
     ]
    }
   ],
   "source": [
    "#Keep in mind that the log base 2 of 1 is 0, so a tf-idf score of 0 indicates that the word was\n",
    "# present once in that sentence.\n",
    "for i in range(3):\n",
    "    print('Original sentence:', df.loc[i,'post'])\n",
    "    print('Tf_idf vector:', tfidf_bypara[i])"
   ]
  },
  {
   "cell_type": "code",
   "execution_count": 62,
   "metadata": {},
   "outputs": [
    {
     "name": "stdout",
     "output_type": "stream",
     "text": [
      "Percent variance captured by all components: 70.3690822726446\n"
     ]
    }
   ],
   "source": [
    " # dimension reduction\n",
    "    \n",
    "from sklearn.decomposition import TruncatedSVD\n",
    "from sklearn.pipeline import make_pipeline\n",
    "from sklearn.preprocessing import Normalizer\n",
    "\n",
    "#Our SVD data reducer.  We are going to reduce the feature space from 4931 to the number below.\n",
    "svd= TruncatedSVD(1500)\n",
    "lsa = make_pipeline(svd, Normalizer(copy=False))\n",
    "# Run SVD on the training data, then project the training data.\n",
    "lines_lsa = lsa.fit_transform(lines_tfidf)\n",
    "\n",
    "variance_explained=svd.explained_variance_ratio_\n",
    "total_variance = variance_explained.sum()\n",
    "print(\"Percent variance captured by all components:\",total_variance*100)\n",
    "\n",
    "#Looking at what sorts of paragraphs our solution considers similar, for the first five identified topics\n",
    "paras_by_component=pd.DataFrame(lines_lsa, #index=df['post']\n",
    "                               )\n",
    "#for i in range(5):\n",
    "#    print('Component {}:'.format(i))\n",
    "#    print(paras_by_component.loc[:50,i].sort_values(ascending=False)[0:5])   "
   ]
  },
  {
   "cell_type": "code",
   "execution_count": 63,
   "metadata": {},
   "outputs": [
    {
     "data": {
      "text/html": [
       "<div>\n",
       "<style scoped>\n",
       "    .dataframe tbody tr th:only-of-type {\n",
       "        vertical-align: middle;\n",
       "    }\n",
       "\n",
       "    .dataframe tbody tr th {\n",
       "        vertical-align: top;\n",
       "    }\n",
       "\n",
       "    .dataframe thead th {\n",
       "        text-align: right;\n",
       "    }\n",
       "</style>\n",
       "<table border=\"1\" class=\"dataframe\">\n",
       "  <thead>\n",
       "    <tr style=\"text-align: right;\">\n",
       "      <th></th>\n",
       "      <th>0</th>\n",
       "      <th>1</th>\n",
       "      <th>2</th>\n",
       "      <th>3</th>\n",
       "      <th>4</th>\n",
       "      <th>5</th>\n",
       "      <th>6</th>\n",
       "      <th>7</th>\n",
       "      <th>8</th>\n",
       "      <th>9</th>\n",
       "      <th>...</th>\n",
       "      <th>1490</th>\n",
       "      <th>1491</th>\n",
       "      <th>1492</th>\n",
       "      <th>1493</th>\n",
       "      <th>1494</th>\n",
       "      <th>1495</th>\n",
       "      <th>1496</th>\n",
       "      <th>1497</th>\n",
       "      <th>1498</th>\n",
       "      <th>1499</th>\n",
       "    </tr>\n",
       "  </thead>\n",
       "  <tbody>\n",
       "    <tr>\n",
       "      <th>0</th>\n",
       "      <td>0.113841</td>\n",
       "      <td>-0.030653</td>\n",
       "      <td>0.030772</td>\n",
       "      <td>0.012901</td>\n",
       "      <td>0.050410</td>\n",
       "      <td>0.007435</td>\n",
       "      <td>-0.113117</td>\n",
       "      <td>-0.002766</td>\n",
       "      <td>-0.082931</td>\n",
       "      <td>-0.084666</td>\n",
       "      <td>...</td>\n",
       "      <td>0.001705</td>\n",
       "      <td>0.019690</td>\n",
       "      <td>-0.000256</td>\n",
       "      <td>0.017158</td>\n",
       "      <td>0.008675</td>\n",
       "      <td>-0.000708</td>\n",
       "      <td>0.017829</td>\n",
       "      <td>-0.000997</td>\n",
       "      <td>0.017852</td>\n",
       "      <td>-0.003114</td>\n",
       "    </tr>\n",
       "    <tr>\n",
       "      <th>1</th>\n",
       "      <td>0.098053</td>\n",
       "      <td>-0.008943</td>\n",
       "      <td>-0.031406</td>\n",
       "      <td>-0.041144</td>\n",
       "      <td>-0.068103</td>\n",
       "      <td>0.086724</td>\n",
       "      <td>-0.015345</td>\n",
       "      <td>0.028923</td>\n",
       "      <td>-0.030920</td>\n",
       "      <td>0.048063</td>\n",
       "      <td>...</td>\n",
       "      <td>0.014084</td>\n",
       "      <td>-0.009463</td>\n",
       "      <td>0.007573</td>\n",
       "      <td>-0.023566</td>\n",
       "      <td>-0.014540</td>\n",
       "      <td>0.013620</td>\n",
       "      <td>-0.002886</td>\n",
       "      <td>0.004679</td>\n",
       "      <td>-0.006380</td>\n",
       "      <td>-0.020296</td>\n",
       "    </tr>\n",
       "    <tr>\n",
       "      <th>2</th>\n",
       "      <td>0.266311</td>\n",
       "      <td>0.463207</td>\n",
       "      <td>0.028190</td>\n",
       "      <td>-0.033590</td>\n",
       "      <td>-0.024556</td>\n",
       "      <td>0.052511</td>\n",
       "      <td>0.044608</td>\n",
       "      <td>0.045930</td>\n",
       "      <td>0.062644</td>\n",
       "      <td>0.039871</td>\n",
       "      <td>...</td>\n",
       "      <td>-0.007548</td>\n",
       "      <td>-0.012133</td>\n",
       "      <td>-0.007950</td>\n",
       "      <td>-0.012839</td>\n",
       "      <td>0.006505</td>\n",
       "      <td>0.024193</td>\n",
       "      <td>-0.041098</td>\n",
       "      <td>0.042418</td>\n",
       "      <td>-0.006544</td>\n",
       "      <td>0.007596</td>\n",
       "    </tr>\n",
       "  </tbody>\n",
       "</table>\n",
       "<p>3 rows × 1500 columns</p>\n",
       "</div>"
      ],
      "text/plain": [
       "       0         1         2         3         4         5         6     \\\n",
       "0  0.113841 -0.030653  0.030772  0.012901  0.050410  0.007435 -0.113117   \n",
       "1  0.098053 -0.008943 -0.031406 -0.041144 -0.068103  0.086724 -0.015345   \n",
       "2  0.266311  0.463207  0.028190 -0.033590 -0.024556  0.052511  0.044608   \n",
       "\n",
       "       7         8         9       ...         1490      1491      1492  \\\n",
       "0 -0.002766 -0.082931 -0.084666    ...     0.001705  0.019690 -0.000256   \n",
       "1  0.028923 -0.030920  0.048063    ...     0.014084 -0.009463  0.007573   \n",
       "2  0.045930  0.062644  0.039871    ...    -0.007548 -0.012133 -0.007950   \n",
       "\n",
       "       1493      1494      1495      1496      1497      1498      1499  \n",
       "0  0.017158  0.008675 -0.000708  0.017829 -0.000997  0.017852 -0.003114  \n",
       "1 -0.023566 -0.014540  0.013620 -0.002886  0.004679 -0.006380 -0.020296  \n",
       "2 -0.012839  0.006505  0.024193 -0.041098  0.042418 -0.006544  0.007596  \n",
       "\n",
       "[3 rows x 1500 columns]"
      ]
     },
     "execution_count": 63,
     "metadata": {},
     "output_type": "execute_result"
    }
   ],
   "source": [
    "paras_by_component.head(3)"
   ]
  },
  {
   "cell_type": "code",
   "execution_count": 64,
   "metadata": {},
   "outputs": [
    {
     "data": {
      "text/html": [
       "<div>\n",
       "<style scoped>\n",
       "    .dataframe tbody tr th:only-of-type {\n",
       "        vertical-align: middle;\n",
       "    }\n",
       "\n",
       "    .dataframe tbody tr th {\n",
       "        vertical-align: top;\n",
       "    }\n",
       "\n",
       "    .dataframe thead th {\n",
       "        text-align: right;\n",
       "    }\n",
       "</style>\n",
       "<table border=\"1\" class=\"dataframe\">\n",
       "  <thead>\n",
       "    <tr style=\"text-align: right;\">\n",
       "      <th></th>\n",
       "      <th>author_id</th>\n",
       "      <th>gender</th>\n",
       "      <th>age</th>\n",
       "      <th>post</th>\n",
       "      <th>parsed</th>\n",
       "      <th>month</th>\n",
       "      <th>day</th>\n",
       "      <th>year</th>\n",
       "      <th>industry_Accounting</th>\n",
       "      <th>industry_Architecture</th>\n",
       "      <th>...</th>\n",
       "      <th>1490</th>\n",
       "      <th>1491</th>\n",
       "      <th>1492</th>\n",
       "      <th>1493</th>\n",
       "      <th>1494</th>\n",
       "      <th>1495</th>\n",
       "      <th>1496</th>\n",
       "      <th>1497</th>\n",
       "      <th>1498</th>\n",
       "      <th>1499</th>\n",
       "    </tr>\n",
       "  </thead>\n",
       "  <tbody>\n",
       "    <tr>\n",
       "      <th>0</th>\n",
       "      <td>1979283</td>\n",
       "      <td>1</td>\n",
       "      <td>27</td>\n",
       "      <td>funny how 10 minutes seem like forever...i nee...</td>\n",
       "      <td>(funny, how, 10, minutes, seem, like, forever,...</td>\n",
       "      <td>5</td>\n",
       "      <td>0</td>\n",
       "      <td>0</td>\n",
       "      <td>0</td>\n",
       "      <td>0</td>\n",
       "      <td>...</td>\n",
       "      <td>0.001705</td>\n",
       "      <td>0.019690</td>\n",
       "      <td>-0.000256</td>\n",
       "      <td>0.017158</td>\n",
       "      <td>0.008675</td>\n",
       "      <td>-0.000708</td>\n",
       "      <td>0.017829</td>\n",
       "      <td>-0.000997</td>\n",
       "      <td>0.017852</td>\n",
       "      <td>-0.003114</td>\n",
       "    </tr>\n",
       "    <tr>\n",
       "      <th>1</th>\n",
       "      <td>1979283</td>\n",
       "      <td>1</td>\n",
       "      <td>27</td>\n",
       "      <td>Had problems posting again. Thanks to the peop...</td>\n",
       "      <td>(Had, problems, posting, again, ., Thanks, to,...</td>\n",
       "      <td>5</td>\n",
       "      <td>0</td>\n",
       "      <td>0</td>\n",
       "      <td>0</td>\n",
       "      <td>0</td>\n",
       "      <td>...</td>\n",
       "      <td>0.014084</td>\n",
       "      <td>-0.009463</td>\n",
       "      <td>0.007573</td>\n",
       "      <td>-0.023566</td>\n",
       "      <td>-0.014540</td>\n",
       "      <td>0.013620</td>\n",
       "      <td>-0.002886</td>\n",
       "      <td>0.004679</td>\n",
       "      <td>-0.006380</td>\n",
       "      <td>-0.020296</td>\n",
       "    </tr>\n",
       "    <tr>\n",
       "      <th>2</th>\n",
       "      <td>1979283</td>\n",
       "      <td>1</td>\n",
       "      <td>27</td>\n",
       "      <td>Finally got this to work..so here's my first w...</td>\n",
       "      <td>(Finally, got, this, to, work, .., so, here, '...</td>\n",
       "      <td>5</td>\n",
       "      <td>0</td>\n",
       "      <td>0</td>\n",
       "      <td>0</td>\n",
       "      <td>0</td>\n",
       "      <td>...</td>\n",
       "      <td>-0.007548</td>\n",
       "      <td>-0.012133</td>\n",
       "      <td>-0.007950</td>\n",
       "      <td>-0.012839</td>\n",
       "      <td>0.006505</td>\n",
       "      <td>0.024193</td>\n",
       "      <td>-0.041098</td>\n",
       "      <td>0.042418</td>\n",
       "      <td>-0.006544</td>\n",
       "      <td>0.007596</td>\n",
       "    </tr>\n",
       "    <tr>\n",
       "      <th>3</th>\n",
       "      <td>1979283</td>\n",
       "      <td>1</td>\n",
       "      <td>27</td>\n",
       "      <td>I've been spending many hours getting my ears ...</td>\n",
       "      <td>(I, 've, been, spending, many, hours, getting,...</td>\n",
       "      <td>5</td>\n",
       "      <td>0</td>\n",
       "      <td>1</td>\n",
       "      <td>0</td>\n",
       "      <td>0</td>\n",
       "      <td>...</td>\n",
       "      <td>0.010836</td>\n",
       "      <td>-0.004084</td>\n",
       "      <td>-0.010130</td>\n",
       "      <td>-0.032193</td>\n",
       "      <td>0.039374</td>\n",
       "      <td>0.002706</td>\n",
       "      <td>-0.005936</td>\n",
       "      <td>0.018225</td>\n",
       "      <td>-0.022244</td>\n",
       "      <td>0.008211</td>\n",
       "    </tr>\n",
       "    <tr>\n",
       "      <th>4</th>\n",
       "      <td>1979283</td>\n",
       "      <td>1</td>\n",
       "      <td>27</td>\n",
       "      <td>Getting this SEO shit up is really getting on ...</td>\n",
       "      <td>(Getting, this, SEO, shit, up, is, really, get...</td>\n",
       "      <td>5</td>\n",
       "      <td>0</td>\n",
       "      <td>0</td>\n",
       "      <td>0</td>\n",
       "      <td>0</td>\n",
       "      <td>...</td>\n",
       "      <td>0.023395</td>\n",
       "      <td>-0.017363</td>\n",
       "      <td>0.001127</td>\n",
       "      <td>0.014610</td>\n",
       "      <td>0.008180</td>\n",
       "      <td>0.011364</td>\n",
       "      <td>0.000187</td>\n",
       "      <td>-0.011568</td>\n",
       "      <td>0.019174</td>\n",
       "      <td>-0.007567</td>\n",
       "    </tr>\n",
       "  </tbody>\n",
       "</table>\n",
       "<p>5 rows × 1697 columns</p>\n",
       "</div>"
      ],
      "text/plain": [
       "  author_id  gender age                                               post  \\\n",
       "0   1979283       1  27  funny how 10 minutes seem like forever...i nee...   \n",
       "1   1979283       1  27  Had problems posting again. Thanks to the peop...   \n",
       "2   1979283       1  27  Finally got this to work..so here's my first w...   \n",
       "3   1979283       1  27  I've been spending many hours getting my ears ...   \n",
       "4   1979283       1  27  Getting this SEO shit up is really getting on ...   \n",
       "\n",
       "                                              parsed  month  day  year  \\\n",
       "0  (funny, how, 10, minutes, seem, like, forever,...      5    0     0   \n",
       "1  (Had, problems, posting, again, ., Thanks, to,...      5    0     0   \n",
       "2  (Finally, got, this, to, work, .., so, here, '...      5    0     0   \n",
       "3  (I, 've, been, spending, many, hours, getting,...      5    0     1   \n",
       "4  (Getting, this, SEO, shit, up, is, really, get...      5    0     0   \n",
       "\n",
       "   industry_Accounting  industry_Architecture    ...         1490      1491  \\\n",
       "0                    0                      0    ...     0.001705  0.019690   \n",
       "1                    0                      0    ...     0.014084 -0.009463   \n",
       "2                    0                      0    ...    -0.007548 -0.012133   \n",
       "3                    0                      0    ...     0.010836 -0.004084   \n",
       "4                    0                      0    ...     0.023395 -0.017363   \n",
       "\n",
       "       1492      1493      1494      1495      1496      1497      1498  \\\n",
       "0 -0.000256  0.017158  0.008675 -0.000708  0.017829 -0.000997  0.017852   \n",
       "1  0.007573 -0.023566 -0.014540  0.013620 -0.002886  0.004679 -0.006380   \n",
       "2 -0.007950 -0.012839  0.006505  0.024193 -0.041098  0.042418 -0.006544   \n",
       "3 -0.010130 -0.032193  0.039374  0.002706 -0.005936  0.018225 -0.022244   \n",
       "4  0.001127  0.014610  0.008180  0.011364  0.000187 -0.011568  0.019174   \n",
       "\n",
       "       1499  \n",
       "0 -0.003114  \n",
       "1 -0.020296  \n",
       "2  0.007596  \n",
       "3  0.008211  \n",
       "4 -0.007567  \n",
       "\n",
       "[5 rows x 1697 columns]"
      ]
     },
     "execution_count": 64,
     "metadata": {},
     "output_type": "execute_result"
    }
   ],
   "source": [
    "# add the components back into the dataframe as features\n",
    "\n",
    "df = df.reset_index(drop=True)\n",
    "paras_by_component = paras_by_component.reset_index(drop=True)\n",
    "\n",
    "df = df.join(paras_by_component)\n",
    "\n",
    "df.head()"
   ]
  },
  {
   "cell_type": "markdown",
   "metadata": {},
   "source": [
    "Document similarity"
   ]
  },
  {
   "cell_type": "code",
   "execution_count": 65,
   "metadata": {},
   "outputs": [
    {
     "data": {
      "image/png": "[encoded data removed]",
      "text/plain": [
       "<Figure size 432x288 with 2 Axes>"
      ]
     },
     "metadata": {},
     "output_type": "display_data"
    },
    {
     "name": "stdout",
     "output_type": "stream",
     "text": [
      "Key:\n",
      "0 funny how 10 minutes seem like forever...i need a smoke\n",
      "1 Had problems posting again. Thanks to the people at SureSupport.com for helping me out! :)\n",
      "2 Finally got this to work..so here's my first weblog. Pop the cork and blow the horn! Who a\n",
      "3 I've been spending many hours getting my ears (and hands) wet playing urlLink EA Sports NB\n",
      "4 Getting this SEO shit up is really getting on my nerves...\n",
      "5 Not bad for my first airsoft game in over 3 months! I was panting and wheezing the first f\n",
      "6 Somehow losing to a school other than DLSU doesn't hurt as much. Getting stuck in traffic \n",
      "7 Bad day. Seems like my staying up late for work these past few days has finally caught up \n",
      "8 Ateneo wins over La Salle...ONE BIG FIGHT! :)\n",
      "9 urlLink Alleluia ! Last weekend was a whirlwind. Woke up early for a wedding and twas my f\n"
     ]
    }
   ],
   "source": [
    "# Compute document similarity using LSA components\n",
    "similarity = np.asarray(np.asmatrix(lines_lsa) * np.asmatrix(lines_lsa).T)\n",
    "#Only taking the first 10 sentences\n",
    "sim_matrix=pd.DataFrame(similarity,index=df['post']).iloc[0:10,0:10]\n",
    "#Making a plot\n",
    "ax = sns.heatmap(sim_matrix,yticklabels=range(10))\n",
    "plt.show()\n",
    "\n",
    "#Generating a key for the plot.\n",
    "print('Key:')\n",
    "for i in range(10):\n",
    "    print(i,sim_matrix.index[i][:90])"
   ]
  },
  {
   "cell_type": "code",
   "execution_count": 66,
   "metadata": {},
   "outputs": [
    {
     "name": "stdout",
     "output_type": "stream",
     "text": [
      "(6121, 6121) (6121, 1697)\n"
     ]
    }
   ],
   "source": [
    "print(similarity.shape, df.shape)\n"
   ]
  },
  {
   "cell_type": "code",
   "execution_count": 67,
   "metadata": {},
   "outputs": [
    {
     "data": {
      "text/html": [
       "<div>\n",
       "<style scoped>\n",
       "    .dataframe tbody tr th:only-of-type {\n",
       "        vertical-align: middle;\n",
       "    }\n",
       "\n",
       "    .dataframe tbody tr th {\n",
       "        vertical-align: top;\n",
       "    }\n",
       "\n",
       "    .dataframe thead th {\n",
       "        text-align: right;\n",
       "    }\n",
       "</style>\n",
       "<table border=\"1\" class=\"dataframe\">\n",
       "  <thead>\n",
       "    <tr style=\"text-align: right;\">\n",
       "      <th></th>\n",
       "      <th>author_id</th>\n",
       "      <th>gender</th>\n",
       "      <th>age</th>\n",
       "      <th>post</th>\n",
       "      <th>parsed</th>\n",
       "    </tr>\n",
       "  </thead>\n",
       "  <tbody>\n",
       "    <tr>\n",
       "      <th>0</th>\n",
       "      <td>1979283</td>\n",
       "      <td>1</td>\n",
       "      <td>27</td>\n",
       "      <td>funny how 10 minutes seem like forever...i nee...</td>\n",
       "      <td>(funny, how, 10, minutes, seem, like, forever,...</td>\n",
       "    </tr>\n",
       "    <tr>\n",
       "      <th>1</th>\n",
       "      <td>1979283</td>\n",
       "      <td>1</td>\n",
       "      <td>27</td>\n",
       "      <td>Had problems posting again. Thanks to the peop...</td>\n",
       "      <td>(Had, problems, posting, again, ., Thanks, to,...</td>\n",
       "    </tr>\n",
       "    <tr>\n",
       "      <th>2</th>\n",
       "      <td>1979283</td>\n",
       "      <td>1</td>\n",
       "      <td>27</td>\n",
       "      <td>Finally got this to work..so here's my first w...</td>\n",
       "      <td>(Finally, got, this, to, work, .., so, here, '...</td>\n",
       "    </tr>\n",
       "  </tbody>\n",
       "</table>\n",
       "</div>"
      ],
      "text/plain": [
       "  author_id  gender age                                               post  \\\n",
       "0   1979283       1  27  funny how 10 minutes seem like forever...i nee...   \n",
       "1   1979283       1  27  Had problems posting again. Thanks to the peop...   \n",
       "2   1979283       1  27  Finally got this to work..so here's my first w...   \n",
       "\n",
       "                                              parsed  \n",
       "0  (funny, how, 10, minutes, seem, like, forever,...  \n",
       "1  (Had, problems, posting, again, ., Thanks, to,...  \n",
       "2  (Finally, got, this, to, work, .., so, here, '...  "
      ]
     },
     "execution_count": 67,
     "metadata": {},
     "output_type": "execute_result"
    }
   ],
   "source": [
    "df.iloc[:3,:5]"
   ]
  },
  {
   "cell_type": "code",
   "execution_count": 68,
   "metadata": {},
   "outputs": [],
   "source": [
    "# add the features back to the training and test sets\n",
    "\n",
    "X_train = X_train.join(df.iloc[:,200:])\n",
    "X_test = X_test.join(df.iloc[:,200:])"
   ]
  },
  {
   "cell_type": "markdown",
   "metadata": {},
   "source": [
    "## models\n",
    "\n",
    "a - gradient boosting"
   ]
  },
  {
   "cell_type": "code",
   "execution_count": 69,
   "metadata": {},
   "outputs": [],
   "source": [
    "from sklearn.model_selection import cross_val_score"
   ]
  },
  {
   "cell_type": "code",
   "execution_count": 70,
   "metadata": {},
   "outputs": [],
   "source": [
    "from sklearn import ensemble"
   ]
  },
  {
   "cell_type": "code",
   "execution_count": 71,
   "metadata": {},
   "outputs": [],
   "source": [
    "#X_train_smaller = withbin.drop(['post','parsed'], 1)\n",
    "#y_train\n",
    "\n",
    "# training on smaller portions of X_train so I can test it on itself\n",
    "\n",
    "X_train_smaller, X_test_smaller, y_train_smaller, y_test_smaller = train_test_split(X_train,\n",
    "                                                                y_train, test_size=.25)"
   ]
  },
  {
   "cell_type": "code",
   "execution_count": 72,
   "metadata": {},
   "outputs": [],
   "source": [
    "# with defaults - Training set score: 0.00846262341325811\n",
    "#Test set score: 0.004739336492890996\n",
    "\n",
    "clf = ensemble.GradientBoostingClassifier(n_estimators=200)\n"
   ]
  },
  {
   "cell_type": "code",
   "execution_count": 73,
   "metadata": {},
   "outputs": [
    {
     "data": {
      "text/plain": [
       "GradientBoostingClassifier(criterion='friedman_mse', init=None,\n",
       "              learning_rate=0.1, loss='deviance', max_depth=3,\n",
       "              max_features=None, max_leaf_nodes=None,\n",
       "              min_impurity_decrease=0.0, min_impurity_split=None,\n",
       "              min_samples_leaf=1, min_samples_split=2,\n",
       "              min_weight_fraction_leaf=0.0, n_estimators=200,\n",
       "              presort='auto', random_state=None, subsample=1.0, verbose=0,\n",
       "              warm_start=False)"
      ]
     },
     "execution_count": 73,
     "metadata": {},
     "output_type": "execute_result"
    }
   ],
   "source": [
    "clf.fit(X_train_smaller, y_train_smaller)\n"
   ]
  },
  {
   "cell_type": "code",
   "execution_count": 74,
   "metadata": {},
   "outputs": [],
   "source": [
    "training_score = clf.score(X_train_smaller, y_train_smaller)"
   ]
  },
  {
   "cell_type": "code",
   "execution_count": 75,
   "metadata": {},
   "outputs": [],
   "source": [
    "# need to get the clusters before i can run this\n",
    "testing_score = clf.score(X_test_smaller, y_test_smaller)\n"
   ]
  },
  {
   "cell_type": "code",
   "execution_count": 76,
   "metadata": {},
   "outputs": [
    {
     "name": "stdout",
     "output_type": "stream",
     "text": [
      "Training set score: 0.9837303893085415\n",
      "\n",
      "Test set score: 0.6019163763066202\n"
     ]
    }
   ],
   "source": [
    "print('Training set score:', training_score)\n",
    "print('\\nTest set score:', testing_score)"
   ]
  },
  {
   "cell_type": "code",
   "execution_count": 77,
   "metadata": {
    "scrolled": true
   },
   "outputs": [
    {
     "name": "stderr",
     "output_type": "stream",
     "text": [
      "/anaconda3/lib/python3.6/site-packages/sklearn/model_selection/_split.py:605: Warning: The least populated class in y has only 1 members, which is too few. The minimum number of members in any class cannot be less than n_splits=5.\n",
      "  % (min_groups, self.n_splits)), Warning)\n"
     ]
    },
    {
     "name": "stdout",
     "output_type": "stream",
     "text": [
      "Accuracy: 0.65 (+/- 0.07)\n"
     ]
    }
   ],
   "source": [
    "scores = cross_val_score(clf, X_train,y_train,cv=5)\n",
    "\n",
    "print(\"Accuracy: %0.2f (+/- %0.2f)\" % (scores.mean(), scores.std() * 2))"
   ]
  },
  {
   "cell_type": "code",
   "execution_count": 78,
   "metadata": {},
   "outputs": [
    {
     "name": "stderr",
     "output_type": "stream",
     "text": [
      "/anaconda3/lib/python3.6/site-packages/sklearn/model_selection/_split.py:605: Warning: The least populated class in y has only 1 members, which is too few. The minimum number of members in any class cannot be less than n_splits=5.\n",
      "  % (min_groups, self.n_splits)), Warning)\n"
     ]
    },
    {
     "name": "stdout",
     "output_type": "stream",
     "text": [
      "Accuracy: 0.64 (+/- 0.08)\n"
     ]
    }
   ],
   "source": [
    "scores_clf = cross_val_score(clf,X_train_smaller,y_train_smaller,cv=5)\n",
    "\n",
    "print(\"Accuracy: %0.2f (+/- %0.2f)\"% (scores_clf.mean(), scores_clf.std() *2))"
   ]
  },
  {
   "cell_type": "markdown",
   "metadata": {},
   "source": [
    "b - logistic regression"
   ]
  },
  {
   "cell_type": "code",
   "execution_count": 79,
   "metadata": {},
   "outputs": [],
   "source": [
    "from sklearn.linear_model import LogisticRegression"
   ]
  },
  {
   "cell_type": "code",
   "execution_count": 80,
   "metadata": {},
   "outputs": [],
   "source": [
    "lr = LogisticRegression()\n",
    "\n",
    "train = lr.fit(X_train_smaller, y_train_smaller)\n"
   ]
  },
  {
   "cell_type": "code",
   "execution_count": 81,
   "metadata": {},
   "outputs": [
    {
     "data": {
      "text/plain": [
       "0.9947704822777454"
      ]
     },
     "execution_count": 81,
     "metadata": {},
     "output_type": "execute_result"
    }
   ],
   "source": [
    "lr.score(X_train_smaller,y_train_smaller)"
   ]
  },
  {
   "cell_type": "code",
   "execution_count": 82,
   "metadata": {},
   "outputs": [
    {
     "data": {
      "text/plain": [
       "0.7421602787456446"
      ]
     },
     "execution_count": 82,
     "metadata": {},
     "output_type": "execute_result"
    }
   ],
   "source": [
    "lr.score(X_test_smaller, y_test_smaller)"
   ]
  },
  {
   "cell_type": "code",
   "execution_count": 83,
   "metadata": {},
   "outputs": [
    {
     "name": "stderr",
     "output_type": "stream",
     "text": [
      "/anaconda3/lib/python3.6/site-packages/sklearn/model_selection/_split.py:605: Warning: The least populated class in y has only 1 members, which is too few. The minimum number of members in any class cannot be less than n_splits=10.\n",
      "  % (min_groups, self.n_splits)), Warning)\n"
     ]
    },
    {
     "name": "stdout",
     "output_type": "stream",
     "text": [
      "Accuracy: 0.69 (+/- 0.31)\n"
     ]
    }
   ],
   "source": [
    "scores_lr_ts = cross_val_score(lr, X_test_smaller,y_test_smaller,cv=10)\n",
    "\n",
    "print(\"Accuracy: %0.2f (+/- %0.2f)\" % (scores_lr_ts.mean(), scores_lr_ts.std() * 2))"
   ]
  },
  {
   "cell_type": "markdown",
   "metadata": {},
   "source": [
    "c. random forest"
   ]
  },
  {
   "cell_type": "code",
   "execution_count": 84,
   "metadata": {},
   "outputs": [
    {
     "data": {
      "text/plain": [
       "RandomForestClassifier(bootstrap=True, class_weight=None, criterion='gini',\n",
       "            max_depth=None, max_features='auto', max_leaf_nodes=None,\n",
       "            min_impurity_decrease=0.0, min_impurity_split=None,\n",
       "            min_samples_leaf=1, min_samples_split=2,\n",
       "            min_weight_fraction_leaf=0.0, n_estimators=10, n_jobs=1,\n",
       "            oob_score=False, random_state=None, verbose=0,\n",
       "            warm_start=False)"
      ]
     },
     "execution_count": 84,
     "metadata": {},
     "output_type": "execute_result"
    }
   ],
   "source": [
    "rfc = ensemble.RandomForestClassifier()\n",
    "\n",
    "rfc.fit(X_train_smaller,y_train_smaller)"
   ]
  },
  {
   "cell_type": "code",
   "execution_count": 85,
   "metadata": {},
   "outputs": [],
   "source": [
    "train = rfc.score(X_train_smaller,y_train_smaller)"
   ]
  },
  {
   "cell_type": "code",
   "execution_count": 86,
   "metadata": {},
   "outputs": [],
   "source": [
    "test = rfc.score(X_test_smaller,y_test_smaller)"
   ]
  },
  {
   "cell_type": "code",
   "execution_count": 87,
   "metadata": {},
   "outputs": [
    {
     "name": "stdout",
     "output_type": "stream",
     "text": [
      "Training set score: 0.9985473561882626\n",
      "\n",
      "Test set score: 0.5766550522648084\n"
     ]
    }
   ],
   "source": [
    "print('Training set score:', train)\n",
    "print('\\nTest set score:', test)"
   ]
  },
  {
   "cell_type": "code",
   "execution_count": 88,
   "metadata": {},
   "outputs": [
    {
     "name": "stderr",
     "output_type": "stream",
     "text": [
      "/anaconda3/lib/python3.6/site-packages/sklearn/model_selection/_split.py:605: Warning: The least populated class in y has only 1 members, which is too few. The minimum number of members in any class cannot be less than n_splits=10.\n",
      "  % (min_groups, self.n_splits)), Warning)\n"
     ]
    },
    {
     "name": "stdout",
     "output_type": "stream",
     "text": [
      "Accuracy: 0.50 (+/- 0.33)\n"
     ]
    }
   ],
   "source": [
    "scores_rfc = cross_val_score(rfc, X_test_smaller,y_test_smaller,cv=10)\n",
    "\n",
    "print(\"Accuracy: %0.2f (+/- %0.2f)\" % (scores_rfc.mean(), scores_rfc.std() * 2))"
   ]
  },
  {
   "cell_type": "markdown",
   "metadata": {},
   "source": [
    "# Part 5 - back to holdout group\n",
    "\n",
    "Lastly return to your holdout group. Does your clustering on those members perform as you'd expect? Have your clusters remained stable or changed dramatically? What about your model? Is it's performance consistent?\n",
    "\n",
    "### clustering on holdout group\n",
    "\n",
    "first i need to normalize the data"
   ]
  },
  {
   "cell_type": "code",
   "execution_count": 89,
   "metadata": {},
   "outputs": [],
   "source": [
    "X_test_norm = normalize(X_test)"
   ]
  },
  {
   "cell_type": "markdown",
   "metadata": {},
   "source": [
    "K Means"
   ]
  },
  {
   "cell_type": "code",
   "execution_count": 90,
   "metadata": {},
   "outputs": [
    {
     "data": {
      "image/png": "[encoded data removed]",
      "text/plain": [
       "<Figure size 432x288 with 1 Axes>"
      ]
     },
     "metadata": {},
     "output_type": "display_data"
    },
    {
     "name": "stdout",
     "output_type": "stream",
     "text": [
      "Time: 1.52996826171875 seconds \n",
      "Comparing k-means clusters against the data:\n",
      "author_id  1090547  1110391  1135724  1197086  1363719  1486619  1496664  \\\n",
      "row_0                                                                      \n",
      "0                0        9        8        1       17       11       15   \n",
      "1                0        0        0        0        1        0        3   \n",
      "2                1        5        2        0        9        0        4   \n",
      "\n",
      "author_id  1533236  1594483  1627914  ...   4293254  4293657  4305123  \\\n",
      "row_0                                 ...                               \n",
      "0                7       13       17  ...         3        3        2   \n",
      "1                0        1        1  ...         0        0        0   \n",
      "2                0       26        3  ...         2        0        0   \n",
      "\n",
      "author_id  4322781  4323865  4325889  574985  579034  851693  9289  \n",
      "row_0                                                               \n",
      "0                1        1        3       9      26       0    11  \n",
      "1                0        0        0       0       6       0     2  \n",
      "2                0        0        0       0      23       1    12  \n",
      "\n",
      "[3 rows x 195 columns]\n"
     ]
    }
   ],
   "source": [
    "start = time()\n",
    "# Calculate predicted values.\n",
    "y_pred = KMeans(n_clusters=3, random_state=42).fit_predict(X_test_norm)\n",
    "\n",
    "# Plot the solution.\n",
    "plt.scatter(X_test_norm[:, 0], X_test_norm[:, 1], c=y_pred)\n",
    "plt.show()\n",
    "\n",
    "print('Time: {} seconds '.format(time()-start))\n",
    "# Check the solution against the data.\n",
    "print('Comparing k-means clusters against the data:')\n",
    "print(pd.crosstab(y_pred, y_test))\n",
    "\n",
    "# going to add the info back into the dataframe later\n",
    "kmeans_clusters = y_pred"
   ]
  },
  {
   "cell_type": "markdown",
   "metadata": {},
   "source": [
    "Mean shift"
   ]
  },
  {
   "cell_type": "code",
   "execution_count": 91,
   "metadata": {},
   "outputs": [
    {
     "name": "stdout",
     "output_type": "stream",
     "text": [
      "Number of estimated clusters: 2\n"
     ]
    },
    {
     "data": {
      "image/png": "[encoded data removed]",
      "text/plain": [
       "<Figure size 432x288 with 1 Axes>"
      ]
     },
     "metadata": {},
     "output_type": "display_data"
    },
    {
     "name": "stdout",
     "output_type": "stream",
     "text": [
      "Comparing the assigned categories to the ones in the data:\n",
      "col_0       0  1\n",
      "author_id       \n",
      "1090547     1  0\n",
      "1110391    14  0\n",
      "1135724    10  0\n",
      "1197086     1  0\n",
      "1363719    27  0\n",
      "1486619    11  0\n",
      "1496664    22  0\n",
      "1533236     7  0\n",
      "1594483    40  0\n",
      "1627914    21  0\n",
      "1633534    66  0\n",
      "1695621     5  0\n",
      "1716133    13  0\n",
      "1725978    14  0\n",
      "1730043     4  0\n"
     ]
    }
   ],
   "source": [
    "ms.fit(X_test_norm)\n",
    "\n",
    "# Extract cluster assignments for each data point.\n",
    "labels = ms.labels_\n",
    "\n",
    "# Coordinates of the cluster centers.\n",
    "cluster_centers = ms.cluster_centers_\n",
    "\n",
    "# Count our clusters.\n",
    "n_clusters_ = len(np.unique(labels))\n",
    "\n",
    "print(\"Number of estimated clusters: {}\".format(n_clusters_))\n",
    "\n",
    "plt.scatter(X_test_norm[:, 0], X_test_norm[:, 1], c=labels)\n",
    "plt.show()\n",
    "\n",
    "print('Comparing the assigned categories to the ones in the data:')\n",
    "print(pd.crosstab(y_test,labels).head(15))\n"
   ]
  },
  {
   "cell_type": "code",
   "execution_count": 92,
   "metadata": {},
   "outputs": [],
   "source": [
    "clusters = ms.labels_.tolist()"
   ]
  },
  {
   "cell_type": "code",
   "execution_count": null,
   "metadata": {},
   "outputs": [],
   "source": []
  },
  {
   "cell_type": "code",
   "execution_count": 93,
   "metadata": {},
   "outputs": [],
   "source": [
    "# add the clusters as features for the next step\n",
    "\n",
    "X_test['cluster'] = clusters\n",
    "X_test['kmeans_cluster'] = kmeans_clusters"
   ]
  },
  {
   "cell_type": "markdown",
   "metadata": {},
   "source": [
    "## modelling\n",
    "\n",
    "same steps to add the features, then using the previously fit models on the holdout data to see how it works"
   ]
  },
  {
   "cell_type": "code",
   "execution_count": 94,
   "metadata": {},
   "outputs": [],
   "source": [
    "#X_test.columns.values"
   ]
  },
  {
   "cell_type": "markdown",
   "metadata": {},
   "source": [
    "The model below won't work because a column is missing. Let's see what it is and add it if that is feasible."
   ]
  },
  {
   "cell_type": "code",
   "execution_count": 95,
   "metadata": {},
   "outputs": [],
   "source": [
    "#test_cols = X_test_bin.columns.values\n",
    "#with_cols = withbin.columns.values\n",
    "\n",
    "#for col in with_cols:\n",
    "#    if col not in test_cols:\n",
    "#        print(col)"
   ]
  },
  {
   "cell_type": "code",
   "execution_count": 96,
   "metadata": {},
   "outputs": [],
   "source": [
    "# X_test_bin['industry_Advertising'] = 0"
   ]
  },
  {
   "cell_type": "markdown",
   "metadata": {},
   "source": [
    "gradient boosting\n"
   ]
  },
  {
   "cell_type": "code",
   "execution_count": 97,
   "metadata": {},
   "outputs": [
    {
     "name": "stdout",
     "output_type": "stream",
     "text": [
      "Holdout score: 0.5858915741345526\n"
     ]
    }
   ],
   "source": [
    "new_testing_score = clf.score(X_test, y_test)\n",
    "\n",
    "print('Holdout score:', new_testing_score)"
   ]
  },
  {
   "cell_type": "code",
   "execution_count": 98,
   "metadata": {},
   "outputs": [
    {
     "name": "stderr",
     "output_type": "stream",
     "text": [
      "/anaconda3/lib/python3.6/site-packages/sklearn/model_selection/_split.py:605: Warning: The least populated class in y has only 1 members, which is too few. The minimum number of members in any class cannot be less than n_splits=10.\n",
      "  % (min_groups, self.n_splits)), Warning)\n"
     ]
    },
    {
     "name": "stdout",
     "output_type": "stream",
     "text": [
      "Accuracy: 0.60 (+/-  0.23)\n"
     ]
    }
   ],
   "source": [
    "scores_gb = cross_val_score(clf,X_test,y_test,cv=10)\n",
    "\n",
    "print(\"Accuracy: %0.2f (+/-  %0.2f)\" % (scores_gb.mean(), scores_gb.std()*2 ))"
   ]
  },
  {
   "cell_type": "markdown",
   "metadata": {},
   "source": [
    "logistic regression"
   ]
  },
  {
   "cell_type": "code",
   "execution_count": 99,
   "metadata": {},
   "outputs": [
    {
     "data": {
      "text/plain": [
       "0.7615937295885042"
      ]
     },
     "execution_count": 99,
     "metadata": {},
     "output_type": "execute_result"
    }
   ],
   "source": [
    "lr.score(X_test, y_test)"
   ]
  },
  {
   "cell_type": "code",
   "execution_count": 100,
   "metadata": {},
   "outputs": [
    {
     "name": "stderr",
     "output_type": "stream",
     "text": [
      "/anaconda3/lib/python3.6/site-packages/sklearn/model_selection/_split.py:605: Warning: The least populated class in y has only 1 members, which is too few. The minimum number of members in any class cannot be less than n_splits=10.\n",
      "  % (min_groups, self.n_splits)), Warning)\n"
     ]
    },
    {
     "name": "stdout",
     "output_type": "stream",
     "text": [
      "Accuracy: 0.70 (+/- 0.27)\n"
     ]
    }
   ],
   "source": [
    "lr_cv = cross_val_score(lr,X_test,y_test,cv=10)\n",
    "\n",
    "print(\"Accuracy: %0.2f (+/- %0.2f)\" % (lr_cv.mean(), lr_cv.std() * 2 ))"
   ]
  },
  {
   "cell_type": "markdown",
   "metadata": {},
   "source": [
    "random forest"
   ]
  },
  {
   "cell_type": "code",
   "execution_count": 101,
   "metadata": {},
   "outputs": [
    {
     "data": {
      "text/plain": [
       "0.4951012410189419"
      ]
     },
     "execution_count": 101,
     "metadata": {},
     "output_type": "execute_result"
    }
   ],
   "source": [
    "rfc.score(X_test,y_test)"
   ]
  },
  {
   "cell_type": "code",
   "execution_count": 102,
   "metadata": {},
   "outputs": [
    {
     "name": "stderr",
     "output_type": "stream",
     "text": [
      "/anaconda3/lib/python3.6/site-packages/sklearn/model_selection/_split.py:605: Warning: The least populated class in y has only 1 members, which is too few. The minimum number of members in any class cannot be less than n_splits=10.\n",
      "  % (min_groups, self.n_splits)), Warning)\n"
     ]
    },
    {
     "name": "stdout",
     "output_type": "stream",
     "text": [
      "Accuracy: 0.51 (+/- 0.23)\n"
     ]
    }
   ],
   "source": [
    "scores_rfc_t = cross_val_score(rfc, X_test,y_test,cv=10)\n",
    "\n",
    "print(\"Accuracy: %0.2f (+/- %0.2f)\" % (scores_rfc_t.mean(), scores_rfc_t.std() * 2))"
   ]
  },
  {
   "cell_type": "code",
   "execution_count": 103,
   "metadata": {},
   "outputs": [],
   "source": [
    "# gradient boosting, logistic regression, random forest\n",
    "\n",
    "results = pd.DataFrame(index=[\"test score\", \"std\"])\n",
    "\n",
    "results[\"gradient boosting\"] = [scores_clf.mean(), scores_clf.std()*2]\n",
    "results[\"logistic regression\"] = [scores_lr_ts.mean(), scores_lr_ts.std()*2]\n",
    "results[\"random forest\"] = [scores_rfc.mean(), scores_rfc.std()*2]\n"
   ]
  },
  {
   "cell_type": "code",
   "execution_count": 104,
   "metadata": {},
   "outputs": [
    {
     "data": {
      "text/html": [
       "<div>\n",
       "<style scoped>\n",
       "    .dataframe tbody tr th:only-of-type {\n",
       "        vertical-align: middle;\n",
       "    }\n",
       "\n",
       "    .dataframe tbody tr th {\n",
       "        vertical-align: top;\n",
       "    }\n",
       "\n",
       "    .dataframe thead th {\n",
       "        text-align: right;\n",
       "    }\n",
       "</style>\n",
       "<table border=\"1\" class=\"dataframe\">\n",
       "  <thead>\n",
       "    <tr style=\"text-align: right;\">\n",
       "      <th></th>\n",
       "      <th>gradient boosting</th>\n",
       "      <th>logistic regression</th>\n",
       "      <th>random forest</th>\n",
       "    </tr>\n",
       "  </thead>\n",
       "  <tbody>\n",
       "    <tr>\n",
       "      <th>test score</th>\n",
       "      <td>0.636153</td>\n",
       "      <td>0.688228</td>\n",
       "      <td>0.504947</td>\n",
       "    </tr>\n",
       "    <tr>\n",
       "      <th>std</th>\n",
       "      <td>0.076750</td>\n",
       "      <td>0.311537</td>\n",
       "      <td>0.325635</td>\n",
       "    </tr>\n",
       "  </tbody>\n",
       "</table>\n",
       "</div>"
      ],
      "text/plain": [
       "            gradient boosting  logistic regression  random forest\n",
       "test score           0.636153             0.688228       0.504947\n",
       "std                  0.076750             0.311537       0.325635"
      ]
     },
     "execution_count": 104,
     "metadata": {},
     "output_type": "execute_result"
    }
   ],
   "source": [
    "results"
   ]
  },
  {
   "cell_type": "markdown",
   "metadata": {},
   "source": [
    "<hr width=\"50%\" />\n",
    "\n",
    "### Conclusion\n",
    "\n",
    "The clusters generated on the test group seem the most different when comparing the test group to the training group, possibly because the amount of data is so much less, and as a result the variance and distinct features are also less.\n",
    "\n",
    "The models are not especially great for both the training and testing groups. It looks like they are either overfit or have a lack of accuracy that is concerning and makes their usefulness questionable.\n",
    "\n",
    "When comparing clustering to modeling, in terms of classifying these texts, it appears like modelling is better for isolating specific features and would be good if you had an idea of what specific features would be most useful to generate, or if you had the patience to do that.\n",
    "\n",
    "Clustering on the other hand was approximately as accurate but didn't require knowing much about the contents of the posts in order to organize them by author.\n",
    "\n",
    "In consideration of that, I think in this case clustering was the best method, because it didn't require knowledge of the contents of the text. However, I imagine if someone did have an idea of the contexts of the text, they would be able to generate more specifically targeted features, and potentially in that case, modelling could perform significantly better.\n",
    "\n"
   ]
  },
  {
   "cell_type": "code",
   "execution_count": null,
   "metadata": {},
   "outputs": [],
   "source": []
  }
 ],
 "metadata": {
  "kernelspec": {
   "display_name": "Python 3",
   "language": "python",
   "name": "python3"
  },
  "language_info": {
   "codemirror_mode": {
    "name": "ipython",
    "version": 3
   },
   "file_extension": ".py",
   "mimetype": "text/x-python",
   "name": "python",
   "nbconvert_exporter": "python",
   "pygments_lexer": "ipython3",
   "version": "3.6.5"
  }
 },
 "nbformat": 4,
 "nbformat_minor": 2
}
